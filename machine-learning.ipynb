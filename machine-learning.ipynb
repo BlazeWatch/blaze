{
 "cells": [
  {
   "cell_type": "code",
   "execution_count": 3,
   "id": "initial_id",
   "metadata": {
    "ExecuteTime": {
     "end_time": "2023-08-08T01:02:24.969527600Z",
     "start_time": "2023-08-08T01:02:23.420926500Z"
    }
   },
   "outputs": [],
   "source": [
    "from dotenv import load_dotenv\n",
    "import os\n",
    "from sqlalchemy import create_engine, text as sql_text\n",
    "\n",
    "load_dotenv()\n",
    "\n",
    "conn = create_engine(\n",
    "    f\"postgresql://{os.getenv('PG_USER')}:{os.getenv('PG_PASSWORD')}@{os.getenv('PG_HOST')}/{os.getenv('PG_DBNAME')}\"\n",
    ").connect()"
   ]
  },
  {
   "cell_type": "code",
   "execution_count": 4,
   "id": "81b48a6520fbb521",
   "metadata": {
    "ExecuteTime": {
     "end_time": "2023-08-08T01:03:22.103091200Z",
     "start_time": "2023-08-08T01:02:24.951141500Z"
    },
    "collapsed": false,
    "jupyter": {
     "outputs_hidden": false
    }
   },
   "outputs": [],
   "source": [
    "import pandas as pd\n",
    " \n",
    "temp_readings = pd.read_sql_query(sql_text(\"SELECT * FROM public.temp_readings\"), conn)\n",
    "fire_alerts = pd.read_sql_query(sql_text(\"SELECT * FROM public.fire_alerts\"), conn)\n",
    "tweets = pd.read_sql_query(sql_text(\"SELECT * FROM public.tweets\"), conn)"
   ]
  },
  {
   "cell_type": "code",
   "execution_count": 6,
   "id": "c71d6df70b414169",
   "metadata": {
    "ExecuteTime": {
     "end_time": "2023-08-07T21:06:05.108081200Z",
     "start_time": "2023-08-07T21:06:05.098087500Z"
    },
    "collapsed": false,
    "jupyter": {
     "outputs_hidden": false
    }
   },
   "outputs": [
    {
     "data": {
      "text/html": [
       "<div>\n",
       "<style scoped>\n",
       "    .dataframe tbody tr th:only-of-type {\n",
       "        vertical-align: middle;\n",
       "    }\n",
       "\n",
       "    .dataframe tbody tr th {\n",
       "        vertical-align: top;\n",
       "    }\n",
       "\n",
       "    .dataframe thead th {\n",
       "        text-align: right;\n",
       "    }\n",
       "</style>\n",
       "<table border=\"1\" class=\"dataframe\">\n",
       "  <thead>\n",
       "    <tr style=\"text-align: right;\">\n",
       "      <th></th>\n",
       "      <th>day</th>\n",
       "      <th>xy</th>\n",
       "      <th>temperature</th>\n",
       "      <th>id</th>\n",
       "    </tr>\n",
       "  </thead>\n",
       "  <tbody>\n",
       "    <tr>\n",
       "      <th>0</th>\n",
       "      <td>1677</td>\n",
       "      <td>(24,0)</td>\n",
       "      <td>24</td>\n",
       "      <td>1509120</td>\n",
       "    </tr>\n",
       "    <tr>\n",
       "      <th>1</th>\n",
       "      <td>1677</td>\n",
       "      <td>(24,1)</td>\n",
       "      <td>10</td>\n",
       "      <td>1509121</td>\n",
       "    </tr>\n",
       "    <tr>\n",
       "      <th>2</th>\n",
       "      <td>1677</td>\n",
       "      <td>(24,2)</td>\n",
       "      <td>25</td>\n",
       "      <td>1509122</td>\n",
       "    </tr>\n",
       "    <tr>\n",
       "      <th>3</th>\n",
       "      <td>1677</td>\n",
       "      <td>(24,3)</td>\n",
       "      <td>29</td>\n",
       "      <td>1509123</td>\n",
       "    </tr>\n",
       "    <tr>\n",
       "      <th>4</th>\n",
       "      <td>1677</td>\n",
       "      <td>(24,4)</td>\n",
       "      <td>14</td>\n",
       "      <td>1509124</td>\n",
       "    </tr>\n",
       "    <tr>\n",
       "      <th>...</th>\n",
       "      <td>...</td>\n",
       "      <td>...</td>\n",
       "      <td>...</td>\n",
       "      <td>...</td>\n",
       "    </tr>\n",
       "    <tr>\n",
       "      <th>2294094</th>\n",
       "      <td>1677</td>\n",
       "      <td>(23,25)</td>\n",
       "      <td>24</td>\n",
       "      <td>1509115</td>\n",
       "    </tr>\n",
       "    <tr>\n",
       "      <th>2294095</th>\n",
       "      <td>1677</td>\n",
       "      <td>(23,26)</td>\n",
       "      <td>13</td>\n",
       "      <td>1509116</td>\n",
       "    </tr>\n",
       "    <tr>\n",
       "      <th>2294096</th>\n",
       "      <td>1677</td>\n",
       "      <td>(23,27)</td>\n",
       "      <td>22</td>\n",
       "      <td>1509117</td>\n",
       "    </tr>\n",
       "    <tr>\n",
       "      <th>2294097</th>\n",
       "      <td>1677</td>\n",
       "      <td>(23,28)</td>\n",
       "      <td>14</td>\n",
       "      <td>1509118</td>\n",
       "    </tr>\n",
       "    <tr>\n",
       "      <th>2294098</th>\n",
       "      <td>1677</td>\n",
       "      <td>(23,29)</td>\n",
       "      <td>24</td>\n",
       "      <td>1509119</td>\n",
       "    </tr>\n",
       "  </tbody>\n",
       "</table>\n",
       "<p>2294099 rows × 4 columns</p>\n",
       "</div>"
      ],
      "text/plain": [
       "          day       xy  temperature       id\n",
       "0        1677   (24,0)           24  1509120\n",
       "1        1677   (24,1)           10  1509121\n",
       "2        1677   (24,2)           25  1509122\n",
       "3        1677   (24,3)           29  1509123\n",
       "4        1677   (24,4)           14  1509124\n",
       "...       ...      ...          ...      ...\n",
       "2294094  1677  (23,25)           24  1509115\n",
       "2294095  1677  (23,26)           13  1509116\n",
       "2294096  1677  (23,27)           22  1509117\n",
       "2294097  1677  (23,28)           14  1509118\n",
       "2294098  1677  (23,29)           24  1509119\n",
       "\n",
       "[2294099 rows x 4 columns]"
      ]
     },
     "execution_count": 6,
     "metadata": {},
     "output_type": "execute_result"
    }
   ],
   "source": [
    "temp_readings"
   ]
  },
  {
   "cell_type": "code",
   "execution_count": 7,
   "id": "f4ad1228c21136d6",
   "metadata": {
    "ExecuteTime": {
     "end_time": "2023-08-07T21:06:05.125590100Z",
     "start_time": "2023-08-07T21:06:05.114593300Z"
    },
    "collapsed": false,
    "jupyter": {
     "outputs_hidden": false
    }
   },
   "outputs": [
    {
     "data": {
      "text/html": [
       "<div>\n",
       "<style scoped>\n",
       "    .dataframe tbody tr th:only-of-type {\n",
       "        vertical-align: middle;\n",
       "    }\n",
       "\n",
       "    .dataframe tbody tr th {\n",
       "        vertical-align: top;\n",
       "    }\n",
       "\n",
       "    .dataframe thead th {\n",
       "        text-align: right;\n",
       "    }\n",
       "</style>\n",
       "<table border=\"1\" class=\"dataframe\">\n",
       "  <thead>\n",
       "    <tr style=\"text-align: right;\">\n",
       "      <th></th>\n",
       "      <th>day</th>\n",
       "      <th>xy</th>\n",
       "      <th>score</th>\n",
       "      <th>content</th>\n",
       "      <th>id</th>\n",
       "    </tr>\n",
       "  </thead>\n",
       "  <tbody>\n",
       "    <tr>\n",
       "      <th>0</th>\n",
       "      <td>2548</td>\n",
       "      <td>(4,21)</td>\n",
       "      <td>None</td>\n",
       "      <td>drew near the shore endeavoured to steer so th...</td>\n",
       "      <td>1709920</td>\n",
       "    </tr>\n",
       "    <tr>\n",
       "      <th>1</th>\n",
       "      <td>2548</td>\n",
       "      <td>(4,22)</td>\n",
       "      <td>None</td>\n",
       "      <td>only we of the cabin party who perceived the d...</td>\n",
       "      <td>1709921</td>\n",
       "    </tr>\n",
       "    <tr>\n",
       "      <th>2</th>\n",
       "      <td>2548</td>\n",
       "      <td>(4,22)</td>\n",
       "      <td>None</td>\n",
       "      <td>to night if you had not slain their deadly foe...</td>\n",
       "      <td>1709922</td>\n",
       "    </tr>\n",
       "    <tr>\n",
       "      <th>3</th>\n",
       "      <td>2548</td>\n",
       "      <td>(4,22)</td>\n",
       "      <td>None</td>\n",
       "      <td>by rope suspended from the branches as sailors...</td>\n",
       "      <td>1709923</td>\n",
       "    </tr>\n",
       "    <tr>\n",
       "      <th>4</th>\n",
       "      <td>2548</td>\n",
       "      <td>(4,22)</td>\n",
       "      <td>None</td>\n",
       "      <td>and donations to carry out its mission of incr...</td>\n",
       "      <td>1709924</td>\n",
       "    </tr>\n",
       "    <tr>\n",
       "      <th>...</th>\n",
       "      <td>...</td>\n",
       "      <td>...</td>\n",
       "      <td>...</td>\n",
       "      <td>...</td>\n",
       "      <td>...</td>\n",
       "    </tr>\n",
       "    <tr>\n",
       "      <th>1711158</th>\n",
       "      <td>2548</td>\n",
       "      <td>(4,15)</td>\n",
       "      <td>None</td>\n",
       "      <td>ran few steps past me towards the hamlet cryin...</td>\n",
       "      <td>1709915</td>\n",
       "    </tr>\n",
       "    <tr>\n",
       "      <th>1711159</th>\n",
       "      <td>2548</td>\n",
       "      <td>(4,21)</td>\n",
       "      <td>None</td>\n",
       "      <td>there we pulled easily by silver directions no...</td>\n",
       "      <td>1709916</td>\n",
       "    </tr>\n",
       "    <tr>\n",
       "      <th>1711160</th>\n",
       "      <td>2548</td>\n",
       "      <td>(4,21)</td>\n",
       "      <td>None</td>\n",
       "      <td>brush for it in earnest and looked to my primi...</td>\n",
       "      <td>1709917</td>\n",
       "    </tr>\n",
       "    <tr>\n",
       "      <th>1711161</th>\n",
       "      <td>2548</td>\n",
       "      <td>(4,21)</td>\n",
       "      <td>None</td>\n",
       "      <td>him know as well as could the meaning of what ...</td>\n",
       "      <td>1709918</td>\n",
       "    </tr>\n",
       "    <tr>\n",
       "      <th>1711162</th>\n",
       "      <td>2548</td>\n",
       "      <td>(4,21)</td>\n",
       "      <td>None</td>\n",
       "      <td>called eagerly for help to the other but the c...</td>\n",
       "      <td>1709919</td>\n",
       "    </tr>\n",
       "  </tbody>\n",
       "</table>\n",
       "<p>1711163 rows × 5 columns</p>\n",
       "</div>"
      ],
      "text/plain": [
       "          day      xy score  \\\n",
       "0        2548  (4,21)  None   \n",
       "1        2548  (4,22)  None   \n",
       "2        2548  (4,22)  None   \n",
       "3        2548  (4,22)  None   \n",
       "4        2548  (4,22)  None   \n",
       "...       ...     ...   ...   \n",
       "1711158  2548  (4,15)  None   \n",
       "1711159  2548  (4,21)  None   \n",
       "1711160  2548  (4,21)  None   \n",
       "1711161  2548  (4,21)  None   \n",
       "1711162  2548  (4,21)  None   \n",
       "\n",
       "                                                   content       id  \n",
       "0        drew near the shore endeavoured to steer so th...  1709920  \n",
       "1        only we of the cabin party who perceived the d...  1709921  \n",
       "2        to night if you had not slain their deadly foe...  1709922  \n",
       "3        by rope suspended from the branches as sailors...  1709923  \n",
       "4        and donations to carry out its mission of incr...  1709924  \n",
       "...                                                    ...      ...  \n",
       "1711158  ran few steps past me towards the hamlet cryin...  1709915  \n",
       "1711159  there we pulled easily by silver directions no...  1709916  \n",
       "1711160  brush for it in earnest and looked to my primi...  1709917  \n",
       "1711161  him know as well as could the meaning of what ...  1709918  \n",
       "1711162  called eagerly for help to the other but the c...  1709919  \n",
       "\n",
       "[1711163 rows x 5 columns]"
      ]
     },
     "execution_count": 7,
     "metadata": {},
     "output_type": "execute_result"
    }
   ],
   "source": [
    "tweets"
   ]
  },
  {
   "cell_type": "code",
   "execution_count": 8,
   "id": "e8fbc3e67193fbf6",
   "metadata": {
    "ExecuteTime": {
     "end_time": "2023-08-07T21:06:05.148432Z",
     "start_time": "2023-08-07T21:06:05.121591200Z"
    },
    "collapsed": false,
    "jupyter": {
     "outputs_hidden": false
    }
   },
   "outputs": [
    {
     "data": {
      "text/html": [
       "<div>\n",
       "<style scoped>\n",
       "    .dataframe tbody tr th:only-of-type {\n",
       "        vertical-align: middle;\n",
       "    }\n",
       "\n",
       "    .dataframe tbody tr th {\n",
       "        vertical-align: top;\n",
       "    }\n",
       "\n",
       "    .dataframe thead th {\n",
       "        text-align: right;\n",
       "    }\n",
       "</style>\n",
       "<table border=\"1\" class=\"dataframe\">\n",
       "  <thead>\n",
       "    <tr style=\"text-align: right;\">\n",
       "      <th></th>\n",
       "      <th>event_day</th>\n",
       "      <th>notification_day</th>\n",
       "      <th>xy</th>\n",
       "      <th>id</th>\n",
       "    </tr>\n",
       "  </thead>\n",
       "  <tbody>\n",
       "    <tr>\n",
       "      <th>0</th>\n",
       "      <td>29</td>\n",
       "      <td>32</td>\n",
       "      <td>(1,25)</td>\n",
       "      <td>0</td>\n",
       "    </tr>\n",
       "    <tr>\n",
       "      <th>1</th>\n",
       "      <td>34</td>\n",
       "      <td>37</td>\n",
       "      <td>(9,24)</td>\n",
       "      <td>1</td>\n",
       "    </tr>\n",
       "    <tr>\n",
       "      <th>2</th>\n",
       "      <td>38</td>\n",
       "      <td>41</td>\n",
       "      <td>(20,24)</td>\n",
       "      <td>2</td>\n",
       "    </tr>\n",
       "    <tr>\n",
       "      <th>3</th>\n",
       "      <td>39</td>\n",
       "      <td>42</td>\n",
       "      <td>(0,23)</td>\n",
       "      <td>3</td>\n",
       "    </tr>\n",
       "    <tr>\n",
       "      <th>4</th>\n",
       "      <td>39</td>\n",
       "      <td>42</td>\n",
       "      <td>(28,7)</td>\n",
       "      <td>4</td>\n",
       "    </tr>\n",
       "    <tr>\n",
       "      <th>...</th>\n",
       "      <td>...</td>\n",
       "      <td>...</td>\n",
       "      <td>...</td>\n",
       "      <td>...</td>\n",
       "    </tr>\n",
       "    <tr>\n",
       "      <th>5600</th>\n",
       "      <td>2332</td>\n",
       "      <td>2335</td>\n",
       "      <td>(27,7)</td>\n",
       "      <td>5600</td>\n",
       "    </tr>\n",
       "    <tr>\n",
       "      <th>5601</th>\n",
       "      <td>2333</td>\n",
       "      <td>2336</td>\n",
       "      <td>(0,2)</td>\n",
       "      <td>5601</td>\n",
       "    </tr>\n",
       "    <tr>\n",
       "      <th>5602</th>\n",
       "      <td>2334</td>\n",
       "      <td>2337</td>\n",
       "      <td>(13,9)</td>\n",
       "      <td>5602</td>\n",
       "    </tr>\n",
       "    <tr>\n",
       "      <th>5603</th>\n",
       "      <td>2340</td>\n",
       "      <td>2343</td>\n",
       "      <td>(2,17)</td>\n",
       "      <td>5603</td>\n",
       "    </tr>\n",
       "    <tr>\n",
       "      <th>5604</th>\n",
       "      <td>2340</td>\n",
       "      <td>2345</td>\n",
       "      <td>(22,22)</td>\n",
       "      <td>5604</td>\n",
       "    </tr>\n",
       "  </tbody>\n",
       "</table>\n",
       "<p>5605 rows × 4 columns</p>\n",
       "</div>"
      ],
      "text/plain": [
       "      event_day  notification_day       xy    id\n",
       "0            29                32   (1,25)     0\n",
       "1            34                37   (9,24)     1\n",
       "2            38                41  (20,24)     2\n",
       "3            39                42   (0,23)     3\n",
       "4            39                42   (28,7)     4\n",
       "...         ...               ...      ...   ...\n",
       "5600       2332              2335   (27,7)  5600\n",
       "5601       2333              2336    (0,2)  5601\n",
       "5602       2334              2337   (13,9)  5602\n",
       "5603       2340              2343   (2,17)  5603\n",
       "5604       2340              2345  (22,22)  5604\n",
       "\n",
       "[5605 rows x 4 columns]"
      ]
     },
     "execution_count": 8,
     "metadata": {},
     "output_type": "execute_result"
    }
   ],
   "source": [
    "fire_alerts"
   ]
  },
  {
   "cell_type": "markdown",
   "id": "1b5c370b670e88b3",
   "metadata": {
    "collapsed": false,
    "jupyter": {
     "outputs_hidden": false
    }
   },
   "source": [
    "# Experiment #1: Predicting fire alerts using temperature readings\n",
    "Every sector at every day has a temperature reading, while only some sectors have messages. To start, we'll try to predict fire alerts on the day of using temperature readings only from the past 7 days."
   ]
  },
  {
   "cell_type": "code",
   "execution_count": 6,
   "id": "f21ac86e9d8cb78d",
   "metadata": {
    "ExecuteTime": {
     "end_time": "2023-08-07T18:45:50.183560100Z",
     "start_time": "2023-08-07T18:44:35.044092900Z"
    },
    "collapsed": false,
    "jupyter": {
     "outputs_hidden": false
    }
   },
   "outputs": [
    {
     "name": "stderr",
     "output_type": "stream",
     "text": [
      "100%|██████████| 900/900 [01:14<00:00, 12.02it/s]\n"
     ]
    }
   ],
   "source": [
    "from tqdm import tqdm\n",
    "\n",
    "def rolling_samples(series, window=7):\n",
    "    output = []\n",
    "    for i in range(window, len(series)):\n",
    "        sample = series[i-window:i].tolist()\n",
    "        output.append((sample, i))\n",
    "    return output\n",
    "\n",
    "samples = []\n",
    "for name, group in tqdm(temp_readings.groupby('xy')):\n",
    "    got_yes = False\n",
    "    group = group.sort_values('day')\n",
    "    events = fire_alerts[fire_alerts['xy'] == name]['event_day'].values\n",
    "    temps = rolling_samples(group['temperature'].set_axis(group['day']))\n",
    "    \n",
    "    for temp, i in temps:\n",
    "        samples.append((temp, 1 if i in events else 0))"
   ]
  },
  {
   "cell_type": "code",
   "execution_count": 7,
   "id": "201a2baeb5854335",
   "metadata": {
    "ExecuteTime": {
     "end_time": "2023-08-07T18:45:54.227000300Z",
     "start_time": "2023-08-07T18:45:54.221966900Z"
    },
    "collapsed": false,
    "jupyter": {
     "outputs_hidden": false
    }
   },
   "outputs": [
    {
     "data": {
      "text/plain": [
       "2287799"
      ]
     },
     "execution_count": 7,
     "metadata": {},
     "output_type": "execute_result"
    }
   ],
   "source": [
    "import numpy as np\n",
    "\n",
    "samples_x, samples_y = zip(*samples)\n",
    "samples_x, samples_y = np.array(samples_x), np.array(samples_y)\n",
    "\n",
    "len(samples_x)"
   ]
  },
  {
   "cell_type": "code",
   "execution_count": 8,
   "id": "8ec977a40ab5d01b",
   "metadata": {
    "ExecuteTime": {
     "end_time": "2023-08-07T03:05:26.197107300Z",
     "start_time": "2023-08-07T03:05:26.183111700Z"
    },
    "collapsed": false,
    "jupyter": {
     "outputs_hidden": false
    }
   },
   "outputs": [
    {
     "data": {
      "text/plain": [
       "array([[54, 47, 59, ..., 56, 54, 55],\n",
       "       [47, 59, 61, ..., 54, 55, 48],\n",
       "       [59, 61, 56, ..., 55, 48, 41],\n",
       "       ...,\n",
       "       [35, 20, 42, ..., 40, 47, 43],\n",
       "       [20, 42, 33, ..., 47, 43, 30],\n",
       "       [42, 33, 40, ..., 43, 30, 47]])"
      ]
     },
     "execution_count": 8,
     "metadata": {},
     "output_type": "execute_result"
    }
   ],
   "source": [
    "samples_x"
   ]
  },
  {
   "cell_type": "code",
   "execution_count": 9,
   "id": "cb704cce7821301c",
   "metadata": {
    "ExecuteTime": {
     "end_time": "2023-08-07T03:05:26.204108400Z",
     "start_time": "2023-08-07T03:05:26.192107700Z"
    },
    "collapsed": false,
    "jupyter": {
     "outputs_hidden": false
    }
   },
   "outputs": [
    {
     "data": {
      "text/plain": [
       "array([0, 0, 0, ..., 0, 0, 0])"
      ]
     },
     "execution_count": 9,
     "metadata": {},
     "output_type": "execute_result"
    }
   ],
   "source": [
    "samples_y"
   ]
  },
  {
   "cell_type": "code",
   "execution_count": 8,
   "id": "41c5d1d35e5ab140",
   "metadata": {
    "ExecuteTime": {
     "end_time": "2023-08-07T18:45:55.226496200Z",
     "start_time": "2023-08-07T18:45:54.229009700Z"
    },
    "collapsed": false,
    "jupyter": {
     "outputs_hidden": false
    }
   },
   "outputs": [],
   "source": [
    "from sklearn.model_selection import train_test_split\n",
    "\n",
    "train_x, test_x, train_y, test_y = train_test_split(samples_x, samples_y, test_size=0.2)"
   ]
  },
  {
   "cell_type": "code",
   "execution_count": 9,
   "id": "ba5aa9eac85f40b5",
   "metadata": {
    "ExecuteTime": {
     "end_time": "2023-08-07T18:45:55.906791Z",
     "start_time": "2023-08-07T18:45:55.232501400Z"
    },
    "collapsed": false,
    "jupyter": {
     "outputs_hidden": false
    }
   },
   "outputs": [
    {
     "data": {
      "image/png": "[encoded data removed]",
      "text/plain": [
       "<Figure size 1000x500 with 1 Axes>"
      ]
     },
     "metadata": {},
     "output_type": "display_data"
    }
   ],
   "source": [
    "# plot distribution of samples\n",
    "import matplotlib.pyplot as plt\n",
    "\n",
    "plt.figure(figsize=(10, 5))\n",
    "plt.bar(['No Fire', 'Fire'], [len(train_y[train_y == 0]), len(train_y[train_y == 1])])\n",
    "plt.title('Distribution of No Fire vs Fire Samples')\n",
    "plt.xlabel('Sample Type')\n",
    "plt.ylabel('Number of Samples')\n",
    "plt.yscale('log')\n",
    "plt.show()"
   ]
  },
  {
   "cell_type": "code",
   "execution_count": null,
   "id": "d0657aa324dca767",
   "metadata": {
    "collapsed": false,
    "jupyter": {
     "outputs_hidden": false
    }
   },
   "outputs": [],
   "source": [
    "from imblearn.combine import SMOTEENN\n",
    "from imblearn.over_sampling import SMOTE\n",
    "from imblearn.under_sampling import RandomUnderSampler\n",
    "\n",
    "# correct any imbalance before training\n",
    "# smoteenn = SMOTEENN()\n",
    "# train_x, train_y = smoteenn.fit_resample(train_x, train_y)\n",
    "\n",
    "smote = SMOTE()\n",
    "train_x, train_y = smote.fit_resample(train_x, train_y)\n",
    "\n",
    "# rus = RandomUnderSampler()\n",
    "# train_x, train_y = rus.fit_resample(train_x, train_y)"
   ]
  },
  {
   "cell_type": "code",
   "execution_count": 12,
   "id": "93a77a3fad37c36c",
   "metadata": {
    "ExecuteTime": {
     "end_time": "2023-08-07T03:05:27.800927400Z",
     "start_time": "2023-08-07T03:05:27.543173900Z"
    },
    "collapsed": false,
    "jupyter": {
     "outputs_hidden": false
    }
   },
   "outputs": [
    {
     "data": {
      "image/png": "[encoded data removed]",
      "text/plain": [
       "<Figure size 1000x500 with 1 Axes>"
      ]
     },
     "metadata": {},
     "output_type": "display_data"
    }
   ],
   "source": [
    "# let's plot after fixing it now\n",
    "plt.figure(figsize=(10, 5))\n",
    "plt.bar(['No Fire', 'Fire'], [len(train_y[train_y == 0]), len(train_y[train_y == 1])])\n",
    "plt.title('Distribution of No Fire vs Fire Samples')\n",
    "plt.xlabel('Sample Type')\n",
    "plt.ylabel('Number of Samples')\n",
    "plt.yscale('log')\n",
    "plt.show()"
   ]
  },
  {
   "cell_type": "code",
   "execution_count": 13,
   "id": "120a7e80fd1fb0a9",
   "metadata": {
    "ExecuteTime": {
     "end_time": "2023-08-07T03:05:27.801928300Z",
     "start_time": "2023-08-07T03:05:27.784932500Z"
    },
    "collapsed": false,
    "jupyter": {
     "outputs_hidden": false
    }
   },
   "outputs": [],
   "source": [
    "from sklearn.preprocessing import StandardScaler\n",
    "\n",
    "# function to preprocess our data\n",
    "def preprocess_train(x_data, y_data):\n",
    "    x_scaler = StandardScaler()\n",
    "    x_data = x_scaler.fit_transform(x_data)\n",
    "    y_data = np.array(pd.get_dummies(y_data))\n",
    "    return x_data, y_data, x_scaler\n",
    "\n",
    "def preprocess_test(x_data, y_data, x_scaler):\n",
    "    x_data = x_scaler.transform(x_data)\n",
    "    y_data = np.array(pd.get_dummies(y_data))\n",
    "    return x_data, y_data"
   ]
  },
  {
   "cell_type": "code",
   "execution_count": null,
   "id": "fdaff0a9a5b17c16",
   "metadata": {
    "collapsed": false,
    "jupyter": {
     "outputs_hidden": false
    }
   },
   "outputs": [],
   "source": [
    "import pickle\n",
    "\n",
    "train_x, train_y, scaler = preprocess_train(train_x, train_y)\n",
    "test_x, test_y = preprocess_test(test_x, test_y, scaler)\n",
    "\n",
    "# save the scaler for future use\n",
    "with open('scaler.pkl', 'wb') as f:\n",
    "    pickle.dump(scaler, f)"
   ]
  },
  {
   "cell_type": "code",
   "execution_count": 10,
   "id": "fb4ac1c35973b95e",
   "metadata": {
    "ExecuteTime": {
     "end_time": "2023-08-07T18:45:58.981244600Z",
     "start_time": "2023-08-07T18:45:55.890076600Z"
    },
    "collapsed": false,
    "jupyter": {
     "outputs_hidden": false
    }
   },
   "outputs": [
    {
     "name": "stderr",
     "output_type": "stream",
     "text": [
      "2023-08-07 14:45:56.637527: I tensorflow/core/platform/cpu_feature_guard.cc:182] This TensorFlow binary is optimized to use available CPU instructions in performance-critical operations.\n",
      "To enable the following instructions: AVX2 FMA, in other operations, rebuild TensorFlow with the appropriate compiler flags.\n",
      "2023-08-07 14:45:57.713962: W tensorflow/compiler/tf2tensorrt/utils/py_utils.cc:38] TF-TRT Warning: Could not find TensorRT\n"
     ]
    }
   ],
   "source": [
    "from keras import Sequential\n",
    "from keras.layers import Dense\n",
    "\n",
    "# implement a simple neural network\n",
    "def build_model(length_x):\n",
    "    model = Sequential([\n",
    "        Dense(512, activation='swish', input_shape=(length_x,)),\n",
    "        Dense(2, activation='softmax')\n",
    "    ])\n",
    "    \n",
    "    model.compile(optimizer='Adam', loss='categorical_crossentropy', metrics=['accuracy'])\n",
    "    return model"
   ]
  },
  {
   "cell_type": "code",
   "execution_count": 15,
   "id": "157ea45f87dd5d1e",
   "metadata": {
    "ExecuteTime": {
     "end_time": "2023-08-07T03:05:32.557223500Z",
     "start_time": "2023-08-07T03:05:30.358175700Z"
    },
    "collapsed": false,
    "jupyter": {
     "outputs_hidden": false
    }
   },
   "outputs": [
    {
     "name": "stdout",
     "output_type": "stream",
     "text": [
      "Epoch 1/100\n"
     ]
    },
    {
     "name": "stderr",
     "output_type": "stream",
     "text": [
      "2023-08-06 23:05:30.553495: I tensorflow/compiler/xla/stream_executor/cuda/cuda_gpu_executor.cc:981] could not open file to read NUMA node: /sys/bus/pci/devices/0000:01:00.0/numa_node\n",
      "Your kernel may have been built without NUMA support.\n",
      "2023-08-06 23:05:30.701504: I tensorflow/compiler/xla/stream_executor/cuda/cuda_gpu_executor.cc:981] could not open file to read NUMA node: /sys/bus/pci/devices/0000:01:00.0/numa_node\n",
      "Your kernel may have been built without NUMA support.\n",
      "2023-08-06 23:05:30.701651: I tensorflow/compiler/xla/stream_executor/cuda/cuda_gpu_executor.cc:981] could not open file to read NUMA node: /sys/bus/pci/devices/0000:01:00.0/numa_node\n",
      "Your kernel may have been built without NUMA support.\n",
      "2023-08-06 23:05:30.703590: I tensorflow/compiler/xla/stream_executor/cuda/cuda_gpu_executor.cc:981] could not open file to read NUMA node: /sys/bus/pci/devices/0000:01:00.0/numa_node\n",
      "Your kernel may have been built without NUMA support.\n",
      "2023-08-06 23:05:30.703715: I tensorflow/compiler/xla/stream_executor/cuda/cuda_gpu_executor.cc:981] could not open file to read NUMA node: /sys/bus/pci/devices/0000:01:00.0/numa_node\n",
      "Your kernel may have been built without NUMA support.\n",
      "2023-08-06 23:05:30.703762: I tensorflow/compiler/xla/stream_executor/cuda/cuda_gpu_executor.cc:981] could not open file to read NUMA node: /sys/bus/pci/devices/0000:01:00.0/numa_node\n",
      "Your kernel may have been built without NUMA support.\n",
      "2023-08-06 23:05:31.729107: I tensorflow/compiler/xla/stream_executor/cuda/cuda_gpu_executor.cc:981] could not open file to read NUMA node: /sys/bus/pci/devices/0000:01:00.0/numa_node\n",
      "Your kernel may have been built without NUMA support.\n",
      "2023-08-06 23:05:31.729258: I tensorflow/compiler/xla/stream_executor/cuda/cuda_gpu_executor.cc:981] could not open file to read NUMA node: /sys/bus/pci/devices/0000:01:00.0/numa_node\n",
      "Your kernel may have been built without NUMA support.\n",
      "2023-08-06 23:05:31.729268: I tensorflow/core/common_runtime/gpu/gpu_device.cc:1726] Could not identify NUMA node of platform GPU id 0, defaulting to 0.  Your kernel may not have been built with NUMA support.\n",
      "2023-08-06 23:05:31.729317: I tensorflow/compiler/xla/stream_executor/cuda/cuda_gpu_executor.cc:981] could not open file to read NUMA node: /sys/bus/pci/devices/0000:01:00.0/numa_node\n",
      "Your kernel may have been built without NUMA support.\n",
      "2023-08-06 23:05:31.729350: I tensorflow/core/common_runtime/gpu/gpu_device.cc:1639] Created device /job:localhost/replica:0/task:0/device:GPU:0 with 8889 MB memory:  -> device: 0, name: NVIDIA GeForce RTX 2080 Ti, pci bus id: 0000:01:00.0, compute capability: 7.5\n"
     ]
    },
    {
     "ename": "ValueError",
     "evalue": "in user code:\n\n    File \"/home/alana/miniconda3/envs/tf/lib/python3.9/site-packages/keras/src/engine/training.py\", line 1338, in train_function  *\n        return step_function(self, iterator)\n    File \"/home/alana/miniconda3/envs/tf/lib/python3.9/site-packages/keras/src/engine/training.py\", line 1322, in step_function  **\n        outputs = model.distribute_strategy.run(run_step, args=(data,))\n    File \"/home/alana/miniconda3/envs/tf/lib/python3.9/site-packages/keras/src/engine/training.py\", line 1303, in run_step  **\n        outputs = model.train_step(data)\n    File \"/home/alana/miniconda3/envs/tf/lib/python3.9/site-packages/keras/src/engine/training.py\", line 1081, in train_step\n        loss = self.compute_loss(x, y, y_pred, sample_weight)\n    File \"/home/alana/miniconda3/envs/tf/lib/python3.9/site-packages/keras/src/engine/training.py\", line 1139, in compute_loss\n        return self.compiled_loss(\n    File \"/home/alana/miniconda3/envs/tf/lib/python3.9/site-packages/keras/src/engine/compile_utils.py\", line 265, in __call__\n        loss_value = loss_obj(y_t, y_p, sample_weight=sw)\n    File \"/home/alana/miniconda3/envs/tf/lib/python3.9/site-packages/keras/src/losses.py\", line 142, in __call__\n        losses = call_fn(y_true, y_pred)\n    File \"/home/alana/miniconda3/envs/tf/lib/python3.9/site-packages/keras/src/losses.py\", line 268, in call  **\n        return ag_fn(y_true, y_pred, **self._fn_kwargs)\n    File \"/home/alana/miniconda3/envs/tf/lib/python3.9/site-packages/keras/src/losses.py\", line 2122, in categorical_crossentropy\n        return backend.categorical_crossentropy(\n    File \"/home/alana/miniconda3/envs/tf/lib/python3.9/site-packages/keras/src/backend.py\", line 5560, in categorical_crossentropy\n        target.shape.assert_is_compatible_with(output.shape)\n\n    ValueError: Shapes (None, 1) and (None, 2) are incompatible\n",
     "output_type": "error",
     "traceback": [
      "\u001b[0;31m---------------------------------------------------------------------------\u001b[0m",
      "\u001b[0;31mValueError\u001b[0m                                Traceback (most recent call last)",
      "Cell \u001b[0;32mIn[15], line 14\u001b[0m\n\u001b[1;32m      2\u001b[0m callbacks \u001b[38;5;241m=\u001b[39m [\n\u001b[1;32m      3\u001b[0m     EarlyStopping(\n\u001b[1;32m      4\u001b[0m         \u001b[38;5;66;03m# Stop training when `val_loss` is no longer improving\u001b[39;00m\n\u001b[0;32m   (...)\u001b[0m\n\u001b[1;32m      9\u001b[0m     )\n\u001b[1;32m     10\u001b[0m ]\n\u001b[1;32m     12\u001b[0m dnn_model \u001b[38;5;241m=\u001b[39m build_model(\u001b[38;5;28mlen\u001b[39m(samples_x[\u001b[38;5;241m0\u001b[39m]))\n\u001b[0;32m---> 14\u001b[0m \u001b[43mdnn_model\u001b[49m\u001b[38;5;241;43m.\u001b[39;49m\u001b[43mfit\u001b[49m\u001b[43m(\u001b[49m\n\u001b[1;32m     15\u001b[0m \u001b[43m    \u001b[49m\u001b[43mtrain_x\u001b[49m\u001b[43m,\u001b[49m\n\u001b[1;32m     16\u001b[0m \u001b[43m    \u001b[49m\u001b[43mtrain_y\u001b[49m\u001b[43m,\u001b[49m\n\u001b[1;32m     17\u001b[0m \u001b[43m    \u001b[49m\u001b[43mepochs\u001b[49m\u001b[38;5;241;43m=\u001b[39;49m\u001b[38;5;241;43m100\u001b[39;49m\u001b[43m,\u001b[49m\n\u001b[1;32m     18\u001b[0m \u001b[43m    \u001b[49m\u001b[43mcallbacks\u001b[49m\u001b[38;5;241;43m=\u001b[39;49m\u001b[43mcallbacks\u001b[49m\u001b[43m,\u001b[49m\n\u001b[1;32m     19\u001b[0m \u001b[43m    \u001b[49m\u001b[43mbatch_size\u001b[49m\u001b[38;5;241;43m=\u001b[39;49m\u001b[38;5;241;43m2048\u001b[39;49m\u001b[43m,\u001b[49m\n\u001b[1;32m     20\u001b[0m \u001b[43m    \u001b[49m\u001b[43mvalidation_split\u001b[49m\u001b[38;5;241;43m=\u001b[39;49m\u001b[38;5;241;43m0.2\u001b[39;49m\u001b[43m,\u001b[49m\n\u001b[1;32m     21\u001b[0m \u001b[43m    \u001b[49m\u001b[43mverbose\u001b[49m\u001b[38;5;241;43m=\u001b[39;49m\u001b[38;5;241;43m1\u001b[39;49m\u001b[43m,\u001b[49m\n\u001b[1;32m     22\u001b[0m \u001b[43m)\u001b[49m\n",
      "File \u001b[0;32m~/miniconda3/envs/tf/lib/python3.9/site-packages/keras/src/utils/traceback_utils.py:70\u001b[0m, in \u001b[0;36mfilter_traceback.<locals>.error_handler\u001b[0;34m(*args, **kwargs)\u001b[0m\n\u001b[1;32m     67\u001b[0m     filtered_tb \u001b[38;5;241m=\u001b[39m _process_traceback_frames(e\u001b[38;5;241m.\u001b[39m__traceback__)\n\u001b[1;32m     68\u001b[0m     \u001b[38;5;66;03m# To get the full stack trace, call:\u001b[39;00m\n\u001b[1;32m     69\u001b[0m     \u001b[38;5;66;03m# `tf.debugging.disable_traceback_filtering()`\u001b[39;00m\n\u001b[0;32m---> 70\u001b[0m     \u001b[38;5;28;01mraise\u001b[39;00m e\u001b[38;5;241m.\u001b[39mwith_traceback(filtered_tb) \u001b[38;5;28;01mfrom\u001b[39;00m \u001b[38;5;28;01mNone\u001b[39;00m\n\u001b[1;32m     71\u001b[0m \u001b[38;5;28;01mfinally\u001b[39;00m:\n\u001b[1;32m     72\u001b[0m     \u001b[38;5;28;01mdel\u001b[39;00m filtered_tb\n",
      "File \u001b[0;32m/tmp/__autograph_generated_file3w1557hu.py:15\u001b[0m, in \u001b[0;36mouter_factory.<locals>.inner_factory.<locals>.tf__train_function\u001b[0;34m(iterator)\u001b[0m\n\u001b[1;32m     13\u001b[0m \u001b[38;5;28;01mtry\u001b[39;00m:\n\u001b[1;32m     14\u001b[0m     do_return \u001b[38;5;241m=\u001b[39m \u001b[38;5;28;01mTrue\u001b[39;00m\n\u001b[0;32m---> 15\u001b[0m     retval_ \u001b[38;5;241m=\u001b[39m ag__\u001b[38;5;241m.\u001b[39mconverted_call(ag__\u001b[38;5;241m.\u001b[39mld(step_function), (ag__\u001b[38;5;241m.\u001b[39mld(\u001b[38;5;28mself\u001b[39m), ag__\u001b[38;5;241m.\u001b[39mld(iterator)), \u001b[38;5;28;01mNone\u001b[39;00m, fscope)\n\u001b[1;32m     16\u001b[0m \u001b[38;5;28;01mexcept\u001b[39;00m:\n\u001b[1;32m     17\u001b[0m     do_return \u001b[38;5;241m=\u001b[39m \u001b[38;5;28;01mFalse\u001b[39;00m\n",
      "\u001b[0;31mValueError\u001b[0m: in user code:\n\n    File \"/home/alana/miniconda3/envs/tf/lib/python3.9/site-packages/keras/src/engine/training.py\", line 1338, in train_function  *\n        return step_function(self, iterator)\n    File \"/home/alana/miniconda3/envs/tf/lib/python3.9/site-packages/keras/src/engine/training.py\", line 1322, in step_function  **\n        outputs = model.distribute_strategy.run(run_step, args=(data,))\n    File \"/home/alana/miniconda3/envs/tf/lib/python3.9/site-packages/keras/src/engine/training.py\", line 1303, in run_step  **\n        outputs = model.train_step(data)\n    File \"/home/alana/miniconda3/envs/tf/lib/python3.9/site-packages/keras/src/engine/training.py\", line 1081, in train_step\n        loss = self.compute_loss(x, y, y_pred, sample_weight)\n    File \"/home/alana/miniconda3/envs/tf/lib/python3.9/site-packages/keras/src/engine/training.py\", line 1139, in compute_loss\n        return self.compiled_loss(\n    File \"/home/alana/miniconda3/envs/tf/lib/python3.9/site-packages/keras/src/engine/compile_utils.py\", line 265, in __call__\n        loss_value = loss_obj(y_t, y_p, sample_weight=sw)\n    File \"/home/alana/miniconda3/envs/tf/lib/python3.9/site-packages/keras/src/losses.py\", line 142, in __call__\n        losses = call_fn(y_true, y_pred)\n    File \"/home/alana/miniconda3/envs/tf/lib/python3.9/site-packages/keras/src/losses.py\", line 268, in call  **\n        return ag_fn(y_true, y_pred, **self._fn_kwargs)\n    File \"/home/alana/miniconda3/envs/tf/lib/python3.9/site-packages/keras/src/losses.py\", line 2122, in categorical_crossentropy\n        return backend.categorical_crossentropy(\n    File \"/home/alana/miniconda3/envs/tf/lib/python3.9/site-packages/keras/src/backend.py\", line 5560, in categorical_crossentropy\n        target.shape.assert_is_compatible_with(output.shape)\n\n    ValueError: Shapes (None, 1) and (None, 2) are incompatible\n"
     ]
    }
   ],
   "source": [
    "from keras.callbacks import EarlyStopping\n",
    "callbacks = [\n",
    "    EarlyStopping(\n",
    "        # Stop training when `val_loss` is no longer improving\n",
    "        monitor=\"val_loss\",\n",
    "        min_delta=1e-2,\n",
    "        patience=5,\n",
    "        verbose=1,\n",
    "    )\n",
    "]\n",
    "\n",
    "dnn_model = build_model(len(samples_x[0]))\n",
    "\n",
    "dnn_model.fit(\n",
    "    train_x,\n",
    "    train_y,\n",
    "    epochs=100,\n",
    "    callbacks=callbacks,\n",
    "    batch_size=2048,\n",
    "    validation_split=0.2,\n",
    "    verbose=1,\n",
    ")"
   ]
  },
  {
   "cell_type": "code",
   "execution_count": null,
   "id": "645098d71f61386f",
   "metadata": {
    "collapsed": false,
    "jupyter": {
     "outputs_hidden": false
    }
   },
   "outputs": [],
   "source": [
    "dnn_model.evaluate(test_x, test_y, batch_size=512, return_dict=True)"
   ]
  },
  {
   "cell_type": "code",
   "execution_count": null,
   "id": "1687e65110b509e5",
   "metadata": {
    "collapsed": false,
    "jupyter": {
     "outputs_hidden": false
    }
   },
   "outputs": [],
   "source": [
    "# calculate the accuracy if we always predict [1, 0] to be the output\n",
    "from sklearn.metrics import accuracy_score\n",
    "import random\n",
    "\n",
    "random_predictions = [random.choice([[0, 1], [1, 0]]) for _ in range(len(test_y))]\n",
    "\n",
    "accuracy_score(test_y, np.array(random_predictions))"
   ]
  },
  {
   "cell_type": "code",
   "execution_count": null,
   "id": "89f6f846c0ca499b",
   "metadata": {
    "collapsed": false,
    "jupyter": {
     "outputs_hidden": false
    }
   },
   "outputs": [],
   "source": [
    "# find the index of a [0, 1] example in the test y and predict it\n",
    "idx = np.where(test_y == [0, 1])[0][0]\n",
    "dnn_model.predict(test_x[idx:idx+1])"
   ]
  },
  {
   "cell_type": "markdown",
   "id": "cb538401787f6132",
   "metadata": {
    "collapsed": false,
    "jupyter": {
     "outputs_hidden": false
    }
   },
   "source": [
    "The model is able to be somewhat accurate, but this relies purely on temperature data. Before we move on to NLP and text analysis, let's try implementing an LSTM for this problem"
   ]
  },
  {
   "cell_type": "markdown",
   "id": "1bc4b7685ae23a6b",
   "metadata": {
    "collapsed": false,
    "jupyter": {
     "outputs_hidden": false
    }
   },
   "source": [
    "# Experiment #2: Predicting fire alerts using temperature readings with an LSTM\n",
    "The LSTM will take in the temperature readings from the past 7 days and output a prediction for the 7th day."
   ]
  },
  {
   "cell_type": "code",
   "execution_count": null,
   "id": "40fef364e9a5405c",
   "metadata": {
    "collapsed": false,
    "jupyter": {
     "outputs_hidden": false
    }
   },
   "outputs": [],
   "source": [
    "lstm_train_x = train_x.reshape((train_x.shape[0], train_x.shape[1], 1))\n",
    "lstm_test_x = test_x.reshape((test_x.shape[0], test_x.shape[1], 1))"
   ]
  },
  {
   "cell_type": "code",
   "execution_count": null,
   "id": "46c71b6da8ce5f27",
   "metadata": {
    "collapsed": false,
    "jupyter": {
     "outputs_hidden": false
    }
   },
   "outputs": [],
   "source": [
    "from keras.layers import LSTM\n",
    "\n",
    "def build_lstm_model(length_x):\n",
    "    model = Sequential([\n",
    "        LSTM(50, activation='swish', input_shape=(length_x, 1)),\n",
    "        Dense(2, activation='softmax')\n",
    "    ])\n",
    "    \n",
    "    model.compile(optimizer='adam', loss='categorical_crossentropy', metrics=['accuracy'])\n",
    "    return model"
   ]
  },
  {
   "cell_type": "code",
   "execution_count": null,
   "id": "dde551093bbf40be",
   "metadata": {
    "collapsed": false,
    "jupyter": {
     "outputs_hidden": false
    }
   },
   "outputs": [],
   "source": [
    "lstm_model = build_lstm_model(len(samples_x[0]))\n",
    "\n",
    "lstm_model.fit(\n",
    "    lstm_train_x,\n",
    "    train_y,\n",
    "    epochs=100,\n",
    "    callbacks=callbacks,\n",
    "    batch_size=4096,\n",
    "    validation_split=0.2,\n",
    "    verbose=1,\n",
    ")"
   ]
  },
  {
   "cell_type": "code",
   "execution_count": null,
   "id": "48f958787466a4e1",
   "metadata": {
    "collapsed": false,
    "jupyter": {
     "outputs_hidden": false
    }
   },
   "outputs": [],
   "source": [
    "lstm_model.evaluate(lstm_test_x, test_y, batch_size=4096, return_dict=True)"
   ]
  },
  {
   "cell_type": "code",
   "execution_count": null,
   "id": "af61b43e9131c5d9",
   "metadata": {
    "collapsed": false,
    "jupyter": {
     "outputs_hidden": false
    }
   },
   "outputs": [],
   "source": [
    "idx = np.where(test_y == [0, 1])[0][0]\n",
    "lstm_model.predict(test_x[idx:idx+1])"
   ]
  },
  {
   "cell_type": "code",
   "execution_count": null,
   "id": "818c566b16794eb2",
   "metadata": {
    "collapsed": false,
    "jupyter": {
     "outputs_hidden": false
    }
   },
   "outputs": [],
   "source": [
    "# save our two temperature models\n",
    "dnn_model.save('dnn_model.h5')\n",
    "lstm_model.save('lstm_model.h5')"
   ]
  },
  {
   "cell_type": "markdown",
   "id": "bfb676613f97ffb1",
   "metadata": {
    "collapsed": false,
    "jupyter": {
     "outputs_hidden": false
    }
   },
   "source": [
    "# Experiment #3: Using a pretrained sentiment analysis model\n",
    "We will try to use a pretrained sentiment analysis model, BERT, to predict if a tweet relates to a fire or not."
   ]
  },
  {
   "cell_type": "code",
   "execution_count": 5,
   "id": "1e33ceea0a0c7392",
   "metadata": {
    "ExecuteTime": {
     "end_time": "2023-08-08T01:03:22.340504100Z",
     "start_time": "2023-08-08T01:03:22.117426300Z"
    },
    "collapsed": false,
    "jupyter": {
     "outputs_hidden": false
    }
   },
   "outputs": [],
   "source": [
    "# output all tweets that occur at the date and location of a fire event\n",
    "# first, get all the dates and locations of fire events\n",
    "fires = []\n",
    "\n",
    "for i, row in fire_alerts.iterrows():\n",
    "    fires.append((row['event_day'], row['xy']))"
   ]
  },
  {
   "cell_type": "code",
   "execution_count": 6,
   "id": "25036302dfe74b7a",
   "metadata": {
    "ExecuteTime": {
     "end_time": "2023-08-08T01:05:11.261559Z",
     "start_time": "2023-08-08T01:03:22.343506Z"
    },
    "collapsed": false,
    "jupyter": {
     "outputs_hidden": false
    }
   },
   "outputs": [
    {
     "data": {
      "application/vnd.jupyter.widget-view+json": {
       "model_id": "a7840a9018c645038b7458a0ce9b4098",
       "version_major": 2,
       "version_minor": 0
      },
      "text/plain": [
       "  0%|          | 0/1711163 [00:00<?, ?it/s]"
      ]
     },
     "metadata": {},
     "output_type": "display_data"
    }
   ],
   "source": [
    "# then, get all the tweets that occur at the date and location of a fire event\n",
    "from tqdm.auto import tqdm\n",
    "tqdm.pandas()\n",
    "\n",
    "fire_tweets = tweets.progress_apply(lambda row: (row['day'], row['xy']) in fires, axis=1)"
   ]
  },
  {
   "cell_type": "code",
   "execution_count": 7,
   "id": "367413bc317716bb",
   "metadata": {
    "ExecuteTime": {
     "end_time": "2023-08-08T01:05:11.349171500Z",
     "start_time": "2023-08-08T01:05:11.299311500Z"
    },
    "collapsed": false,
    "jupyter": {
     "outputs_hidden": false
    }
   },
   "outputs": [],
   "source": [
    "fire_samples = tweets.loc[fire_tweets]\n",
    "not_fire_samples = tweets.loc[~fire_tweets]"
   ]
  },
  {
   "cell_type": "code",
   "execution_count": 8,
   "id": "1b762df1630d3b36",
   "metadata": {
    "ExecuteTime": {
     "end_time": "2023-08-08T01:05:11.436275Z",
     "start_time": "2023-08-08T01:05:11.392689500Z"
    },
    "collapsed": false,
    "jupyter": {
     "outputs_hidden": false
    }
   },
   "outputs": [],
   "source": [
    "tweet_samples_x = fire_samples['content'].values.tolist() + not_fire_samples['content'].values.tolist()\n",
    "tweet_samples_y = [1] * len(fire_samples) + [0] * len(not_fire_samples)"
   ]
  },
  {
   "cell_type": "code",
   "execution_count": 9,
   "id": "8b97f1694b8e406f",
   "metadata": {
    "ExecuteTime": {
     "end_time": "2023-08-08T01:17:23.837007700Z",
     "start_time": "2023-08-08T01:17:21.951500300Z"
    },
    "collapsed": false,
    "jupyter": {
     "outputs_hidden": false
    }
   },
   "outputs": [],
   "source": [
    "# preprocess our data\n",
    "# we need to split our data into train and test sets first\n",
    "# then we need to correct any class imbalance\n",
    "from sklearn.model_selection import train_test_split\n",
    "\n",
    "train_x, test_x, train_y, test_y = train_test_split(tweet_samples_x, tweet_samples_y, test_size=0.2, stratify=tweet_samples_y)\n",
    "train_x, val_x, train_y, val_y = train_test_split(train_x, train_y, test_size=0.2, stratify=train_y)"
   ]
  },
  {
   "cell_type": "code",
   "execution_count": 10,
   "id": "54ff3fdb7927666a",
   "metadata": {
    "ExecuteTime": {
     "end_time": "2023-08-08T01:17:28.045691300Z",
     "start_time": "2023-08-08T01:17:28.032123300Z"
    },
    "collapsed": false,
    "jupyter": {
     "outputs_hidden": false
    }
   },
   "outputs": [],
   "source": [
    "from datasets import Dataset, Features, Value, ClassLabel, DatasetDict\n",
    "\n",
    "features = Features({\n",
    "    'text': Value('string'),\n",
    "    'label': ClassLabel(num_classes=2, names=['no_fire', 'yes_fire'])\n",
    "})\n",
    "\n",
    "dataset = DatasetDict({\n",
    "    'train': Dataset.from_dict({'text': train_x, 'label': train_y }, features=features),\n",
    "    'test': Dataset.from_dict({'text': test_x, 'label': test_y }, features=features),\n",
    "    'validation': Dataset.from_dict({'text': val_x, 'label': val_y }, features=features)\n",
    "})"
   ]
  },
  {
   "cell_type": "code",
   "execution_count": 11,
   "id": "880b42da94cbac25",
   "metadata": {
    "ExecuteTime": {
     "end_time": "2023-08-08T02:00:11.562973900Z",
     "start_time": "2023-08-08T02:00:11.031148700Z"
    },
    "collapsed": false,
    "jupyter": {
     "outputs_hidden": false
    }
   },
   "outputs": [
    {
     "data": {
      "application/vnd.jupyter.widget-view+json": {
       "model_id": "d68fb8878ae145d7a8d7758b8f016489",
       "version_major": 2,
       "version_minor": 0
      },
      "text/plain": [
       "Map:   0%|          | 0/1095144 [00:00<?, ? examples/s]"
      ]
     },
     "metadata": {},
     "output_type": "display_data"
    },
    {
     "data": {
      "application/vnd.jupyter.widget-view+json": {
       "model_id": "770222e7dad04444bcc9dfcab4cf6959",
       "version_major": 2,
       "version_minor": 0
      },
      "text/plain": [
       "Map:   0%|          | 0/342233 [00:00<?, ? examples/s]"
      ]
     },
     "metadata": {},
     "output_type": "display_data"
    },
    {
     "data": {
      "application/vnd.jupyter.widget-view+json": {
       "model_id": "80a360eae34749349dbd5b87844d77db",
       "version_major": 2,
       "version_minor": 0
      },
      "text/plain": [
       "Map:   0%|          | 0/273786 [00:00<?, ? examples/s]"
      ]
     },
     "metadata": {},
     "output_type": "display_data"
    }
   ],
   "source": [
    "from transformers import AutoTokenizer\n",
    "\n",
    "tokenizer = AutoTokenizer.from_pretrained('bert-base-uncased')\n",
    "\n",
    "def tokenize_function(examples):\n",
    "    return tokenizer(examples[\"text\"], padding=\"max_length\", truncation=True, max_length=300)\n",
    "    \n",
    "tokenized_datasets = dataset.map(tokenize_function, batched=True).remove_columns('text')"
   ]
  },
  {
   "cell_type": "code",
   "execution_count": 15,
   "id": "6b4afe24abc5e155",
   "metadata": {
    "ExecuteTime": {
     "end_time": "2023-08-08T02:00:21.451089800Z",
     "start_time": "2023-08-08T02:00:21.387768100Z"
    },
    "collapsed": false,
    "jupyter": {
     "outputs_hidden": false
    }
   },
   "outputs": [
    {
     "data": {
      "text/plain": [
       "DatasetDict({\n",
       "    train: Dataset({\n",
       "        features: ['label', 'input_ids', 'token_type_ids', 'attention_mask'],\n",
       "        num_rows: 1095144\n",
       "    })\n",
       "    test: Dataset({\n",
       "        features: ['label', 'input_ids', 'token_type_ids', 'attention_mask'],\n",
       "        num_rows: 342233\n",
       "    })\n",
       "    validation: Dataset({\n",
       "        features: ['label', 'input_ids', 'token_type_ids', 'attention_mask'],\n",
       "        num_rows: 273786\n",
       "    })\n",
       "})"
      ]
     },
     "execution_count": 15,
     "metadata": {},
     "output_type": "execute_result"
    }
   ],
   "source": [
    "tokenized_datasets"
   ]
  },
  {
   "cell_type": "code",
   "execution_count": 12,
   "id": "b2749eb448bbf5f7",
   "metadata": {
    "ExecuteTime": {
     "end_time": "2023-08-08T01:17:37.921355Z",
     "start_time": "2023-08-08T01:17:36.804160100Z"
    },
    "collapsed": false,
    "jupyter": {
     "outputs_hidden": false
    }
   },
   "outputs": [],
   "source": [
    "from transformers import AutoModelForSequenceClassification\n",
    "\n",
    "id2label = {0: \"no_fire\", 1: \"yes_fire\"}\n",
    "label2id = {\"no_fire\": 0, \"yes_fire\": 1}\n",
    "\n",
    "model = AutoModelForSequenceClassification.from_pretrained('bert-base-uncased', num_labels=2, id2label=id2label, label2id=label2id)"
   ]
  },
  {
   "cell_type": "code",
   "execution_count": 13,
   "id": "2fdb3dbaca39ddb0",
   "metadata": {
    "ExecuteTime": {
     "end_time": "2023-08-08T02:00:25.352474Z",
     "start_time": "2023-08-08T02:00:24.791361200Z"
    },
    "collapsed": false,
    "jupyter": {
     "outputs_hidden": false
    }
   },
   "outputs": [
    {
     "name": "stderr",
     "output_type": "stream",
     "text": [
      "using `logging_steps` to initialize `eval_steps` to 500\n",
      "PyTorch: setting up devices\n"
     ]
    }
   ],
   "source": [
    "from transformers import TrainingArguments, Trainer, EarlyStoppingCallback\n",
    "import transformers as tfm\n",
    "import numpy as np\n",
    "import evaluate\n",
    "import logging\n",
    "import sys\n",
    "\n",
    "def compute_metrics(eval_pred):\n",
    "    logits, labels = eval_pred\n",
    "    predictions = np.argmax(logits, axis=-1)\n",
    "    return metric.compute(predictions=predictions, references=labels)\n",
    "\n",
    "logging.basicConfig(\n",
    "        format=\"%(asctime)s - %(levelname)s - %(name)s - %(message)s\",\n",
    "        datefmt=\"%m/%d/%Y %H:%M:%S\",\n",
    "        handlers=[logging.StreamHandler(sys.stdout)],\n",
    "    )\n",
    "tfm.logging.set_verbosity_info()\n",
    "\n",
    "training_args = TrainingArguments(output_dir=\"test_trainer\",\n",
    "                                  evaluation_strategy=\"steps\",\n",
    "                                  save_strategy=\"steps\",\n",
    "                                  num_train_epochs=3,\n",
    "                                  load_best_model_at_end=True,\n",
    "                                  auto_find_batch_size=True,\n",
    "                                  report_to='none',\n",
    "                                  # save_safetensors=True,\n",
    "                                  per_device_train_batch_size=128,\n",
    "                                  per_device_eval_batch_size=128\n",
    "                                 )\n",
    "metric = evaluate.load(\"accuracy\")\n",
    "\n",
    "trainer = Trainer(\n",
    "    model=model,\n",
    "    args=training_args,\n",
    "    train_dataset=tokenized_datasets[\"train\"].shuffle(seed=42),\n",
    "    eval_dataset=tokenized_datasets[\"validation\"].shuffle(seed=42),\n",
    "    compute_metrics=compute_metrics,\n",
    "    callbacks=[EarlyStoppingCallback(early_stopping_patience=3)],\n",
    ")"
   ]
  },
  {
   "cell_type": "code",
   "execution_count": null,
   "id": "db0bf2a55320ba14",
   "metadata": {
    "ExecuteTime": {
     "end_time": "2023-08-08T02:01:50.256783Z",
     "start_time": "2023-08-08T02:00:25.569966100Z"
    },
    "collapsed": false,
    "jupyter": {
     "outputs_hidden": false
    }
   },
   "outputs": [],
   "source": [
    "trainer.train()"
   ]
  },
  {
   "cell_type": "code",
   "execution_count": null,
   "id": "91e8820bdb66030b",
   "metadata": {
    "ExecuteTime": {
     "end_time": "2023-08-08T01:20:46.038709Z",
     "start_time": "2023-08-08T01:20:39.152963100Z"
    },
    "collapsed": false,
    "jupyter": {
     "outputs_hidden": false
    }
   },
   "outputs": [
    {
     "name": "stderr",
     "output_type": "stream",
     "text": [
      "***** Running Evaluation *****\n",
      "  Num examples = 342233\n",
      "  Batch size = 128\n"
     ]
    }
   ],
   "source": [
    "# evaluate the model\n",
    "evaluation = trainer.evaluate(tokenized_datasets[\"test\"])"
   ]
  },
  {
   "cell_type": "code",
   "execution_count": 49,
   "id": "99b3251b-d2b8-43c3-aa38-9f1b59df90be",
   "metadata": {},
   "outputs": [
    {
     "name": "stderr",
     "output_type": "stream",
     "text": [
      "Saving model checkpoint to blaze_nlp\n",
      "Configuration saved in blaze_nlp/config.json\n",
      "Model weights saved in blaze_nlp/pytorch_model.bin\n"
     ]
    }
   ],
   "source": [
    "trainer.save_model('blaze_nlp')"
   ]
  },
  {
   "cell_type": "code",
   "execution_count": 44,
   "id": "96aa0ec29b336365",
   "metadata": {
    "ExecuteTime": {
     "end_time": "2023-08-08T01:29:28.958911900Z",
     "start_time": "2023-08-08T01:29:28.898038900Z"
    },
    "collapsed": false,
    "jupyter": {
     "outputs_hidden": false
    }
   },
   "outputs": [
    {
     "name": "stdout",
     "output_type": "stream",
     "text": [
      "forest fires are like a thrilling roller coaster ride - they take you on a wild journey, filled with twists, turns, and adrenaline-fueled excitement! hold on tight!\n"
     ]
    }
   ],
   "source": [
    "# grab two ranom examples, one with yes and one with no\n",
    "# grab two random examples, one with yes and one with no\n",
    "yes_idxs = np.where(np.array(test_y) == 1)[0]\n",
    "no_idxs = np.where(np.array(test_y) == 0)[0]\n",
    "\n",
    "yes_idx = yes_idxs[np.random.randint(len(yes_idxs))]\n",
    "no_idx = no_idxs[np.random.randint(len(no_idxs))]\n",
    "\n",
    "print(test_x[yes_idx])"
   ]
  },
  {
   "cell_type": "code",
   "execution_count": 54,
   "id": "3d95701fc448658c",
   "metadata": {
    "ExecuteTime": {
     "end_time": "2023-08-08T01:38:46.315048700Z",
     "start_time": "2023-08-08T01:38:46.287544600Z"
    },
    "collapsed": false,
    "jupyter": {
     "outputs_hidden": false
    }
   },
   "outputs": [],
   "source": [
    "# input text, output the prediction and confidence as { 'label': label, 'confidence': confidence }\n",
    "def predict(text):\n",
    "    tokenized = tokenizer([text], truncation=True, padding='max_length', max_length=300)\n",
    "    dataset = Dataset.from_dict({\n",
    "        'input_ids': tokenized['input_ids'],\n",
    "        'attention_mask': tokenized['attention_mask'],\n",
    "    })\n",
    "    prediction = trainer.predict(dataset)\n",
    "    print(prediction)\n",
    "    label = prediction.label_ids\n",
    "    confidence = np.max(prediction.predictions)\n",
    "    return { 'label': label, 'confidence': confidence }"
   ]
  },
  {
   "cell_type": "code",
   "execution_count": 55,
   "id": "109e07221325289e",
   "metadata": {
    "ExecuteTime": {
     "end_time": "2023-08-08T01:38:46.741370900Z",
     "start_time": "2023-08-08T01:38:46.703765900Z"
    },
    "collapsed": false,
    "jupyter": {
     "outputs_hidden": false
    }
   },
   "outputs": [
    {
     "name": "stdout",
     "output_type": "stream",
     "text": [
      "gliding pretty swiftly through the water indeed we had already fetched up level with the camp fire the ship was talking as sailors say loudly treading the innumerable ripples with an incessant weltering splash and until got my\n"
     ]
    },
    {
     "data": {
      "text/html": [
       "\n",
       "    <div>\n",
       "      \n",
       "      <progress value='1' max='1' style='width:300px; height:20px; vertical-align: middle;'></progress>\n",
       "      [1/1 : < :]\n",
       "    </div>\n",
       "    "
      ],
      "text/plain": [
       "<IPython.core.display.HTML object>"
      ]
     },
     "metadata": {},
     "output_type": "display_data"
    },
    {
     "name": "stdout",
     "output_type": "stream",
     "text": [
      "PredictionOutput(predictions=array([[ 3.6121597, -4.0306897]], dtype=float32), label_ids=None, metrics={'test_runtime': 0.0198, 'test_samples_per_second': 50.558, 'test_steps_per_second': 50.558})\n"
     ]
    },
    {
     "data": {
      "text/plain": [
       "{'label': None, 'confidence': 3.6121597}"
      ]
     },
     "execution_count": 55,
     "metadata": {},
     "output_type": "execute_result"
    }
   ],
   "source": [
    "print(test_x[no_idx])\n",
    "predict(test_x[no_idx])"
   ]
  },
  {
   "cell_type": "code",
   "execution_count": 51,
   "id": "6979a7a81c2c9342",
   "metadata": {
    "ExecuteTime": {
     "end_time": "2023-08-08T01:38:00.385775600Z",
     "start_time": "2023-08-08T01:38:00.356032400Z"
    },
    "collapsed": false,
    "jupyter": {
     "outputs_hidden": false
    }
   },
   "outputs": [
    {
     "name": "stdout",
     "output_type": "stream",
     "text": [
      "forest fires are like a thrilling roller coaster ride - they take you on a wild journey, filled with twists, turns, and adrenaline-fueled excitement! hold on tight!\n"
     ]
    },
    {
     "data": {
      "text/html": [
       "\n",
       "    <div>\n",
       "      \n",
       "      <progress value='1' max='1' style='width:300px; height:20px; vertical-align: middle;'></progress>\n",
       "      [1/1 : < :]\n",
       "    </div>\n",
       "    "
      ],
      "text/plain": [
       "<IPython.core.display.HTML object>"
      ]
     },
     "metadata": {},
     "output_type": "display_data"
    },
    {
     "name": "stdout",
     "output_type": "stream",
     "text": [
      "PredictionOutput(predictions=array([[-1.2584634,  1.4616559]], dtype=float32), label_ids=array([0]), metrics={'test_loss': 2.783907651901245, 'test_accuracy': 0.0, 'test_runtime': 0.0202, 'test_samples_per_second': 49.442, 'test_steps_per_second': 49.442})\n"
     ]
    },
    {
     "data": {
      "text/plain": [
       "{'label': array([0]), 'confidence': 1.4616559}"
      ]
     },
     "execution_count": 51,
     "metadata": {},
     "output_type": "execute_result"
    }
   ],
   "source": [
    "print(test_x[yes_idx])\n",
    "predict(test_x[yes_idx])"
   ]
  },
  {
   "cell_type": "code",
   "execution_count": null,
   "id": "413bfbd90b242c0a",
   "metadata": {
    "collapsed": false,
    "jupyter": {
     "outputs_hidden": false
    }
   },
   "outputs": [],
   "source": []
  }
 ],
 "metadata": {
  "kernelspec": {
   "display_name": "Python 3 (ipykernel)",
   "language": "python",
   "name": "python3"
  },
  "language_info": {
   "codemirror_mode": {
    "name": "ipython",
    "version": 3
   },
   "file_extension": ".py",
   "mimetype": "text/x-python",
   "name": "python",
   "nbconvert_exporter": "python",
   "pygments_lexer": "ipython3",
   "version": "3.11.4"
  }
 },
 "nbformat": 4,
 "nbformat_minor": 5
}
