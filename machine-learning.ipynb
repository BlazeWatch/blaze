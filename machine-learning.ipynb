{
 "cells": [
  {
   "cell_type": "code",
   "execution_count": 1,
   "id": "initial_id",
   "metadata": {
    "collapsed": true,
    "ExecuteTime": {
     "end_time": "2023-08-02T19:49:40.887230Z",
     "start_time": "2023-08-02T19:49:40.054844Z"
    }
   },
   "outputs": [],
   "source": [
    "import psycopg2\n",
    "from dotenv import load_dotenv\n",
    "import os\n",
    "\n",
    "load_dotenv()\n",
    "\n",
    "conn = psycopg2.connect(\n",
    "    user=os.getenv(\"USER\"),\n",
    "    password=os.getenv(\"password\"),\n",
    "    host=os.getenv(\"HOST\"),\n",
    "    dbname=os.getenv(\"DBNAME\")\n",
    ")"
   ]
  },
  {
   "cell_type": "markdown",
   "source": [],
   "metadata": {
    "collapsed": false
   },
   "id": "77d4f08179995640"
  },
  {
   "cell_type": "code",
   "execution_count": 2,
   "outputs": [
    {
     "name": "stderr",
     "output_type": "stream",
     "text": [
      "/var/folders/sw/tz1yk8m16t9d_3n6kwxkbvrc0000gn/T/ipykernel_23139/38418671.py:3: UserWarning: pandas only supports SQLAlchemy connectable (engine/connection) or database string URI or sqlite3 DBAPI2 connection. Other DBAPI2 objects are not tested. Please consider using SQLAlchemy.\n",
      "  temp_readings = pd.read_sql_query(\"SELECT * FROM public.temp_readings\", conn)\n",
      "/var/folders/sw/tz1yk8m16t9d_3n6kwxkbvrc0000gn/T/ipykernel_23139/38418671.py:4: UserWarning: pandas only supports SQLAlchemy connectable (engine/connection) or database string URI or sqlite3 DBAPI2 connection. Other DBAPI2 objects are not tested. Please consider using SQLAlchemy.\n",
      "  fire_alerts = pd.read_sql_query(\"SELECT * FROM public.fire_alerts\", conn)\n",
      "/var/folders/sw/tz1yk8m16t9d_3n6kwxkbvrc0000gn/T/ipykernel_23139/38418671.py:5: UserWarning: pandas only supports SQLAlchemy connectable (engine/connection) or database string URI or sqlite3 DBAPI2 connection. Other DBAPI2 objects are not tested. Please consider using SQLAlchemy.\n",
      "  tweets = pd.read_sql_query(\"SELECT * FROM public.tweets\", conn)\n"
     ]
    }
   ],
   "source": [
    "import pandas as pd\n",
    " \n",
    "temp_readings = pd.read_sql_query(\"SELECT * FROM public.temp_readings\", conn)\n",
    "fire_alerts = pd.read_sql_query(\"SELECT * FROM public.fire_alerts\", conn)\n",
    "tweets = pd.read_sql_query(\"SELECT * FROM public.tweets\", conn)"
   ],
   "metadata": {
    "collapsed": false,
    "ExecuteTime": {
     "end_time": "2023-08-02T19:49:58.338486Z",
     "start_time": "2023-08-02T19:49:40.889007Z"
    }
   },
   "id": "81b48a6520fbb521"
  },
  {
   "cell_type": "code",
   "execution_count": 3,
   "outputs": [
    {
     "data": {
      "text/plain": "          day       xy  temperature       id\n0           1    (0,0)           54        0\n1           1    (0,1)           51        1\n2           1    (0,2)           48        2\n3           1    (0,3)           58        3\n4           1    (0,4)           65        4\n...       ...      ...          ...      ...\n2294094  2549  (29,24)           38  2294094\n2294095  2549  (29,25)           52  2294095\n2294096  2549  (29,26)           46  2294096\n2294097  2549  (29,27)           51  2294097\n2294098  2549  (29,28)           46  2294098\n\n[2294099 rows x 4 columns]",
      "text/html": "<div>\n<style scoped>\n    .dataframe tbody tr th:only-of-type {\n        vertical-align: middle;\n    }\n\n    .dataframe tbody tr th {\n        vertical-align: top;\n    }\n\n    .dataframe thead th {\n        text-align: right;\n    }\n</style>\n<table border=\"1\" class=\"dataframe\">\n  <thead>\n    <tr style=\"text-align: right;\">\n      <th></th>\n      <th>day</th>\n      <th>xy</th>\n      <th>temperature</th>\n      <th>id</th>\n    </tr>\n  </thead>\n  <tbody>\n    <tr>\n      <th>0</th>\n      <td>1</td>\n      <td>(0,0)</td>\n      <td>54</td>\n      <td>0</td>\n    </tr>\n    <tr>\n      <th>1</th>\n      <td>1</td>\n      <td>(0,1)</td>\n      <td>51</td>\n      <td>1</td>\n    </tr>\n    <tr>\n      <th>2</th>\n      <td>1</td>\n      <td>(0,2)</td>\n      <td>48</td>\n      <td>2</td>\n    </tr>\n    <tr>\n      <th>3</th>\n      <td>1</td>\n      <td>(0,3)</td>\n      <td>58</td>\n      <td>3</td>\n    </tr>\n    <tr>\n      <th>4</th>\n      <td>1</td>\n      <td>(0,4)</td>\n      <td>65</td>\n      <td>4</td>\n    </tr>\n    <tr>\n      <th>...</th>\n      <td>...</td>\n      <td>...</td>\n      <td>...</td>\n      <td>...</td>\n    </tr>\n    <tr>\n      <th>2294094</th>\n      <td>2549</td>\n      <td>(29,24)</td>\n      <td>38</td>\n      <td>2294094</td>\n    </tr>\n    <tr>\n      <th>2294095</th>\n      <td>2549</td>\n      <td>(29,25)</td>\n      <td>52</td>\n      <td>2294095</td>\n    </tr>\n    <tr>\n      <th>2294096</th>\n      <td>2549</td>\n      <td>(29,26)</td>\n      <td>46</td>\n      <td>2294096</td>\n    </tr>\n    <tr>\n      <th>2294097</th>\n      <td>2549</td>\n      <td>(29,27)</td>\n      <td>51</td>\n      <td>2294097</td>\n    </tr>\n    <tr>\n      <th>2294098</th>\n      <td>2549</td>\n      <td>(29,28)</td>\n      <td>46</td>\n      <td>2294098</td>\n    </tr>\n  </tbody>\n</table>\n<p>2294099 rows × 4 columns</p>\n</div>"
     },
     "execution_count": 3,
     "metadata": {},
     "output_type": "execute_result"
    }
   ],
   "source": [
    "temp_readings"
   ],
   "metadata": {
    "collapsed": false,
    "ExecuteTime": {
     "end_time": "2023-08-02T19:49:58.349253Z",
     "start_time": "2023-08-02T19:49:58.340393Z"
    }
   },
   "id": "c71d6df70b414169"
  },
  {
   "cell_type": "code",
   "execution_count": 4,
   "outputs": [
    {
     "data": {
      "text/plain": "          day       xy score  \\\n0           1    (0,5)  None   \n1           1    (0,5)  None   \n2           1    (0,5)  None   \n3           1    (0,5)  None   \n4           1    (0,6)  None   \n...       ...      ...   ...   \n1711158  2549  (29,27)  None   \n1711159  2549  (29,27)  None   \n1711160  2549  (29,27)  None   \n1711161  2549  (29,27)  None   \n1711162  2549  (29,27)  None   \n\n                                                   content       id  \n0        to his brothers commanded him to remain succee...        0  \n1        country to surat might go from thence to basso...        1  \n2        to it was obliged to let it lie where it was a...        2  \n3        found cure both for soul and body opened the c...        3  \n4        means indeed the russians travel more in winte...        4  \n...                                                    ...      ...  \n1711158  of her own mamma she was thoughtful for moment...  1711158  \n1711159  boat with orders to secure her and bring away ...  1711159  \n1711160  for the expedition ernest begged to be of the ...  1711160  \n1711161  in order to act the rebel to their authority a...  1711161  \n1711162  severe travelling without house or tree and we...  1711162  \n\n[1711163 rows x 5 columns]",
      "text/html": "<div>\n<style scoped>\n    .dataframe tbody tr th:only-of-type {\n        vertical-align: middle;\n    }\n\n    .dataframe tbody tr th {\n        vertical-align: top;\n    }\n\n    .dataframe thead th {\n        text-align: right;\n    }\n</style>\n<table border=\"1\" class=\"dataframe\">\n  <thead>\n    <tr style=\"text-align: right;\">\n      <th></th>\n      <th>day</th>\n      <th>xy</th>\n      <th>score</th>\n      <th>content</th>\n      <th>id</th>\n    </tr>\n  </thead>\n  <tbody>\n    <tr>\n      <th>0</th>\n      <td>1</td>\n      <td>(0,5)</td>\n      <td>None</td>\n      <td>to his brothers commanded him to remain succee...</td>\n      <td>0</td>\n    </tr>\n    <tr>\n      <th>1</th>\n      <td>1</td>\n      <td>(0,5)</td>\n      <td>None</td>\n      <td>country to surat might go from thence to basso...</td>\n      <td>1</td>\n    </tr>\n    <tr>\n      <th>2</th>\n      <td>1</td>\n      <td>(0,5)</td>\n      <td>None</td>\n      <td>to it was obliged to let it lie where it was a...</td>\n      <td>2</td>\n    </tr>\n    <tr>\n      <th>3</th>\n      <td>1</td>\n      <td>(0,5)</td>\n      <td>None</td>\n      <td>found cure both for soul and body opened the c...</td>\n      <td>3</td>\n    </tr>\n    <tr>\n      <th>4</th>\n      <td>1</td>\n      <td>(0,6)</td>\n      <td>None</td>\n      <td>means indeed the russians travel more in winte...</td>\n      <td>4</td>\n    </tr>\n    <tr>\n      <th>...</th>\n      <td>...</td>\n      <td>...</td>\n      <td>...</td>\n      <td>...</td>\n      <td>...</td>\n    </tr>\n    <tr>\n      <th>1711158</th>\n      <td>2549</td>\n      <td>(29,27)</td>\n      <td>None</td>\n      <td>of her own mamma she was thoughtful for moment...</td>\n      <td>1711158</td>\n    </tr>\n    <tr>\n      <th>1711159</th>\n      <td>2549</td>\n      <td>(29,27)</td>\n      <td>None</td>\n      <td>boat with orders to secure her and bring away ...</td>\n      <td>1711159</td>\n    </tr>\n    <tr>\n      <th>1711160</th>\n      <td>2549</td>\n      <td>(29,27)</td>\n      <td>None</td>\n      <td>for the expedition ernest begged to be of the ...</td>\n      <td>1711160</td>\n    </tr>\n    <tr>\n      <th>1711161</th>\n      <td>2549</td>\n      <td>(29,27)</td>\n      <td>None</td>\n      <td>in order to act the rebel to their authority a...</td>\n      <td>1711161</td>\n    </tr>\n    <tr>\n      <th>1711162</th>\n      <td>2549</td>\n      <td>(29,27)</td>\n      <td>None</td>\n      <td>severe travelling without house or tree and we...</td>\n      <td>1711162</td>\n    </tr>\n  </tbody>\n</table>\n<p>1711163 rows × 5 columns</p>\n</div>"
     },
     "execution_count": 4,
     "metadata": {},
     "output_type": "execute_result"
    }
   ],
   "source": [
    "tweets"
   ],
   "metadata": {
    "collapsed": false,
    "ExecuteTime": {
     "end_time": "2023-08-02T19:49:58.356510Z",
     "start_time": "2023-08-02T19:49:58.347552Z"
    }
   },
   "id": "f4ad1228c21136d6"
  },
  {
   "cell_type": "code",
   "execution_count": 5,
   "outputs": [
    {
     "data": {
      "text/plain": "      event_day  notification_day       xy    id\n0            29                32   (1,25)     0\n1            34                37   (9,24)     1\n2            38                41  (20,24)     2\n3            39                42   (0,23)     3\n4            39                42   (28,7)     4\n...         ...               ...      ...   ...\n5600       2332              2335   (27,7)  5600\n5601       2333              2336    (0,2)  5601\n5602       2334              2337   (13,9)  5602\n5603       2340              2343   (2,17)  5603\n5604       2342              2345  (22,22)  5604\n\n[5605 rows x 4 columns]",
      "text/html": "<div>\n<style scoped>\n    .dataframe tbody tr th:only-of-type {\n        vertical-align: middle;\n    }\n\n    .dataframe tbody tr th {\n        vertical-align: top;\n    }\n\n    .dataframe thead th {\n        text-align: right;\n    }\n</style>\n<table border=\"1\" class=\"dataframe\">\n  <thead>\n    <tr style=\"text-align: right;\">\n      <th></th>\n      <th>event_day</th>\n      <th>notification_day</th>\n      <th>xy</th>\n      <th>id</th>\n    </tr>\n  </thead>\n  <tbody>\n    <tr>\n      <th>0</th>\n      <td>29</td>\n      <td>32</td>\n      <td>(1,25)</td>\n      <td>0</td>\n    </tr>\n    <tr>\n      <th>1</th>\n      <td>34</td>\n      <td>37</td>\n      <td>(9,24)</td>\n      <td>1</td>\n    </tr>\n    <tr>\n      <th>2</th>\n      <td>38</td>\n      <td>41</td>\n      <td>(20,24)</td>\n      <td>2</td>\n    </tr>\n    <tr>\n      <th>3</th>\n      <td>39</td>\n      <td>42</td>\n      <td>(0,23)</td>\n      <td>3</td>\n    </tr>\n    <tr>\n      <th>4</th>\n      <td>39</td>\n      <td>42</td>\n      <td>(28,7)</td>\n      <td>4</td>\n    </tr>\n    <tr>\n      <th>...</th>\n      <td>...</td>\n      <td>...</td>\n      <td>...</td>\n      <td>...</td>\n    </tr>\n    <tr>\n      <th>5600</th>\n      <td>2332</td>\n      <td>2335</td>\n      <td>(27,7)</td>\n      <td>5600</td>\n    </tr>\n    <tr>\n      <th>5601</th>\n      <td>2333</td>\n      <td>2336</td>\n      <td>(0,2)</td>\n      <td>5601</td>\n    </tr>\n    <tr>\n      <th>5602</th>\n      <td>2334</td>\n      <td>2337</td>\n      <td>(13,9)</td>\n      <td>5602</td>\n    </tr>\n    <tr>\n      <th>5603</th>\n      <td>2340</td>\n      <td>2343</td>\n      <td>(2,17)</td>\n      <td>5603</td>\n    </tr>\n    <tr>\n      <th>5604</th>\n      <td>2342</td>\n      <td>2345</td>\n      <td>(22,22)</td>\n      <td>5604</td>\n    </tr>\n  </tbody>\n</table>\n<p>5605 rows × 4 columns</p>\n</div>"
     },
     "execution_count": 5,
     "metadata": {},
     "output_type": "execute_result"
    }
   ],
   "source": [
    "fire_alerts"
   ],
   "metadata": {
    "collapsed": false,
    "ExecuteTime": {
     "end_time": "2023-08-02T19:49:58.398774Z",
     "start_time": "2023-08-02T19:49:58.357952Z"
    }
   },
   "id": "e8fbc3e67193fbf6"
  },
  {
   "cell_type": "markdown",
   "source": [
    "# Experiment #1: Predicting fire alerts using temperature readings\n",
    "Every sector at every day has a temperature reading, while only some sectors have messages. To start, we'll try to predict fire alerts on the day of using temperature readings only from the past 7 days."
   ],
   "metadata": {
    "collapsed": false
   },
   "id": "1b5c370b670e88b3"
  },
  {
   "cell_type": "code",
   "execution_count": 6,
   "outputs": [
    {
     "name": "stderr",
     "output_type": "stream",
     "text": [
      "100%|██████████| 900/900 [01:06<00:00, 13.59it/s]\n"
     ]
    }
   ],
   "source": [
    "from tqdm import tqdm\n",
    "\n",
    "# create samples from the temperatures in X from the outputs in y\n",
    "# the X has the temperature at a day index+1 (idx 0 = day 1)\n",
    "# the y has the list of days that have fire alerts\n",
    "# each sample should input 7 days, and output 1 or 0 for whether the 7th day has a fire alert\n",
    "samples = []\n",
    "\n",
    "for coord in tqdm(temp_readings['xy'].unique()):\n",
    "    temp = temp_readings[temp_readings['xy'] == coord]\n",
    "    fire = fire_alerts[fire_alerts['xy'] == coord]\n",
    "    X = list(temp['temperature'])\n",
    "    y = list(fire['event_day'])\n",
    "    for i in range(7, len(X)):\n",
    "        samples.append((X[i-7:i], 1 if i in y else 0))\n"
   ],
   "metadata": {
    "collapsed": false,
    "ExecuteTime": {
     "end_time": "2023-08-02T19:51:04.715477Z",
     "start_time": "2023-08-02T19:49:58.361927Z"
    }
   },
   "id": "f21ac86e9d8cb78d"
  },
  {
   "cell_type": "code",
   "execution_count": 7,
   "outputs": [
    {
     "data": {
      "text/plain": "2287799"
     },
     "execution_count": 7,
     "metadata": {},
     "output_type": "execute_result"
    }
   ],
   "source": [
    "import numpy as np\n",
    "\n",
    "samples_x, samples_y = zip(*samples)\n",
    "samples_x, samples_y = np.array(samples_x), np.array(samples_y)\n",
    "\n",
    "len(samples_x)"
   ],
   "metadata": {
    "collapsed": false,
    "ExecuteTime": {
     "end_time": "2023-08-02T19:51:06.604350Z",
     "start_time": "2023-08-02T19:51:06.599974Z"
    }
   },
   "id": "201a2baeb5854335"
  },
  {
   "cell_type": "code",
   "execution_count": 8,
   "outputs": [],
   "source": [
    "from imblearn.over_sampling import SMOTE\n",
    "\n",
    "# correct any imbalance before training\n",
    "smote = SMOTE()\n",
    "samples_x, samples_y = smote.fit_resample(samples_x, samples_y)"
   ],
   "metadata": {
    "collapsed": false,
    "ExecuteTime": {
     "end_time": "2023-08-02T19:51:07.907859Z",
     "start_time": "2023-08-02T19:51:06.603022Z"
    }
   },
   "id": "866bdcf1f08abb6c"
  },
  {
   "cell_type": "code",
   "execution_count": 9,
   "outputs": [
    {
     "data": {
      "text/plain": "(array([2282194.,       0.,       0.,       0.,       0.,       0.,\n              0.,       0.,       0., 2282194.]),\n array([0. , 0.1, 0.2, 0.3, 0.4, 0.5, 0.6, 0.7, 0.8, 0.9, 1. ]),\n <BarContainer object of 10 artists>)"
     },
     "execution_count": 9,
     "metadata": {},
     "output_type": "execute_result"
    },
    {
     "data": {
      "text/plain": "<Figure size 640x480 with 1 Axes>",
      "image/png": "[encoded data removed]"
     },
     "metadata": {},
     "output_type": "display_data"
    }
   ],
   "source": [
    "# plot distribution of samples\n",
    "import matplotlib.pyplot as plt\n",
    "\n",
    "plt.hist(samples_y)"
   ],
   "metadata": {
    "collapsed": false,
    "ExecuteTime": {
     "end_time": "2023-08-02T19:51:08.355111Z",
     "start_time": "2023-08-02T19:51:07.902876Z"
    }
   },
   "id": "1d49f50b4091eac3"
  },
  {
   "cell_type": "code",
   "execution_count": 10,
   "outputs": [],
   "source": [
    "# scale the x values\n",
    "from sklearn.preprocessing import StandardScaler\n",
    "\n",
    "def preprocess(x, y):\n",
    "    scaler = StandardScaler()\n",
    "    x = scaler.fit_transform(x)\n",
    "    y = np.array(pd.get_dummies(y))\n",
    "    return x, y, scaler"
   ],
   "metadata": {
    "collapsed": false,
    "ExecuteTime": {
     "end_time": "2023-08-02T19:51:17.130474Z",
     "start_time": "2023-08-02T19:51:17.127089Z"
    }
   },
   "id": "5176a1013e819366"
  },
  {
   "cell_type": "code",
   "execution_count": 11,
   "outputs": [],
   "source": [
    "samples_x, samples_y, scaler = preprocess(samples_x, samples_y)"
   ],
   "metadata": {
    "collapsed": false,
    "ExecuteTime": {
     "end_time": "2023-08-02T19:52:10.113729Z",
     "start_time": "2023-08-02T19:52:09.320517Z"
    }
   },
   "id": "60627ad7ca6ddbd8"
  },
  {
   "cell_type": "code",
   "execution_count": 12,
   "outputs": [
    {
     "data": {
      "text/plain": "array([[-0.52507518, -0.77079049, -0.37407598, ..., -0.4488831 ,\n        -0.62258017, -0.68801137],\n       [-0.72447352, -0.45196129, -0.31662125, ..., -0.50696168,\n        -0.59661478, -0.84635977],\n       [-0.3826478 , -0.39882309, -0.46025808, ..., -0.47792239,\n        -0.77837246, -1.00470816],\n       ...,\n       [ 0.98465507,  0.90306281,  0.54519974, ...,  1.03212087,\n         0.59779281,  0.98595739],\n       [ 0.84222769,  0.74364821,  0.86120077, ...,  0.62557076,\n         0.77955049,  0.85023019],\n       [ 0.78525673,  0.79678641,  0.86120077, ...,  1.17731734,\n         0.72761972,  0.75974539]])"
     },
     "execution_count": 12,
     "metadata": {},
     "output_type": "execute_result"
    }
   ],
   "source": [
    "samples_x"
   ],
   "metadata": {
    "collapsed": false,
    "ExecuteTime": {
     "end_time": "2023-08-02T19:52:10.835726Z",
     "start_time": "2023-08-02T19:52:10.821041Z"
    }
   },
   "id": "8ec977a40ab5d01b"
  },
  {
   "cell_type": "code",
   "execution_count": 13,
   "outputs": [
    {
     "data": {
      "text/plain": "array([[1, 0],\n       [1, 0],\n       [1, 0],\n       ...,\n       [0, 1],\n       [0, 1],\n       [0, 1]], dtype=uint8)"
     },
     "execution_count": 13,
     "metadata": {},
     "output_type": "execute_result"
    }
   ],
   "source": [
    "samples_y"
   ],
   "metadata": {
    "collapsed": false,
    "ExecuteTime": {
     "end_time": "2023-08-02T19:52:12.074922Z",
     "start_time": "2023-08-02T19:52:12.057775Z"
    }
   },
   "id": "cb704cce7821301c"
  },
  {
   "cell_type": "code",
   "execution_count": 14,
   "outputs": [],
   "source": [
    "from sklearn.model_selection import train_test_split\n",
    "\n",
    "train_x, test_x, train_y, test_y = train_test_split(samples_x, samples_y, test_size=0.2)"
   ],
   "metadata": {
    "collapsed": false,
    "ExecuteTime": {
     "end_time": "2023-08-02T19:52:17.761713Z",
     "start_time": "2023-08-02T19:52:17.360666Z"
    }
   },
   "id": "41c5d1d35e5ab140"
  },
  {
   "cell_type": "code",
   "execution_count": 15,
   "outputs": [],
   "source": [
    "`from keras import Sequential\n",
    "from keras.layers import Dense\n",
    "\n",
    "# implement a simple neural network\n",
    "def build_model(length_x):\n",
    "    model = Sequential([\n",
    "        Dense(32, activation='swish', input_shape=(length_x,)),\n",
    "        Dense(2, activation='softmax')\n",
    "    ])\n",
    "    \n",
    "    model.compile(optimizer='adam', loss='categorical_crossentropy', metrics=['accuracy'])\n",
    "    return model`"
   ],
   "metadata": {
    "collapsed": false,
    "ExecuteTime": {
     "end_time": "2023-08-02T19:52:23.538708Z",
     "start_time": "2023-08-02T19:52:20.670432Z"
    }
   },
   "id": "fb4ac1c35973b95e"
  },
  {
   "cell_type": "code",
   "execution_count": 16,
   "outputs": [
    {
     "name": "stderr",
     "output_type": "stream",
     "text": [
      "2023-08-02 15:52:40.624176: I metal_plugin/src/device/metal_device.cc:1154] Metal device set to: Apple M1\n",
      "2023-08-02 15:52:40.624214: I metal_plugin/src/device/metal_device.cc:296] systemMemory: 16.00 GB\n",
      "2023-08-02 15:52:40.624224: I metal_plugin/src/device/metal_device.cc:313] maxCacheSize: 5.33 GB\n",
      "2023-08-02 15:52:40.624713: I tensorflow/core/common_runtime/pluggable_device/pluggable_device_factory.cc:303] Could not identify NUMA node of platform GPU ID 0, defaulting to 0. Your kernel may not have been built with NUMA support.\n",
      "2023-08-02 15:52:40.624984: I tensorflow/core/common_runtime/pluggable_device/pluggable_device_factory.cc:269] Created TensorFlow device (/job:localhost/replica:0/task:0/device:GPU:0 with 0 MB memory) -> physical PluggableDevice (device: 0, name: METAL, pci bus id: <undefined>)\n"
     ]
    },
    {
     "name": "stdout",
     "output_type": "stream",
     "text": [
      "Epoch 1/100\n"
     ]
    },
    {
     "name": "stderr",
     "output_type": "stream",
     "text": [
      "2023-08-02 15:52:41.215764: I tensorflow/core/grappler/optimizers/custom_graph_optimizer_registry.cc:114] Plugin optimizer for device_type GPU is enabled.\n"
     ]
    },
    {
     "name": "stdout",
     "output_type": "stream",
     "text": [
      "1427/1427 [==============================] - ETA: 0s - loss: 0.1592 - accuracy: 0.9360"
     ]
    },
    {
     "name": "stderr",
     "output_type": "stream",
     "text": [
      "2023-08-02 15:52:56.014430: I tensorflow/core/grappler/optimizers/custom_graph_optimizer_registry.cc:114] Plugin optimizer for device_type GPU is enabled.\n"
     ]
    },
    {
     "name": "stdout",
     "output_type": "stream",
     "text": [
      "1427/1427 [==============================] - 19s 12ms/step - loss: 0.1592 - accuracy: 0.9360 - val_loss: 0.0417 - val_accuracy: 0.9884\n",
      "Epoch 2/100\n",
      "1427/1427 [==============================] - 18s 13ms/step - loss: 0.0349 - accuracy: 0.9899 - val_loss: 0.0321 - val_accuracy: 0.9903\n",
      "Epoch 3/100\n",
      "1427/1427 [==============================] - 17s 12ms/step - loss: 0.0312 - accuracy: 0.9905 - val_loss: 0.0310 - val_accuracy: 0.9906\n",
      "Epoch 4/100\n",
      "1427/1427 [==============================] - 18s 13ms/step - loss: 0.0305 - accuracy: 0.9907 - val_loss: 0.0304 - val_accuracy: 0.9909\n",
      "Epoch 5/100\n",
      "1427/1427 [==============================] - 17s 12ms/step - loss: 0.0292 - accuracy: 0.9912 - val_loss: 0.0286 - val_accuracy: 0.9912\n",
      "Epoch 6/100\n",
      "1427/1427 [==============================] - 18s 13ms/step - loss: 0.0269 - accuracy: 0.9922 - val_loss: 0.0259 - val_accuracy: 0.9925\n",
      "Epoch 7/100\n",
      "1427/1427 [==============================] - 19s 13ms/step - loss: 0.0246 - accuracy: 0.9930 - val_loss: 0.0238 - val_accuracy: 0.9932\n",
      "Epoch 8/100\n",
      "1427/1427 [==============================] - 17s 12ms/step - loss: 0.0228 - accuracy: 0.9936 - val_loss: 0.0223 - val_accuracy: 0.9938\n",
      "Epoch 8: early stopping\n"
     ]
    },
    {
     "data": {
      "text/plain": "<keras.src.callbacks.History at 0x332468730>"
     },
     "execution_count": 16,
     "metadata": {},
     "output_type": "execute_result"
    }
   ],
   "source": [
    "from keras.callbacks import EarlyStopping\n",
    "callbacks = [\n",
    "    EarlyStopping(\n",
    "        # Stop training when `val_loss` is no longer improving\n",
    "        monitor=\"val_loss\",\n",
    "        # \"no longer improving\" being defined as \"no better than 1e-2 less\"\n",
    "        min_delta=1e-2,\n",
    "        # \"no longer improving\" being further defined as \"for at least 2 epochs\"\n",
    "        patience=5,\n",
    "        verbose=1,\n",
    "    )\n",
    "]\n",
    "\n",
    "dnn_model = build_model(len(samples_x[0]))\n",
    "\n",
    "dnn_model.fit(\n",
    "    train_x,\n",
    "    train_y,\n",
    "    epochs=100,\n",
    "    callbacks=callbacks,\n",
    "    batch_size=2048,\n",
    "    validation_split=0.2,\n",
    "    verbose=1,\n",
    ")"
   ],
   "metadata": {
    "collapsed": false,
    "ExecuteTime": {
     "end_time": "2023-08-02T19:55:03.812252Z",
     "start_time": "2023-08-02T19:52:40.607242Z"
    }
   },
   "id": "157ea45f87dd5d1e"
  },
  {
   "cell_type": "code",
   "execution_count": 17,
   "outputs": [
    {
     "name": "stdout",
     "output_type": "stream",
     "text": [
      "1783/1783 [==============================] - 15s 9ms/step - loss: 0.0222 - accuracy: 0.9937\n"
     ]
    },
    {
     "data": {
      "text/plain": "{'loss': 0.022204220294952393, 'accuracy': 0.9937154650688171}"
     },
     "execution_count": 17,
     "metadata": {},
     "output_type": "execute_result"
    }
   ],
   "source": [
    "dnn_model.evaluate(test_x, test_y, batch_size=512, return_dict=True)"
   ],
   "metadata": {
    "collapsed": false,
    "ExecuteTime": {
     "end_time": "2023-08-02T19:55:31.405999Z",
     "start_time": "2023-08-02T19:55:16.050660Z"
    }
   },
   "id": "645098d71f61386f"
  },
  {
   "cell_type": "code",
   "execution_count": 18,
   "outputs": [
    {
     "data": {
      "text/plain": "0.5009311211355735"
     },
     "execution_count": 18,
     "metadata": {},
     "output_type": "execute_result"
    }
   ],
   "source": [
    "# calculate the accuracy if we always predict [1, 0] to be the output\n",
    "from sklearn.metrics import accuracy_score\n",
    "\n",
    "accuracy_score(test_y, np.array([[1, 0]] * len(test_y)))"
   ],
   "metadata": {
    "collapsed": false,
    "ExecuteTime": {
     "end_time": "2023-08-02T19:55:43.564438Z",
     "start_time": "2023-08-02T19:55:43.469603Z"
    }
   },
   "id": "1687e65110b509e5"
  },
  {
   "cell_type": "code",
   "execution_count": 34,
   "outputs": [
    {
     "name": "stdout",
     "output_type": "stream",
     "text": [
      "1/1 [==============================] - 0s 19ms/step\n"
     ]
    },
    {
     "data": {
      "text/plain": "array([[1.4591686e-07, 9.9999988e-01]], dtype=float32)"
     },
     "execution_count": 34,
     "metadata": {},
     "output_type": "execute_result"
    }
   ],
   "source": [
    "# find the index of a [0, 1] example in the test y\n",
    "dnn_model.predict([test_x[1:2]])"
   ],
   "metadata": {
    "collapsed": false,
    "ExecuteTime": {
     "end_time": "2023-08-02T19:59:13.953941Z",
     "start_time": "2023-08-02T19:59:13.899178Z"
    }
   },
   "id": "89f6f846c0ca499b"
  },
  {
   "cell_type": "markdown",
   "source": [
    "# Results\n",
    "The model is able to be very accurate, but this relies purely on temperature data. Before we move on to NLP and text analysis, let's try implementing an LSTM for this problem"
   ],
   "metadata": {
    "collapsed": false
   },
   "id": "cb538401787f6132"
  },
  {
   "cell_type": "markdown",
   "source": [
    "# Experiment #2: Predicting fire alerts using temperature readings with an LSTM\n",
    "The LSTM will take in the temperature readings from the past 7 days and output a prediction for the 7th day."
   ],
   "metadata": {
    "collapsed": false
   },
   "id": "1bc4b7685ae23a6b"
  },
  {
   "cell_type": "code",
   "execution_count": 35,
   "outputs": [],
   "source": [
    "lstm_train_x = train_x.reshape((train_x.shape[0], train_x.shape[1], 1))\n",
    "lstm_test_x = test_x.reshape((test_x.shape[0], test_x.shape[1], 1))"
   ],
   "metadata": {
    "collapsed": false,
    "ExecuteTime": {
     "end_time": "2023-08-02T19:59:49.374068Z",
     "start_time": "2023-08-02T19:59:49.364910Z"
    }
   },
   "id": "40fef364e9a5405c"
  },
  {
   "cell_type": "code",
   "execution_count": 36,
   "outputs": [],
   "source": [
    "from keras.layers import LSTM\n",
    "\n",
    "def build_lstm_model(length_x):\n",
    "    model = Sequential([\n",
    "        LSTM(50, activation='relu', input_shape=(length_x, 1)),\n",
    "        Dense(2, activation='softmax')\n",
    "    ])\n",
    "    \n",
    "    model.compile(optimizer='adam', loss='categorical_crossentropy', metrics=['accuracy'])\n",
    "    return model"
   ],
   "metadata": {
    "collapsed": false,
    "ExecuteTime": {
     "end_time": "2023-08-02T19:59:51.237982Z",
     "start_time": "2023-08-02T19:59:51.221654Z"
    }
   },
   "id": "46c71b6da8ce5f27"
  },
  {
   "cell_type": "code",
   "execution_count": 38,
   "outputs": [
    {
     "name": "stdout",
     "output_type": "stream",
     "text": [
      "WARNING:tensorflow:Layer lstm_1 will not use cuDNN kernels since it doesn't meet the criteria. It will use a generic GPU kernel as fallback when running on GPU.\n",
      "Epoch 1/100\n"
     ]
    },
    {
     "name": "stderr",
     "output_type": "stream",
     "text": [
      "2023-08-02 16:00:08.319219: I tensorflow/core/grappler/optimizers/custom_graph_optimizer_registry.cc:114] Plugin optimizer for device_type GPU is enabled.\n"
     ]
    },
    {
     "name": "stdout",
     "output_type": "stream",
     "text": [
      "714/714 [==============================] - ETA: 0s - loss: 0.1198 - accuracy: 0.9583"
     ]
    },
    {
     "name": "stderr",
     "output_type": "stream",
     "text": [
      "2023-08-02 16:01:14.288940: I tensorflow/core/grappler/optimizers/custom_graph_optimizer_registry.cc:114] Plugin optimizer for device_type GPU is enabled.\n"
     ]
    },
    {
     "name": "stdout",
     "output_type": "stream",
     "text": [
      "714/714 [==============================] - 70s 97ms/step - loss: 0.1198 - accuracy: 0.9583 - val_loss: 0.0360 - val_accuracy: 0.9892\n",
      "Epoch 2/100\n",
      "714/714 [==============================] - 86s 121ms/step - loss: 0.0387 - accuracy: 0.9884 - val_loss: 0.0311 - val_accuracy: 0.9910\n",
      "Epoch 3/100\n",
      "714/714 [==============================] - 92s 129ms/step - loss: 0.0298 - accuracy: 0.9910 - val_loss: 0.0360 - val_accuracy: 0.9879\n",
      "Epoch 4/100\n",
      "714/714 [==============================] - 95s 133ms/step - loss: 0.0278 - accuracy: 0.9916 - val_loss: 0.0264 - val_accuracy: 0.9923\n",
      "Epoch 5/100\n",
      "714/714 [==============================] - 98s 137ms/step - loss: 0.0257 - accuracy: 0.9922 - val_loss: 0.0279 - val_accuracy: 0.9919\n",
      "Epoch 6/100\n",
      "714/714 [==============================] - 93s 130ms/step - loss: 0.0243 - accuracy: 0.9927 - val_loss: 0.0238 - val_accuracy: 0.9932\n",
      "Epoch 7/100\n",
      "714/714 [==============================] - 100s 140ms/step - loss: 0.0230 - accuracy: 0.9932 - val_loss: 0.0217 - val_accuracy: 0.9936\n",
      "Epoch 8/100\n",
      "714/714 [==============================] - 109s 153ms/step - loss: 0.0220 - accuracy: 0.9935 - val_loss: 0.0221 - val_accuracy: 0.9937\n",
      "Epoch 9/100\n",
      "714/714 [==============================] - 117s 163ms/step - loss: 0.0216 - accuracy: 0.9937 - val_loss: 0.0212 - val_accuracy: 0.9938\n",
      "Epoch 10/100\n",
      "714/714 [==============================] - 105s 146ms/step - loss: 0.0212 - accuracy: 0.9938 - val_loss: 0.0281 - val_accuracy: 0.9918\n",
      "Epoch 11/100\n",
      "714/714 [==============================] - 99s 138ms/step - loss: 0.0208 - accuracy: 0.9940 - val_loss: 0.0198 - val_accuracy: 0.9942\n",
      "Epoch 11: early stopping\n"
     ]
    },
    {
     "data": {
      "text/plain": "<keras.src.callbacks.History at 0x334df6350>"
     },
     "execution_count": 38,
     "metadata": {},
     "output_type": "execute_result"
    }
   ],
   "source": [
    "lstm_model = build_lstm_model(len(samples_x[0]))\n",
    "\n",
    "lstm_model.fit(\n",
    "    lstm_train_x,\n",
    "    train_y,\n",
    "    epochs=100,\n",
    "    callbacks=callbacks,\n",
    "    batch_size=4096,\n",
    "    validation_split=0.2,\n",
    "    verbose=1,\n",
    ")"
   ],
   "metadata": {
    "collapsed": false,
    "ExecuteTime": {
     "end_time": "2023-08-02T20:17:51.572095Z",
     "start_time": "2023-08-02T20:00:07.693469Z"
    }
   },
   "id": "dde551093bbf40be"
  },
  {
   "cell_type": "code",
   "execution_count": 39,
   "outputs": [
    {
     "name": "stdout",
     "output_type": "stream",
     "text": [
      "223/223 [==============================] - 5s 22ms/step - loss: 0.0196 - accuracy: 0.9942\n"
     ]
    },
    {
     "data": {
      "text/plain": "{'loss': 0.01963375322520733, 'accuracy': 0.994205117225647}"
     },
     "execution_count": 39,
     "metadata": {},
     "output_type": "execute_result"
    }
   ],
   "source": [
    "lstm_model.evaluate(lstm_test_x, test_y, batch_size=4096, return_dict=True)"
   ],
   "metadata": {
    "collapsed": false,
    "ExecuteTime": {
     "end_time": "2023-08-02T20:17:56.720272Z",
     "start_time": "2023-08-02T20:17:51.578925Z"
    }
   },
   "id": "48f958787466a4e1"
  },
  {
   "cell_type": "code",
   "execution_count": 40,
   "outputs": [
    {
     "name": "stderr",
     "output_type": "stream",
     "text": [
      "/Users/alanalwakeel/miniconda/lib/python3.10/site-packages/keras/src/engine/training.py:3000: UserWarning: You are saving your model as an HDF5 file via `model.save()`. This file format is considered legacy. We recommend using instead the native Keras format, e.g. `model.save('my_model.keras')`.\n",
      "  saving_api.save_model(\n"
     ]
    }
   ],
   "source": [
    "dnn_model.save('dnn_model.h5')\n",
    "lstm_model.save('lstm_model.h5')"
   ],
   "metadata": {
    "collapsed": false,
    "ExecuteTime": {
     "end_time": "2023-08-02T20:39:39.400014Z",
     "start_time": "2023-08-02T20:39:39.236197Z"
    }
   },
   "id": "818c566b16794eb2"
  },
  {
   "cell_type": "code",
   "execution_count": null,
   "outputs": [],
   "source": [],
   "metadata": {
    "collapsed": false
   },
   "id": "7b34c03479299a6e"
  }
 ],
 "metadata": {
  "kernelspec": {
   "display_name": "Python 3",
   "language": "python",
   "name": "python3"
  },
  "language_info": {
   "codemirror_mode": {
    "name": "ipython",
    "version": 2
   },
   "file_extension": ".py",
   "mimetype": "text/x-python",
   "name": "python",
   "nbconvert_exporter": "python",
   "pygments_lexer": "ipython2",
   "version": "2.7.6"
  }
 },
 "nbformat": 4,
 "nbformat_minor": 5
}
