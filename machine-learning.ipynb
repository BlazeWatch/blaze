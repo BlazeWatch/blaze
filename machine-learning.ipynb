{
 "cells": [
  {
   "cell_type": "code",
   "execution_count": null,
   "id": "initial_id",
   "metadata": {
    "collapsed": true
   },
   "outputs": [],
   "source": [
    "import psycopg2\n",
    "from dotenv import load_dotenv\n",
    "import os\n",
    "\n",
    "load_dotenv()\n",
    "\n",
    "conn = psycopg2.connect(\n",
    "    user=os.getenv(\"USER\"),\n",
    "    password=os.getenv(\"PASSWORD\"),\n",
    "    host=os.getenv(\"HOST\"),\n",
    "    dbname=os.getenv(\"DBNAME\")\n",
    ")"
   ]
  },
  {
   "cell_type": "code",
   "execution_count": null,
   "outputs": [],
   "source": [
    "import pandas as pd\n",
    " \n",
    "temp_readings = pd.read_sql_query(\"SELECT * FROM public.temp_readings\", conn)\n",
    "fire_alerts = pd.read_sql_query(\"SELECT * FROM public.fire_alerts\", conn)\n",
    "tweets = pd.read_sql_query(\"SELECT * FROM public.tweets\", conn)"
   ],
   "metadata": {
    "collapsed": false
   },
   "id": "81b48a6520fbb521"
  },
  {
   "cell_type": "code",
   "execution_count": null,
   "outputs": [],
   "source": [
    "temp_readings"
   ],
   "metadata": {
    "collapsed": false
   },
   "id": "c71d6df70b414169"
  },
  {
   "cell_type": "code",
   "execution_count": null,
   "outputs": [],
   "source": [
    "tweets"
   ],
   "metadata": {
    "collapsed": false
   },
   "id": "f4ad1228c21136d6"
  },
  {
   "cell_type": "code",
   "execution_count": null,
   "outputs": [],
   "source": [
    "fire_alerts"
   ],
   "metadata": {
    "collapsed": false
   },
   "id": "e8fbc3e67193fbf6"
  },
  {
   "cell_type": "markdown",
   "source": [
    "# Experiment #1: Predicting fire alerts using temperature readings\n",
    "Every sector at every day has a temperature reading, while only some sectors have messages. To start, we'll try to predict fire alerts on the day of using temperature readings only from the past 7 days."
   ],
   "metadata": {
    "collapsed": false
   },
   "id": "1b5c370b670e88b3"
  },
  {
   "cell_type": "code",
   "execution_count": null,
   "outputs": [],
   "source": [
    "from tqdm import tqdm\n",
    "\n",
    "# create samples from the temperatures in X from the outputs in y\n",
    "# the X has the temperature at a day index+1 (idx 0 = day 1)\n",
    "# the y has the list of days that have fire alerts\n",
    "# each sample should input 7 days, and output 1 or 0 for whether the 7th day has a fire alert\n",
    "samples = []\n",
    "\n",
    "for coord in tqdm(temp_readings['xy'].unique()):\n",
    "    temp = temp_readings[temp_readings['xy'] == coord]\n",
    "    fire = fire_alerts[fire_alerts['xy'] == coord]\n",
    "    X = list(temp['temperature'])\n",
    "    y = list(fire['event_day'])\n",
    "    for i in range(7, len(X)):\n",
    "        samples.append((X[i-7:i], 1 if i in y else 0))\n"
   ],
   "metadata": {
    "collapsed": false
   },
   "id": "f21ac86e9d8cb78d"
  },
  {
   "cell_type": "code",
   "execution_count": null,
   "outputs": [],
   "source": [
    "import numpy as np\n",
    "\n",
    "samples_x, samples_y = zip(*samples)\n",
    "samples_x, samples_y = np.array(samples_x), np.array(samples_y)\n",
    "\n",
    "len(samples_x)"
   ],
   "metadata": {
    "collapsed": false
   },
   "id": "201a2baeb5854335"
  },
  {
   "cell_type": "code",
   "execution_count": null,
   "outputs": [],
   "source": [
    "# plot distribution of samples\n",
    "import matplotlib.pyplot as plt\n",
    "\n",
    "plt.hist(samples_y)"
   ],
   "metadata": {
    "collapsed": false
   },
   "id": "8dd282b0ec3655c9"
  },
  {
   "cell_type": "code",
   "execution_count": null,
   "outputs": [],
   "source": [
    "from imblearn.over_sampling import SMOTE\n",
    "\n",
    "# correct any imbalance before training\n",
    "smote = SMOTE()\n",
    "samples_x, samples_y = smote.fit_resample(samples_x, samples_y)"
   ],
   "metadata": {
    "collapsed": false
   },
   "id": "866bdcf1f08abb6c"
  },
  {
   "cell_type": "code",
   "execution_count": null,
   "outputs": [],
   "source": [
    "plt.hist(samples_y)"
   ],
   "metadata": {
    "collapsed": false
   },
   "id": "1d49f50b4091eac3"
  },
  {
   "cell_type": "code",
   "execution_count": null,
   "outputs": [],
   "source": [
    "# scale the x values\n",
    "from sklearn.preprocessing import StandardScaler\n",
    "\n",
    "def preprocess(x, y):\n",
    "    scaler = StandardScaler()\n",
    "    x = scaler.fit_transform(x)\n",
    "    y = np.array(pd.get_dummies(y))\n",
    "    return x, y, scaler"
   ],
   "metadata": {
    "collapsed": false
   },
   "id": "5176a1013e819366"
  },
  {
   "cell_type": "code",
   "execution_count": null,
   "outputs": [],
   "source": [
    "samples_x, samples_y, scaler = preprocess(samples_x, samples_y)"
   ],
   "metadata": {
    "collapsed": false
   },
   "id": "60627ad7ca6ddbd8"
  },
  {
   "cell_type": "code",
   "execution_count": null,
   "outputs": [],
   "source": [
    "# save the scaler for future use\n",
    "import pickle\n",
    "\n",
    "with open('scaler.pkl', 'wb') as f:\n",
    "    pickle.dump(scaler, f)"
   ],
   "metadata": {
    "collapsed": false
   },
   "id": "bd5c9e43905bdebf"
  },
  {
   "cell_type": "code",
   "execution_count": null,
   "outputs": [],
   "source": [
    "samples_x"
   ],
   "metadata": {
    "collapsed": false
   },
   "id": "8ec977a40ab5d01b"
  },
  {
   "cell_type": "code",
   "execution_count": null,
   "outputs": [],
   "source": [
    "samples_y"
   ],
   "metadata": {
    "collapsed": false
   },
   "id": "cb704cce7821301c"
  },
  {
   "cell_type": "code",
   "execution_count": null,
   "outputs": [],
   "source": [
    "from sklearn.model_selection import train_test_split\n",
    "\n",
    "train_x, test_x, train_y, test_y = train_test_split(samples_x, samples_y, test_size=0.2)"
   ],
   "metadata": {
    "collapsed": false
   },
   "id": "41c5d1d35e5ab140"
  },
  {
   "cell_type": "code",
   "execution_count": null,
   "outputs": [],
   "source": [
    "from keras import Sequential\n",
    "from keras.layers import Dense\n",
    "\n",
    "# implement a simple neural network\n",
    "def build_model(length_x):\n",
    "    model = Sequential([\n",
    "        Dense(32, activation='swish', input_shape=(length_x,)),\n",
    "        Dense(2, activation='softmax')\n",
    "    ])\n",
    "    \n",
    "    model.compile(optimizer='adam', loss='categorical_crossentropy', metrics=['accuracy'])\n",
    "    return model"
   ],
   "metadata": {
    "collapsed": false
   },
   "id": "fb4ac1c35973b95e"
  },
  {
   "cell_type": "code",
   "execution_count": null,
   "outputs": [],
   "source": [
    "from keras.callbacks import EarlyStopping\n",
    "callbacks = [\n",
    "    EarlyStopping(\n",
    "        # Stop training when `val_loss` is no longer improving\n",
    "        monitor=\"val_loss\",\n",
    "        # \"no longer improving\" being defined as \"no better than 1e-2 less\"\n",
    "        min_delta=1e-2,\n",
    "        # \"no longer improving\" being further defined as \"for at least 2 epochs\"\n",
    "        patience=5,\n",
    "        verbose=1,\n",
    "    )\n",
    "]\n",
    "\n",
    "dnn_model = build_model(len(samples_x[0]))\n",
    "\n",
    "dnn_model.fit(\n",
    "    train_x,\n",
    "    train_y,\n",
    "    epochs=100,\n",
    "    callbacks=callbacks,\n",
    "    batch_size=2048,\n",
    "    validation_split=0.2,\n",
    "    verbose=1,\n",
    ")"
   ],
   "metadata": {
    "collapsed": false
   },
   "id": "157ea45f87dd5d1e"
  },
  {
   "cell_type": "code",
   "execution_count": null,
   "outputs": [],
   "source": [
    "dnn_model.evaluate(test_x, test_y, batch_size=512, return_dict=True)"
   ],
   "metadata": {
    "collapsed": false
   },
   "id": "645098d71f61386f"
  },
  {
   "cell_type": "code",
   "execution_count": null,
   "outputs": [],
   "source": [
    "# calculate the accuracy if we always predict [1, 0] to be the output\n",
    "from sklearn.metrics import accuracy_score\n",
    "\n",
    "accuracy_score(test_y, np.array([[1, 0]] * len(test_y)))"
   ],
   "metadata": {
    "collapsed": false
   },
   "id": "1687e65110b509e5"
  },
  {
   "cell_type": "code",
   "execution_count": null,
   "outputs": [],
   "source": [
    "# find the index of a [0, 1] example in the test y\n",
    "dnn_model.predict([test_x[1:2]])"
   ],
   "metadata": {
    "collapsed": false
   },
   "id": "89f6f846c0ca499b"
  },
  {
   "cell_type": "markdown",
   "source": [
    "# Results\n",
    "The model is able to be very accurate, but this relies purely on temperature data. Before we move on to NLP and text analysis, let's try implementing an LSTM for this problem"
   ],
   "metadata": {
    "collapsed": false
   },
   "id": "cb538401787f6132"
  },
  {
   "cell_type": "markdown",
   "source": [
    "# Experiment #2: Predicting fire alerts using temperature readings with an LSTM\n",
    "The LSTM will take in the temperature readings from the past 7 days and output a prediction for the 7th day."
   ],
   "metadata": {
    "collapsed": false
   },
   "id": "1bc4b7685ae23a6b"
  },
  {
   "cell_type": "code",
   "execution_count": null,
   "outputs": [],
   "source": [
    "lstm_train_x = train_x.reshape((train_x.shape[0], train_x.shape[1], 1))\n",
    "lstm_test_x = test_x.reshape((test_x.shape[0], test_x.shape[1], 1))"
   ],
   "metadata": {
    "collapsed": false
   },
   "id": "40fef364e9a5405c"
  },
  {
   "cell_type": "code",
   "execution_count": null,
   "outputs": [],
   "source": [
    "from keras.layers import LSTM\n",
    "\n",
    "def build_lstm_model(length_x):\n",
    "    model = Sequential([\n",
    "        LSTM(50, activation='relu', input_shape=(length_x, 1)),\n",
    "        Dense(2, activation='softmax')\n",
    "    ])\n",
    "    \n",
    "    model.compile(optimizer='adam', loss='categorical_crossentropy', metrics=['accuracy'])\n",
    "    return model"
   ],
   "metadata": {
    "collapsed": false
   },
   "id": "46c71b6da8ce5f27"
  },
  {
   "cell_type": "code",
   "execution_count": null,
   "outputs": [],
   "source": [
    "lstm_model = build_lstm_model(len(samples_x[0]))\n",
    "\n",
    "lstm_model.fit(\n",
    "    lstm_train_x,\n",
    "    train_y,\n",
    "    epochs=100,\n",
    "    callbacks=callbacks,\n",
    "    batch_size=4096,\n",
    "    validation_split=0.2,\n",
    "    verbose=1,\n",
    ")"
   ],
   "metadata": {
    "collapsed": false
   },
   "id": "dde551093bbf40be"
  },
  {
   "cell_type": "code",
   "execution_count": null,
   "outputs": [],
   "source": [
    "lstm_model.evaluate(lstm_test_x, test_y, batch_size=4096, return_dict=True)"
   ],
   "metadata": {
    "collapsed": false
   },
   "id": "48f958787466a4e1"
  },
  {
   "cell_type": "code",
   "execution_count": null,
   "outputs": [],
   "source": [
    "dnn_model.save('dnn_model.h5')\n",
    "lstm_model.save('lstm_model.h5')"
   ],
   "metadata": {
    "collapsed": false
   },
   "id": "818c566b16794eb2"
  },
  {
   "cell_type": "code",
   "execution_count": null,
   "outputs": [],
   "source": [],
   "metadata": {
    "collapsed": false
   },
   "id": "7b34c03479299a6e"
  }
 ],
 "metadata": {
  "kernelspec": {
   "display_name": "Python 3",
   "language": "python",
   "name": "python3"
  },
  "language_info": {
   "codemirror_mode": {
    "name": "ipython",
    "version": 2
   },
   "file_extension": ".py",
   "mimetype": "text/x-python",
   "name": "python",
   "nbconvert_exporter": "python",
   "pygments_lexer": "ipython2",
   "version": "2.7.6"
  }
 },
 "nbformat": 4,
 "nbformat_minor": 5
}
