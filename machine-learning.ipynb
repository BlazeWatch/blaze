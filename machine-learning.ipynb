{
 "cells": [
  {
   "cell_type": "code",
   "execution_count": 1,
   "id": "initial_id",
   "metadata": {
    "collapsed": true,
    "ExecuteTime": {
     "end_time": "2023-08-06T17:59:47.471522100Z",
     "start_time": "2023-08-06T17:59:45.908758600Z"
    }
   },
   "outputs": [],
   "source": [
    "from dotenv import load_dotenv\n",
    "import os\n",
    "from sqlalchemy import create_engine, text as sql_text\n",
    "\n",
    "load_dotenv()\n",
    "\n",
    "conn = create_engine(\n",
    "    f\"postgresql://{os.getenv('PG_USER')}:{os.getenv('PG_PASSWORD')}@{os.getenv('PG_HOST')}/{os.getenv('PG_DBNAME')}\"\n",
    ").connect()"
   ]
  },
  {
   "cell_type": "code",
   "execution_count": 2,
   "outputs": [],
   "source": [
    "import pandas as pd\n",
    " \n",
    "temp_readings = pd.read_sql_query(sql_text(\"SELECT * FROM public.temp_readings\"), conn)\n",
    "fire_alerts = pd.read_sql_query(sql_text(\"SELECT * FROM public.fire_alerts\"), conn)\n",
    "tweets = pd.read_sql_query(sql_text(\"SELECT * FROM public.tweets\"), conn)"
   ],
   "metadata": {
    "collapsed": false,
    "ExecuteTime": {
     "end_time": "2023-08-06T18:00:40.584626600Z",
     "start_time": "2023-08-06T17:59:47.450853700Z"
    }
   },
   "id": "81b48a6520fbb521"
  },
  {
   "cell_type": "code",
   "execution_count": 3,
   "outputs": [
    {
     "data": {
      "text/plain": "          day      xy  temperature       id\n0        2196   (6,0)           40  1975680\n1        2196   (6,1)           58  1975681\n2        2196   (6,2)           64  1975682\n3        2196   (6,3)           44  1975683\n4        2196   (6,4)           46  1975684\n...       ...     ...          ...      ...\n2294094  2196  (5,25)           61  1975675\n2294095  2196  (5,26)           60  1975676\n2294096  2196  (5,27)           50  1975677\n2294097  2196  (5,28)           59  1975678\n2294098  2196  (5,29)           51  1975679\n\n[2294099 rows x 4 columns]",
      "text/html": "<div>\n<style scoped>\n    .dataframe tbody tr th:only-of-type {\n        vertical-align: middle;\n    }\n\n    .dataframe tbody tr th {\n        vertical-align: top;\n    }\n\n    .dataframe thead th {\n        text-align: right;\n    }\n</style>\n<table border=\"1\" class=\"dataframe\">\n  <thead>\n    <tr style=\"text-align: right;\">\n      <th></th>\n      <th>day</th>\n      <th>xy</th>\n      <th>temperature</th>\n      <th>id</th>\n    </tr>\n  </thead>\n  <tbody>\n    <tr>\n      <th>0</th>\n      <td>2196</td>\n      <td>(6,0)</td>\n      <td>40</td>\n      <td>1975680</td>\n    </tr>\n    <tr>\n      <th>1</th>\n      <td>2196</td>\n      <td>(6,1)</td>\n      <td>58</td>\n      <td>1975681</td>\n    </tr>\n    <tr>\n      <th>2</th>\n      <td>2196</td>\n      <td>(6,2)</td>\n      <td>64</td>\n      <td>1975682</td>\n    </tr>\n    <tr>\n      <th>3</th>\n      <td>2196</td>\n      <td>(6,3)</td>\n      <td>44</td>\n      <td>1975683</td>\n    </tr>\n    <tr>\n      <th>4</th>\n      <td>2196</td>\n      <td>(6,4)</td>\n      <td>46</td>\n      <td>1975684</td>\n    </tr>\n    <tr>\n      <th>...</th>\n      <td>...</td>\n      <td>...</td>\n      <td>...</td>\n      <td>...</td>\n    </tr>\n    <tr>\n      <th>2294094</th>\n      <td>2196</td>\n      <td>(5,25)</td>\n      <td>61</td>\n      <td>1975675</td>\n    </tr>\n    <tr>\n      <th>2294095</th>\n      <td>2196</td>\n      <td>(5,26)</td>\n      <td>60</td>\n      <td>1975676</td>\n    </tr>\n    <tr>\n      <th>2294096</th>\n      <td>2196</td>\n      <td>(5,27)</td>\n      <td>50</td>\n      <td>1975677</td>\n    </tr>\n    <tr>\n      <th>2294097</th>\n      <td>2196</td>\n      <td>(5,28)</td>\n      <td>59</td>\n      <td>1975678</td>\n    </tr>\n    <tr>\n      <th>2294098</th>\n      <td>2196</td>\n      <td>(5,29)</td>\n      <td>51</td>\n      <td>1975679</td>\n    </tr>\n  </tbody>\n</table>\n<p>2294099 rows × 4 columns</p>\n</div>"
     },
     "execution_count": 3,
     "metadata": {},
     "output_type": "execute_result"
    }
   ],
   "source": [
    "temp_readings"
   ],
   "metadata": {
    "collapsed": false,
    "ExecuteTime": {
     "end_time": "2023-08-06T18:00:40.602150700Z",
     "start_time": "2023-08-06T18:00:40.595764500Z"
    }
   },
   "id": "c71d6df70b414169"
  },
  {
   "cell_type": "code",
   "execution_count": 4,
   "outputs": [
    {
     "data": {
      "text/plain": "          day      xy score  \\\n0        2548  (4,21)  None   \n1        2548  (4,22)  None   \n2        2548  (4,22)  None   \n3        2548  (4,22)  None   \n4        2548  (4,22)  None   \n...       ...     ...   ...   \n1711158  2548  (4,15)  None   \n1711159  2548  (4,21)  None   \n1711160  2548  (4,21)  None   \n1711161  2548  (4,21)  None   \n1711162  2548  (4,21)  None   \n\n                                                   content       id  \n0        drew near the shore endeavoured to steer so th...  1709920  \n1        only we of the cabin party who perceived the d...  1709921  \n2        to night if you had not slain their deadly foe...  1709922  \n3        by rope suspended from the branches as sailors...  1709923  \n4        and donations to carry out its mission of incr...  1709924  \n...                                                    ...      ...  \n1711158  ran few steps past me towards the hamlet cryin...  1709915  \n1711159  there we pulled easily by silver directions no...  1709916  \n1711160  brush for it in earnest and looked to my primi...  1709917  \n1711161  him know as well as could the meaning of what ...  1709918  \n1711162  called eagerly for help to the other but the c...  1709919  \n\n[1711163 rows x 5 columns]",
      "text/html": "<div>\n<style scoped>\n    .dataframe tbody tr th:only-of-type {\n        vertical-align: middle;\n    }\n\n    .dataframe tbody tr th {\n        vertical-align: top;\n    }\n\n    .dataframe thead th {\n        text-align: right;\n    }\n</style>\n<table border=\"1\" class=\"dataframe\">\n  <thead>\n    <tr style=\"text-align: right;\">\n      <th></th>\n      <th>day</th>\n      <th>xy</th>\n      <th>score</th>\n      <th>content</th>\n      <th>id</th>\n    </tr>\n  </thead>\n  <tbody>\n    <tr>\n      <th>0</th>\n      <td>2548</td>\n      <td>(4,21)</td>\n      <td>None</td>\n      <td>drew near the shore endeavoured to steer so th...</td>\n      <td>1709920</td>\n    </tr>\n    <tr>\n      <th>1</th>\n      <td>2548</td>\n      <td>(4,22)</td>\n      <td>None</td>\n      <td>only we of the cabin party who perceived the d...</td>\n      <td>1709921</td>\n    </tr>\n    <tr>\n      <th>2</th>\n      <td>2548</td>\n      <td>(4,22)</td>\n      <td>None</td>\n      <td>to night if you had not slain their deadly foe...</td>\n      <td>1709922</td>\n    </tr>\n    <tr>\n      <th>3</th>\n      <td>2548</td>\n      <td>(4,22)</td>\n      <td>None</td>\n      <td>by rope suspended from the branches as sailors...</td>\n      <td>1709923</td>\n    </tr>\n    <tr>\n      <th>4</th>\n      <td>2548</td>\n      <td>(4,22)</td>\n      <td>None</td>\n      <td>and donations to carry out its mission of incr...</td>\n      <td>1709924</td>\n    </tr>\n    <tr>\n      <th>...</th>\n      <td>...</td>\n      <td>...</td>\n      <td>...</td>\n      <td>...</td>\n      <td>...</td>\n    </tr>\n    <tr>\n      <th>1711158</th>\n      <td>2548</td>\n      <td>(4,15)</td>\n      <td>None</td>\n      <td>ran few steps past me towards the hamlet cryin...</td>\n      <td>1709915</td>\n    </tr>\n    <tr>\n      <th>1711159</th>\n      <td>2548</td>\n      <td>(4,21)</td>\n      <td>None</td>\n      <td>there we pulled easily by silver directions no...</td>\n      <td>1709916</td>\n    </tr>\n    <tr>\n      <th>1711160</th>\n      <td>2548</td>\n      <td>(4,21)</td>\n      <td>None</td>\n      <td>brush for it in earnest and looked to my primi...</td>\n      <td>1709917</td>\n    </tr>\n    <tr>\n      <th>1711161</th>\n      <td>2548</td>\n      <td>(4,21)</td>\n      <td>None</td>\n      <td>him know as well as could the meaning of what ...</td>\n      <td>1709918</td>\n    </tr>\n    <tr>\n      <th>1711162</th>\n      <td>2548</td>\n      <td>(4,21)</td>\n      <td>None</td>\n      <td>called eagerly for help to the other but the c...</td>\n      <td>1709919</td>\n    </tr>\n  </tbody>\n</table>\n<p>1711163 rows × 5 columns</p>\n</div>"
     },
     "execution_count": 4,
     "metadata": {},
     "output_type": "execute_result"
    }
   ],
   "source": [
    "tweets"
   ],
   "metadata": {
    "collapsed": false,
    "ExecuteTime": {
     "end_time": "2023-08-06T18:00:40.657588100Z",
     "start_time": "2023-08-06T18:00:40.612173400Z"
    }
   },
   "id": "f4ad1228c21136d6"
  },
  {
   "cell_type": "code",
   "execution_count": 5,
   "outputs": [
    {
     "data": {
      "text/plain": "      event_day  notification_day       xy    id\n0            29                32   (1,25)     0\n1            34                37   (9,24)     1\n2            38                41  (20,24)     2\n3            39                42   (0,23)     3\n4            39                42   (28,7)     4\n...         ...               ...      ...   ...\n5600       2332              2335   (27,7)  5600\n5601       2333              2336    (0,2)  5601\n5602       2334              2337   (13,9)  5602\n5603       2340              2343   (2,17)  5603\n5604       2342              2345  (22,22)  5604\n\n[5605 rows x 4 columns]",
      "text/html": "<div>\n<style scoped>\n    .dataframe tbody tr th:only-of-type {\n        vertical-align: middle;\n    }\n\n    .dataframe tbody tr th {\n        vertical-align: top;\n    }\n\n    .dataframe thead th {\n        text-align: right;\n    }\n</style>\n<table border=\"1\" class=\"dataframe\">\n  <thead>\n    <tr style=\"text-align: right;\">\n      <th></th>\n      <th>event_day</th>\n      <th>notification_day</th>\n      <th>xy</th>\n      <th>id</th>\n    </tr>\n  </thead>\n  <tbody>\n    <tr>\n      <th>0</th>\n      <td>29</td>\n      <td>32</td>\n      <td>(1,25)</td>\n      <td>0</td>\n    </tr>\n    <tr>\n      <th>1</th>\n      <td>34</td>\n      <td>37</td>\n      <td>(9,24)</td>\n      <td>1</td>\n    </tr>\n    <tr>\n      <th>2</th>\n      <td>38</td>\n      <td>41</td>\n      <td>(20,24)</td>\n      <td>2</td>\n    </tr>\n    <tr>\n      <th>3</th>\n      <td>39</td>\n      <td>42</td>\n      <td>(0,23)</td>\n      <td>3</td>\n    </tr>\n    <tr>\n      <th>4</th>\n      <td>39</td>\n      <td>42</td>\n      <td>(28,7)</td>\n      <td>4</td>\n    </tr>\n    <tr>\n      <th>...</th>\n      <td>...</td>\n      <td>...</td>\n      <td>...</td>\n      <td>...</td>\n    </tr>\n    <tr>\n      <th>5600</th>\n      <td>2332</td>\n      <td>2335</td>\n      <td>(27,7)</td>\n      <td>5600</td>\n    </tr>\n    <tr>\n      <th>5601</th>\n      <td>2333</td>\n      <td>2336</td>\n      <td>(0,2)</td>\n      <td>5601</td>\n    </tr>\n    <tr>\n      <th>5602</th>\n      <td>2334</td>\n      <td>2337</td>\n      <td>(13,9)</td>\n      <td>5602</td>\n    </tr>\n    <tr>\n      <th>5603</th>\n      <td>2340</td>\n      <td>2343</td>\n      <td>(2,17)</td>\n      <td>5603</td>\n    </tr>\n    <tr>\n      <th>5604</th>\n      <td>2342</td>\n      <td>2345</td>\n      <td>(22,22)</td>\n      <td>5604</td>\n    </tr>\n  </tbody>\n</table>\n<p>5605 rows × 4 columns</p>\n</div>"
     },
     "execution_count": 5,
     "metadata": {},
     "output_type": "execute_result"
    }
   ],
   "source": [
    "fire_alerts"
   ],
   "metadata": {
    "collapsed": false,
    "ExecuteTime": {
     "end_time": "2023-08-06T18:00:40.687373900Z",
     "start_time": "2023-08-06T18:00:40.618156900Z"
    }
   },
   "id": "e8fbc3e67193fbf6"
  },
  {
   "cell_type": "markdown",
   "source": [
    "# Experiment #1: Predicting fire alerts using temperature readings\n",
    "Every sector at every day has a temperature reading, while only some sectors have messages. To start, we'll try to predict fire alerts on the day of using temperature readings only from the past 7 days."
   ],
   "metadata": {
    "collapsed": false
   },
   "id": "1b5c370b670e88b3"
  },
  {
   "cell_type": "code",
   "execution_count": 6,
   "outputs": [
    {
     "name": "stderr",
     "output_type": "stream",
     "text": [
      "100%|██████████| 900/900 [01:12<00:00, 12.41it/s]\n"
     ]
    }
   ],
   "source": [
    "from tqdm import tqdm\n",
    "\n",
    "def rolling_samples(series, window=7):\n",
    "    output = []\n",
    "    for i in range(window, len(series)):\n",
    "        sample = series[i-window:i].tolist()\n",
    "        output.append((sample, i))\n",
    "    return output\n",
    "\n",
    "samples = []\n",
    "for name, group in tqdm(temp_readings.groupby('xy')):\n",
    "    got_yes = False\n",
    "    group = group.sort_values('day')\n",
    "    events = fire_alerts[fire_alerts['xy'] == name]['event_day'].values\n",
    "    temps = rolling_samples(group['temperature'].set_axis(group['day']))\n",
    "    \n",
    "    for temp, i in temps:\n",
    "        samples.append((temp, 1 if i in events else 0))"
   ],
   "metadata": {
    "collapsed": false,
    "ExecuteTime": {
     "end_time": "2023-08-06T18:01:53.400183400Z",
     "start_time": "2023-08-06T18:00:40.631472400Z"
    }
   },
   "id": "f21ac86e9d8cb78d"
  },
  {
   "cell_type": "code",
   "execution_count": 7,
   "outputs": [
    {
     "data": {
      "text/plain": "2287799"
     },
     "execution_count": 7,
     "metadata": {},
     "output_type": "execute_result"
    }
   ],
   "source": [
    "import numpy as np\n",
    "\n",
    "samples_x, samples_y = zip(*samples)\n",
    "samples_x, samples_y = np.array(samples_x), np.array(samples_y)\n",
    "\n",
    "len(samples_x)"
   ],
   "metadata": {
    "collapsed": false,
    "ExecuteTime": {
     "end_time": "2023-08-06T18:01:56.111604600Z",
     "start_time": "2023-08-06T18:01:56.096592100Z"
    }
   },
   "id": "201a2baeb5854335"
  },
  {
   "cell_type": "code",
   "execution_count": 8,
   "outputs": [
    {
     "data": {
      "text/plain": "array([[54, 47, 59, ..., 56, 54, 55],\n       [47, 59, 61, ..., 54, 55, 48],\n       [59, 61, 56, ..., 55, 48, 41],\n       ...,\n       [35, 20, 42, ..., 40, 47, 43],\n       [20, 42, 33, ..., 47, 43, 30],\n       [42, 33, 40, ..., 43, 30, 47]])"
     },
     "execution_count": 8,
     "metadata": {},
     "output_type": "execute_result"
    }
   ],
   "source": [
    "samples_x"
   ],
   "metadata": {
    "collapsed": false,
    "ExecuteTime": {
     "end_time": "2023-08-06T18:01:56.111604600Z",
     "start_time": "2023-08-06T18:01:56.102926400Z"
    }
   },
   "id": "8ec977a40ab5d01b"
  },
  {
   "cell_type": "code",
   "execution_count": 9,
   "outputs": [
    {
     "data": {
      "text/plain": "array([0, 0, 0, ..., 0, 0, 0])"
     },
     "execution_count": 9,
     "metadata": {},
     "output_type": "execute_result"
    }
   ],
   "source": [
    "samples_y"
   ],
   "metadata": {
    "collapsed": false,
    "ExecuteTime": {
     "end_time": "2023-08-06T18:01:56.116434200Z",
     "start_time": "2023-08-06T18:01:56.108924800Z"
    }
   },
   "id": "cb704cce7821301c"
  },
  {
   "cell_type": "code",
   "execution_count": 10,
   "outputs": [],
   "source": [
    "from sklearn.model_selection import train_test_split\n",
    "\n",
    "train_x, test_x, train_y, test_y = train_test_split(samples_x, samples_y, test_size=0.2)"
   ],
   "metadata": {
    "collapsed": false,
    "ExecuteTime": {
     "end_time": "2023-08-06T18:01:56.605019600Z",
     "start_time": "2023-08-06T18:01:56.117433800Z"
    }
   },
   "id": "41c5d1d35e5ab140"
  },
  {
   "cell_type": "code",
   "execution_count": 11,
   "outputs": [
    {
     "data": {
      "text/plain": "<Figure size 1000x500 with 1 Axes>",
      "image/png": "[encoded data removed]"
     },
     "metadata": {},
     "output_type": "display_data"
    }
   ],
   "source": [
    "# plot distribution of samples\n",
    "import matplotlib.pyplot as plt\n",
    "\n",
    "plt.figure(figsize=(10, 5))\n",
    "plt.bar(['No Fire', 'Fire'], [len(train_y[train_y == 0]), len(train_y[train_y == 1])])\n",
    "plt.title('Distribution of No Fire vs Fire Samples')\n",
    "plt.xlabel('Sample Type')\n",
    "plt.ylabel('Number of Samples')\n",
    "plt.yscale('log')\n",
    "plt.show()"
   ],
   "metadata": {
    "collapsed": false,
    "ExecuteTime": {
     "end_time": "2023-08-06T18:01:57.092983200Z",
     "start_time": "2023-08-06T18:01:56.610556900Z"
    }
   },
   "id": "ba5aa9eac85f40b5"
  },
  {
   "cell_type": "code",
   "execution_count": 12,
   "outputs": [],
   "source": [
    "from imblearn.combine import SMOTEENN\n",
    "from imblearn.over_sampling import SMOTE\n",
    "from imblearn.under_sampling import RandomUnderSampler\n",
    "\n",
    "# correct any imbalance before training\n",
    "# smoteenn = SMOTEENN()\n",
    "# train_x, train_y = smoteenn.fit_resample(train_x, train_y)\n",
    "\n",
    "smote = SMOTE()\n",
    "train_x, train_y = smote.fit_resample(train_x, train_y)\n",
    "\n",
    "# rus = RandomUnderSampler()\n",
    "# train_x, train_y = rus.fit_resample(train_x, train_y)"
   ],
   "metadata": {
    "collapsed": false,
    "ExecuteTime": {
     "end_time": "2023-08-06T18:01:57.637092Z",
     "start_time": "2023-08-06T18:01:57.083766800Z"
    }
   },
   "id": "d0657aa324dca767"
  },
  {
   "cell_type": "code",
   "execution_count": 13,
   "outputs": [
    {
     "data": {
      "text/plain": "<Figure size 1000x500 with 1 Axes>",
      "image/png": "[encoded data removed]"
     },
     "metadata": {},
     "output_type": "display_data"
    }
   ],
   "source": [
    "# let's plot after fixing it now\n",
    "plt.figure(figsize=(10, 5))\n",
    "plt.bar(['No Fire', 'Fire'], [len(train_y[train_y == 0]), len(train_y[train_y == 1])])\n",
    "plt.title('Distribution of No Fire vs Fire Samples')\n",
    "plt.xlabel('Sample Type')\n",
    "plt.ylabel('Number of Samples')\n",
    "plt.yscale('log')\n",
    "plt.show()"
   ],
   "metadata": {
    "collapsed": false,
    "ExecuteTime": {
     "end_time": "2023-08-06T18:01:57.831088800Z",
     "start_time": "2023-08-06T18:01:57.641063600Z"
    }
   },
   "id": "93a77a3fad37c36c"
  },
  {
   "cell_type": "code",
   "execution_count": 14,
   "outputs": [],
   "source": [
    "from sklearn.preprocessing import StandardScaler\n",
    "\n",
    "# function to preprocess our data\n",
    "def preprocess_train(x_data, y_data):\n",
    "    x_scaler = StandardScaler()\n",
    "    x_data = x_scaler.fit_transform(x_data)\n",
    "    y_data = np.array(pd.get_dummies(y_data))\n",
    "    return x_data, y_data, x_scaler\n",
    "\n",
    "def preprocess_test(x_data, y_data, x_scaler):\n",
    "    x_data = x_scaler.transform(x_data)\n",
    "    y_data = np.array(pd.get_dummies(y_data))\n",
    "    return x_data, y_data"
   ],
   "metadata": {
    "collapsed": false,
    "ExecuteTime": {
     "end_time": "2023-08-06T18:01:57.846213900Z",
     "start_time": "2023-08-06T18:01:57.833086400Z"
    }
   },
   "id": "120a7e80fd1fb0a9"
  },
  {
   "cell_type": "code",
   "execution_count": 15,
   "outputs": [],
   "source": [
    "train_x, train_y, scaler = preprocess_train(train_x, train_y)\n",
    "test_x, test_y = preprocess_test(test_x, test_y, scaler)"
   ],
   "metadata": {
    "collapsed": false,
    "ExecuteTime": {
     "end_time": "2023-08-06T18:01:58.365047500Z",
     "start_time": "2023-08-06T18:01:57.839089300Z"
    }
   },
   "id": "fdaff0a9a5b17c16"
  },
  {
   "cell_type": "code",
   "execution_count": 16,
   "outputs": [],
   "source": [
    "# save the scaler for future use\n",
    "import pickle\n",
    "\n",
    "with open('scaler.pkl', 'wb') as f:\n",
    "    pickle.dump(scaler, f)"
   ],
   "metadata": {
    "collapsed": false,
    "ExecuteTime": {
     "end_time": "2023-08-06T18:01:58.382560900Z",
     "start_time": "2023-08-06T18:01:58.368048800Z"
    }
   },
   "id": "187b75ee014ba53e"
  },
  {
   "cell_type": "code",
   "execution_count": 17,
   "outputs": [
    {
     "name": "stderr",
     "output_type": "stream",
     "text": [
      "2023-08-06 14:01:58.589968: I tensorflow/core/platform/cpu_feature_guard.cc:182] This TensorFlow binary is optimized to use available CPU instructions in performance-critical operations.\n",
      "To enable the following instructions: AVX2 FMA, in other operations, rebuild TensorFlow with the appropriate compiler flags.\n",
      "2023-08-06 14:01:59.066018: W tensorflow/compiler/tf2tensorrt/utils/py_utils.cc:38] TF-TRT Warning: Could not find TensorRT\n"
     ]
    }
   ],
   "source": [
    "from keras import Sequential\n",
    "from keras.layers import Dense\n",
    "\n",
    "# implement a simple neural network\n",
    "def build_model(length_x):\n",
    "    model = Sequential([\n",
    "        Dense(512, activation='swish', input_shape=(length_x,)),\n",
    "        Dense(2, activation='softmax')\n",
    "    ])\n",
    "    \n",
    "    model.compile(optimizer='Adam', loss='categorical_crossentropy', metrics=['accuracy'])\n",
    "    return model"
   ],
   "metadata": {
    "collapsed": false,
    "ExecuteTime": {
     "end_time": "2023-08-06T18:01:59.530823400Z",
     "start_time": "2023-08-06T18:01:58.382560900Z"
    }
   },
   "id": "fb4ac1c35973b95e"
  },
  {
   "cell_type": "code",
   "execution_count": 18,
   "outputs": [
    {
     "name": "stderr",
     "output_type": "stream",
     "text": [
      "2023-08-06 14:01:59.763174: I tensorflow/compiler/xla/stream_executor/cuda/cuda_gpu_executor.cc:981] could not open file to read NUMA node: /sys/bus/pci/devices/0000:01:00.0/numa_node\n",
      "Your kernel may have been built without NUMA support.\n",
      "2023-08-06 14:01:59.802099: I tensorflow/compiler/xla/stream_executor/cuda/cuda_gpu_executor.cc:981] could not open file to read NUMA node: /sys/bus/pci/devices/0000:01:00.0/numa_node\n",
      "Your kernel may have been built without NUMA support.\n",
      "2023-08-06 14:01:59.802159: I tensorflow/compiler/xla/stream_executor/cuda/cuda_gpu_executor.cc:981] could not open file to read NUMA node: /sys/bus/pci/devices/0000:01:00.0/numa_node\n",
      "Your kernel may have been built without NUMA support.\n",
      "2023-08-06 14:01:59.804321: I tensorflow/compiler/xla/stream_executor/cuda/cuda_gpu_executor.cc:981] could not open file to read NUMA node: /sys/bus/pci/devices/0000:01:00.0/numa_node\n",
      "Your kernel may have been built without NUMA support.\n",
      "2023-08-06 14:01:59.804429: I tensorflow/compiler/xla/stream_executor/cuda/cuda_gpu_executor.cc:981] could not open file to read NUMA node: /sys/bus/pci/devices/0000:01:00.0/numa_node\n",
      "Your kernel may have been built without NUMA support.\n",
      "2023-08-06 14:01:59.804475: I tensorflow/compiler/xla/stream_executor/cuda/cuda_gpu_executor.cc:981] could not open file to read NUMA node: /sys/bus/pci/devices/0000:01:00.0/numa_node\n",
      "Your kernel may have been built without NUMA support.\n",
      "2023-08-06 14:02:00.621769: I tensorflow/compiler/xla/stream_executor/cuda/cuda_gpu_executor.cc:981] could not open file to read NUMA node: /sys/bus/pci/devices/0000:01:00.0/numa_node\n",
      "Your kernel may have been built without NUMA support.\n",
      "2023-08-06 14:02:00.621858: I tensorflow/compiler/xla/stream_executor/cuda/cuda_gpu_executor.cc:981] could not open file to read NUMA node: /sys/bus/pci/devices/0000:01:00.0/numa_node\n",
      "Your kernel may have been built without NUMA support.\n",
      "2023-08-06 14:02:00.621867: I tensorflow/core/common_runtime/gpu/gpu_device.cc:1726] Could not identify NUMA node of platform GPU id 0, defaulting to 0.  Your kernel may not have been built with NUMA support.\n",
      "2023-08-06 14:02:00.621912: I tensorflow/compiler/xla/stream_executor/cuda/cuda_gpu_executor.cc:981] could not open file to read NUMA node: /sys/bus/pci/devices/0000:01:00.0/numa_node\n",
      "Your kernel may have been built without NUMA support.\n",
      "2023-08-06 14:02:00.621942: I tensorflow/core/common_runtime/gpu/gpu_device.cc:1639] Created device /job:localhost/replica:0/task:0/device:GPU:0 with 8889 MB memory:  -> device: 0, name: NVIDIA GeForce RTX 2080 Ti, pci bus id: 0000:01:00.0, compute capability: 7.5\n"
     ]
    },
    {
     "name": "stdout",
     "output_type": "stream",
     "text": [
      "Epoch 1/100\n"
     ]
    },
    {
     "name": "stderr",
     "output_type": "stream",
     "text": [
      "2023-08-06 14:02:02.078398: I tensorflow/compiler/xla/service/service.cc:168] XLA service 0x7fd7f40122d0 initialized for platform CUDA (this does not guarantee that XLA will be used). Devices:\n",
      "2023-08-06 14:02:02.078445: I tensorflow/compiler/xla/service/service.cc:176]   StreamExecutor device (0): NVIDIA GeForce RTX 2080 Ti, Compute Capability 7.5\n",
      "2023-08-06 14:02:02.082681: I tensorflow/compiler/mlir/tensorflow/utils/dump_mlir_util.cc:255] disabling MLIR crash reproducer, set env var `MLIR_CRASH_REPRODUCER_DIRECTORY` to enable.\n",
      "2023-08-06 14:02:02.242615: I tensorflow/compiler/xla/stream_executor/cuda/cuda_dnn.cc:432] Loaded cuDNN version 8600\n",
      "2023-08-06 14:02:02.443481: I tensorflow/tsl/platform/default/subprocess.cc:304] Start cannot spawn child process: Permission denied\n",
      "2023-08-06 14:02:02.508298: I ./tensorflow/compiler/jit/device_compiler.h:186] Compiled cluster using XLA!  This line is logged at most once for the lifetime of the process.\n"
     ]
    },
    {
     "name": "stdout",
     "output_type": "stream",
     "text": [
      "1427/1427 [==============================] - 12s 7ms/step - loss: 0.0558 - accuracy: 0.9818 - val_loss: 0.0267 - val_accuracy: 0.9933\n",
      "Epoch 2/100\n",
      "1427/1427 [==============================] - 11s 8ms/step - loss: 0.0325 - accuracy: 0.9897 - val_loss: 0.0296 - val_accuracy: 0.9919\n",
      "Epoch 3/100\n",
      "1427/1427 [==============================] - 11s 8ms/step - loss: 0.0317 - accuracy: 0.9899 - val_loss: 0.0297 - val_accuracy: 0.9918\n",
      "Epoch 4/100\n",
      "1427/1427 [==============================] - 11s 8ms/step - loss: 0.0285 - accuracy: 0.9911 - val_loss: 0.0290 - val_accuracy: 0.9924\n",
      "Epoch 5/100\n",
      "1427/1427 [==============================] - 10s 7ms/step - loss: 0.0254 - accuracy: 0.9923 - val_loss: 0.0194 - val_accuracy: 0.9959\n",
      "Epoch 6/100\n",
      "1427/1427 [==============================] - 10s 7ms/step - loss: 0.0239 - accuracy: 0.9928 - val_loss: 0.0254 - val_accuracy: 0.9935\n",
      "Epoch 6: early stopping\n"
     ]
    },
    {
     "data": {
      "text/plain": "<keras.src.callbacks.History at 0x7fd8d7c555e0>"
     },
     "execution_count": 18,
     "metadata": {},
     "output_type": "execute_result"
    }
   ],
   "source": [
    "from keras.callbacks import EarlyStopping\n",
    "callbacks = [\n",
    "    EarlyStopping(\n",
    "        # Stop training when `val_loss` is no longer improving\n",
    "        monitor=\"val_loss\",\n",
    "        min_delta=1e-2,\n",
    "        patience=5,\n",
    "        verbose=1,\n",
    "    )\n",
    "]\n",
    "\n",
    "dnn_model = build_model(len(samples_x[0]))\n",
    "\n",
    "dnn_model.fit(\n",
    "    train_x,\n",
    "    train_y,\n",
    "    epochs=100,\n",
    "    callbacks=callbacks,\n",
    "    batch_size=2048,\n",
    "    validation_split=0.2,\n",
    "    verbose=1,\n",
    ")"
   ],
   "metadata": {
    "collapsed": false,
    "ExecuteTime": {
     "end_time": "2023-08-06T18:03:06.947407900Z",
     "start_time": "2023-08-06T18:01:59.535856600Z"
    }
   },
   "id": "157ea45f87dd5d1e"
  },
  {
   "cell_type": "code",
   "execution_count": 19,
   "outputs": [
    {
     "name": "stdout",
     "output_type": "stream",
     "text": [
      "894/894 [==============================] - 5s 5ms/step - loss: 0.0228 - accuracy: 0.9924\n"
     ]
    },
    {
     "data": {
      "text/plain": "{'loss': 0.02276933565735817, 'accuracy': 0.9923507571220398}"
     },
     "execution_count": 19,
     "metadata": {},
     "output_type": "execute_result"
    }
   ],
   "source": [
    "dnn_model.evaluate(test_x, test_y, batch_size=512, return_dict=True)"
   ],
   "metadata": {
    "collapsed": false,
    "ExecuteTime": {
     "end_time": "2023-08-06T18:03:11.874416300Z",
     "start_time": "2023-08-06T18:03:06.939413800Z"
    }
   },
   "id": "645098d71f61386f"
  },
  {
   "cell_type": "code",
   "execution_count": 20,
   "outputs": [
    {
     "data": {
      "text/plain": "0.4989684412973162"
     },
     "execution_count": 20,
     "metadata": {},
     "output_type": "execute_result"
    }
   ],
   "source": [
    "# calculate the accuracy if we always predict [1, 0] to be the output\n",
    "from sklearn.metrics import accuracy_score\n",
    "import random\n",
    "\n",
    "random_predictions = [random.choice([[0, 1], [1, 0]]) for _ in range(len(test_y))]\n",
    "\n",
    "accuracy_score(test_y, np.array(random_predictions))"
   ],
   "metadata": {
    "collapsed": false,
    "ExecuteTime": {
     "end_time": "2023-08-06T18:07:33.759062700Z",
     "start_time": "2023-08-06T18:07:33.385165900Z"
    }
   },
   "id": "1687e65110b509e5"
  },
  {
   "cell_type": "code",
   "execution_count": 21,
   "outputs": [
    {
     "name": "stdout",
     "output_type": "stream",
     "text": [
      "1/1 [==============================] - 0s 58ms/step\n"
     ]
    },
    {
     "data": {
      "text/plain": "array([[3.0442807e-06, 9.9999690e-01]], dtype=float32)"
     },
     "execution_count": 21,
     "metadata": {},
     "output_type": "execute_result"
    }
   ],
   "source": [
    "# find the index of a [0, 1] example in the test y and predict it\n",
    "idx = np.where(test_y == [0, 1])[0][0]\n",
    "dnn_model.predict(test_x[idx:idx+1])"
   ],
   "metadata": {
    "collapsed": false,
    "ExecuteTime": {
     "end_time": "2023-08-06T18:07:49.736073100Z",
     "start_time": "2023-08-06T18:07:49.611383500Z"
    }
   },
   "id": "89f6f846c0ca499b"
  },
  {
   "cell_type": "markdown",
   "source": [
    "The model is able to be somewhat accurate, but this relies purely on temperature data. Before we move on to NLP and text analysis, let's try implementing an LSTM for this problem"
   ],
   "metadata": {
    "collapsed": false
   },
   "id": "cb538401787f6132"
  },
  {
   "cell_type": "markdown",
   "source": [
    "# Experiment #2: Predicting fire alerts using temperature readings with an LSTM\n",
    "The LSTM will take in the temperature readings from the past 7 days and output a prediction for the 7th day."
   ],
   "metadata": {
    "collapsed": false
   },
   "id": "1bc4b7685ae23a6b"
  },
  {
   "cell_type": "code",
   "execution_count": 22,
   "outputs": [],
   "source": [
    "lstm_train_x = train_x.reshape((train_x.shape[0], train_x.shape[1], 1))\n",
    "lstm_test_x = test_x.reshape((test_x.shape[0], test_x.shape[1], 1))"
   ],
   "metadata": {
    "collapsed": false,
    "ExecuteTime": {
     "end_time": "2023-08-06T18:07:51.076159400Z",
     "start_time": "2023-08-06T18:07:51.057160300Z"
    }
   },
   "id": "40fef364e9a5405c"
  },
  {
   "cell_type": "code",
   "execution_count": 23,
   "outputs": [],
   "source": [
    "from keras.layers import LSTM\n",
    "\n",
    "def build_lstm_model(length_x):\n",
    "    model = Sequential([\n",
    "        LSTM(50, activation='swish', input_shape=(length_x, 1)),\n",
    "        Dense(2, activation='softmax')\n",
    "    ])\n",
    "    \n",
    "    model.compile(optimizer='adam', loss='categorical_crossentropy', metrics=['accuracy'])\n",
    "    return model"
   ],
   "metadata": {
    "collapsed": false,
    "ExecuteTime": {
     "end_time": "2023-08-06T18:07:51.396095100Z",
     "start_time": "2023-08-06T18:07:51.346277700Z"
    }
   },
   "id": "46c71b6da8ce5f27"
  },
  {
   "cell_type": "code",
   "execution_count": 24,
   "outputs": [
    {
     "name": "stdout",
     "output_type": "stream",
     "text": [
      "WARNING:tensorflow:Layer lstm will not use cuDNN kernels since it doesn't meet the criteria. It will use a generic GPU kernel as fallback when running on GPU.\n",
      "Epoch 1/100\n",
      "714/714 [==============================] - 25s 33ms/step - loss: 0.1977 - accuracy: 0.9069 - val_loss: 0.0483 - val_accuracy: 0.9876\n",
      "Epoch 2/100\n",
      "714/714 [==============================] - 22s 31ms/step - loss: 0.0313 - accuracy: 0.9903 - val_loss: 0.0326 - val_accuracy: 0.9912\n",
      "Epoch 3/100\n",
      "714/714 [==============================] - 22s 31ms/step - loss: 0.0278 - accuracy: 0.9915 - val_loss: 0.0399 - val_accuracy: 0.9889\n",
      "Epoch 4/100\n",
      "714/714 [==============================] - 22s 31ms/step - loss: 0.0245 - accuracy: 0.9924 - val_loss: 0.0242 - val_accuracy: 0.9932\n",
      "Epoch 5/100\n",
      "714/714 [==============================] - 22s 31ms/step - loss: 0.0230 - accuracy: 0.9930 - val_loss: 0.0164 - val_accuracy: 0.9966\n",
      "Epoch 6/100\n",
      "714/714 [==============================] - 22s 31ms/step - loss: 0.0226 - accuracy: 0.9932 - val_loss: 0.0369 - val_accuracy: 0.9900\n",
      "Epoch 7/100\n",
      "714/714 [==============================] - 22s 31ms/step - loss: 0.0221 - accuracy: 0.9934 - val_loss: 0.0079 - val_accuracy: 0.9986\n",
      "Epoch 8/100\n",
      "714/714 [==============================] - 23s 32ms/step - loss: 0.0216 - accuracy: 0.9936 - val_loss: 0.0166 - val_accuracy: 0.9960\n",
      "Epoch 9/100\n",
      "714/714 [==============================] - 23s 32ms/step - loss: 0.0214 - accuracy: 0.9937 - val_loss: 0.0144 - val_accuracy: 0.9968\n",
      "Epoch 10/100\n",
      "714/714 [==============================] - 23s 32ms/step - loss: 0.0212 - accuracy: 0.9938 - val_loss: 0.0206 - val_accuracy: 0.9945\n",
      "Epoch 10: early stopping\n"
     ]
    },
    {
     "data": {
      "text/plain": "<keras.src.callbacks.History at 0x7fd88b9c9760>"
     },
     "execution_count": 24,
     "metadata": {},
     "output_type": "execute_result"
    }
   ],
   "source": [
    "lstm_model = build_lstm_model(len(samples_x[0]))\n",
    "\n",
    "lstm_model.fit(\n",
    "    lstm_train_x,\n",
    "    train_y,\n",
    "    epochs=100,\n",
    "    callbacks=callbacks,\n",
    "    batch_size=4096,\n",
    "    validation_split=0.2,\n",
    "    verbose=1,\n",
    ")"
   ],
   "metadata": {
    "collapsed": false,
    "ExecuteTime": {
     "end_time": "2023-08-06T18:11:39.133083200Z",
     "start_time": "2023-08-06T18:07:51.532882600Z"
    }
   },
   "id": "dde551093bbf40be"
  },
  {
   "cell_type": "code",
   "execution_count": 25,
   "outputs": [
    {
     "name": "stdout",
     "output_type": "stream",
     "text": [
      "112/112 [==============================] - 1s 10ms/step - loss: 0.0212 - accuracy: 0.9933\n"
     ]
    },
    {
     "data": {
      "text/plain": "{'loss': 0.021204855293035507, 'accuracy': 0.9933080077171326}"
     },
     "execution_count": 25,
     "metadata": {},
     "output_type": "execute_result"
    }
   ],
   "source": [
    "lstm_model.evaluate(lstm_test_x, test_y, batch_size=4096, return_dict=True)"
   ],
   "metadata": {
    "collapsed": false,
    "ExecuteTime": {
     "end_time": "2023-08-06T18:11:40.293503300Z",
     "start_time": "2023-08-06T18:11:39.123537600Z"
    }
   },
   "id": "48f958787466a4e1"
  },
  {
   "cell_type": "code",
   "execution_count": 26,
   "outputs": [
    {
     "name": "stdout",
     "output_type": "stream",
     "text": [
      "1/1 [==============================] - 0s 110ms/step\n"
     ]
    },
    {
     "data": {
      "text/plain": "array([[4.0937002e-06, 9.9999595e-01]], dtype=float32)"
     },
     "execution_count": 26,
     "metadata": {},
     "output_type": "execute_result"
    }
   ],
   "source": [
    "idx = np.where(test_y == [0, 1])[0][0]\n",
    "lstm_model.predict(test_x[idx:idx+1])"
   ],
   "metadata": {
    "collapsed": false,
    "ExecuteTime": {
     "end_time": "2023-08-06T18:11:40.454203300Z",
     "start_time": "2023-08-06T18:11:40.292503700Z"
    }
   },
   "id": "af61b43e9131c5d9"
  },
  {
   "cell_type": "code",
   "execution_count": 27,
   "outputs": [
    {
     "name": "stderr",
     "output_type": "stream",
     "text": [
      "/home/alana/miniconda3/envs/tf/lib/python3.9/site-packages/keras/src/engine/training.py:3000: UserWarning: You are saving your model as an HDF5 file via `model.save()`. This file format is considered legacy. We recommend using instead the native Keras format, e.g. `model.save('my_model.keras')`.\n",
      "  saving_api.save_model(\n"
     ]
    }
   ],
   "source": [
    "# save our two temperature models\n",
    "dnn_model.save('dnn_model.h5')\n",
    "lstm_model.save('lstm_model.h5')"
   ],
   "metadata": {
    "collapsed": false,
    "ExecuteTime": {
     "end_time": "2023-08-06T18:11:40.522647100Z",
     "start_time": "2023-08-06T18:11:40.453203Z"
    }
   },
   "id": "818c566b16794eb2"
  },
  {
   "cell_type": "markdown",
   "source": [
    "# Experiment #3: Converting text to \"temperature\" data\n",
    "We will try using sentiment analysis to convert text to \"temperature\" data (dubbed heat index)."
   ],
   "metadata": {
    "collapsed": false
   },
   "id": "4680c3258096e542"
  },
  {
   "cell_type": "code",
   "execution_count": null,
   "outputs": [],
   "source": [
    "# combine data from tweets and temperature\n",
    "# merge the two DataFrames on 'day' and 'xy' columns\n",
    "merged_df = tweets.merge(temp_readings, on=['day', 'xy'])\n",
    "\n",
    "# get the desired 'content' and 'temperature' columns \n",
    "tweet_samples = merged_df[['content', 'temperature']].values.tolist()\n",
    "\n",
    "tweet_samples"
   ],
   "metadata": {
    "collapsed": false
   },
   "id": "f210c4d4e1668f07"
  },
  {
   "cell_type": "code",
   "execution_count": null,
   "outputs": [],
   "source": [
    "# now that we have our tweets and temperatures, let's try to train a sentiment analysis model to predict temperature from tweet content\n",
    "# first, let's preprocess our data\n",
    "from nltk.corpus import stopwords\n",
    "from nltk.stem import WordNetLemmatizer\n",
    "import nltk\n",
    "import re\n",
    "from tqdm import tqdm\n",
    "\n",
    "# download the stopwords and lemmatizer\n",
    "nltk.download('stopwords')\n",
    "nltk.download('wordnet')\n",
    "\n",
    "# initialize the lemmatizer\n",
    "lemmatizer = WordNetLemmatizer()\n",
    "\n",
    "# now, convert stopwords to set since lookup is faster in set\n",
    "stopwords_set = set(stopwords.words('english'))\n",
    "\n",
    "# then, modify the preprocess function\n",
    "def preprocess_data(data):\n",
    "    preprocessed_data = []\n",
    "    for tweet in tqdm(data):\n",
    "        tweet = re.sub('[^a-zA-Z0-9]', ' ', tweet)\n",
    "        tweet = tweet.lower().split()\n",
    "        # you can now check in set, which is faster than list\n",
    "        tweet = [lemmatizer.lemmatize(word) for word in tweet if word not in stopwords_set]\n",
    "        tweet = ' '.join(tweet)\n",
    "        preprocessed_data.append(tweet)\n",
    "    return preprocessed_data"
   ],
   "metadata": {
    "collapsed": false
   },
   "id": "651589d15e5839b6"
  },
  {
   "cell_type": "code",
   "execution_count": null,
   "outputs": [],
   "source": [
    "# preprocess our data\n",
    "preprocessed_tweets = preprocess_data([tweet[0] for tweet in tweet_samples])"
   ],
   "metadata": {
    "collapsed": false
   },
   "id": "2b42b2fd954aa4db"
  },
  {
   "cell_type": "code",
   "execution_count": null,
   "outputs": [],
   "source": [
    "# now, let's try to train a sentiment analysis model\n",
    "from sklearn.model_selection import train_test_split\n",
    "\n",
    "# split our data into train and test sets\n",
    "train_x, test_x, train_y, test_y = train_test_split(preprocessed_tweets, [tweet[1] for tweet in tweet_samples], test_size=0.2,)"
   ],
   "metadata": {
    "collapsed": false
   },
   "id": "65e542340b7d1ab0"
  },
  {
   "cell_type": "code",
   "execution_count": null,
   "outputs": [],
   "source": [
    "# convert our data to a format that the model can understand\n",
    "from keras.preprocessing.text import Tokenizer\n",
    "from keras.preprocessing.sequence import pad_sequences\n",
    "\n",
    "# initialize the tokenizer\n",
    "print('Fitting tokenizer...')\n",
    "tokenizer = Tokenizer(num_words=10000, oov_token='<OOV>')\n",
    "tokenizer.fit_on_texts(train_x)\n",
    "\n",
    "# convert our text to sequences\n",
    "print('Converting text to sequences...')\n",
    "train_sequences = tokenizer.texts_to_sequences(train_x)\n",
    "test_sequences = tokenizer.texts_to_sequences(test_x)\n",
    "\n",
    "# pad our sequences\n",
    "print('Padding sequences...')\n",
    "train_padded = pad_sequences(train_sequences, maxlen=100, padding='post', truncating='post')\n",
    "test_padded = pad_sequences(test_sequences, maxlen=100, padding='post', truncating='post')\n",
    "\n",
    "# scale our temperatures\n",
    "print('Scaling temperatures...')\n",
    "temperature_scaler = StandardScaler()\n",
    "train_y = temperature_scaler.fit_transform(np.array(train_y).reshape(-1, 1))\n",
    "test_y = temperature_scaler.transform(np.array(test_y).reshape(-1, 1))"
   ],
   "metadata": {
    "collapsed": false
   },
   "id": "99670e4f726b2224"
  },
  {
   "cell_type": "code",
   "execution_count": null,
   "outputs": [],
   "source": [
    "# plot the distribution of temperatures\n",
    "plt.hist([tweet[1] for tweet in tweet_samples], bins=100)\n",
    "plt.title('Distribution of Temperatures')\n",
    "plt.xlabel('Temperature')\n",
    "plt.ylabel('Frequency')"
   ],
   "metadata": {
    "collapsed": false
   },
   "id": "daad0ac7a63b138f"
  },
  {
   "cell_type": "code",
   "execution_count": null,
   "outputs": [],
   "source": [
    "# save the temperature scaler\n",
    "import pickle\n",
    "\n",
    "with open('temperature_scaler.pkl', 'wb') as f:\n",
    "    pickle.dump(temperature_scaler, f)"
   ],
   "metadata": {
    "collapsed": false
   },
   "id": "b14885c2cadd78e7"
  },
  {
   "cell_type": "code",
   "execution_count": null,
   "outputs": [],
   "source": [
    "# build our model\n",
    "from keras.layers import Embedding, GlobalAveragePooling1D\n",
    "from keras.metrics import RootMeanSquaredError\n",
    "from keras.optimizers import Adam\n",
    "\n",
    "def build_sentiment_model(lr=3e-5):\n",
    "    model = Sequential([\n",
    "        Embedding(10000, 16, input_length=100),\n",
    "        GlobalAveragePooling1D(),\n",
    "        Dense(16, activation='swish'),\n",
    "        Dense(1, activation='linear')\n",
    "    ])\n",
    "    \n",
    "    opt = Adam(learning_rate=lr)\n",
    "    \n",
    "    model.compile(optimizer=opt, loss='mse', metrics=['mae', RootMeanSquaredError('rmse')])\n",
    "    return model"
   ],
   "metadata": {
    "collapsed": false
   },
   "id": "cc1a0f845ec60625"
  },
  {
   "cell_type": "code",
   "execution_count": null,
   "outputs": [],
   "source": [
    "# train our model\n",
    "sentiment_model = build_sentiment_model(lr=3e-7)\n",
    "\n",
    "sentiment_model.fit(\n",
    "    train_padded,\n",
    "    train_y,\n",
    "    epochs=100,\n",
    "    callbacks=callbacks,\n",
    "    batch_size=128,\n",
    "    validation_split=0.2,\n",
    "    verbose=1,\n",
    ")"
   ],
   "metadata": {
    "collapsed": false
   },
   "id": "bf0bab376934c79f"
  },
  {
   "cell_type": "code",
   "execution_count": null,
   "outputs": [],
   "source": [
    "sentiment_model.evaluate(test_padded, test_y, batch_size=64, return_dict=True)"
   ],
   "metadata": {
    "collapsed": false
   },
   "id": "129cf7db652de768"
  },
  {
   "cell_type": "code",
   "execution_count": null,
   "outputs": [],
   "source": [
    "# try an example out\n",
    "# pick a high heat index tweet\n",
    "idx = np.where(test_y > 0)[0][0]\n",
    "print(test_x[idx])"
   ],
   "metadata": {
    "collapsed": false
   },
   "id": "4b09029d67e1bfd0"
  },
  {
   "cell_type": "markdown",
   "source": [
    "It is clear that the model is not performing well. This is because the temperature data is not linearly correlated with the sentiment of the tweet. We will try to use a different approach."
   ],
   "metadata": {
    "collapsed": false
   },
   "id": "20fa7717dd793784"
  },
  {
   "cell_type": "markdown",
   "source": [
    "# Experiment #4: Using a pretrained sentiment analysis model\n",
    "We will try to use a pretrained sentiment analysis model, BERT, to convert text to \"temperature\" data (dubbed heat index)."
   ],
   "metadata": {
    "collapsed": false
   },
   "id": "bfb676613f97ffb1"
  },
  {
   "cell_type": "code",
   "execution_count": null,
   "outputs": [],
   "source": [
    "from keras import Input, Model\n",
    "from transformers import TFBertModel, BertTokenizerFast\n",
    "\n",
    "def build_bert_model():\n",
    "    # initialize the tokenizer\n",
    "    bert_tokenizer = BertTokenizerFast.from_pretrained('bert-base-uncased')\n",
    "    \n",
    "    # initialize the model\n",
    "    bert_model = TFBertModel.from_pretrained('bert-base-uncased')\n",
    "    \n",
    "    # build the model\n",
    "    input_ids = Input(shape=(100,), dtype='int32')\n",
    "    attention_mask = Input(shape=(100,), dtype='int32')\n",
    "    embedding = bert_model(input_ids, attention_mask=attention_mask)[0]\n",
    "    embedding = GlobalAveragePooling1D()(embedding)\n",
    "    embedding = Dense(16, activation='swish')(embedding)\n",
    "    output = Dense(1, activation='linear')(embedding)\n",
    "    \n",
    "    model = Model(inputs=[input_ids, attention_mask], outputs=output)\n",
    "    \n",
    "    # freeze the bert model\n",
    "    bert_model.trainable = False\n",
    "    \n",
    "    # compile the model\n",
    "    model.compile(optimizer='adam', loss='mse', metrics=['mae', RootMeanSquaredError('rmse')])\n",
    "    \n",
    "    return model, bert_tokenizer"
   ],
   "metadata": {
    "collapsed": false
   },
   "id": "1e33ceea0a0c7392"
  },
  {
   "cell_type": "code",
   "execution_count": null,
   "outputs": [],
   "source": [
    "# build the model\n",
    "bert_model, bert_tokenizer = build_bert_model()"
   ],
   "metadata": {
    "collapsed": false
   },
   "id": "57f2eaabb3c6a518"
  },
  {
   "cell_type": "code",
   "execution_count": null,
   "outputs": [],
   "source": [
    "# split our data into train and test sets\n",
    "train_x, test_x, train_y, test_y = train_test_split(preprocessed_tweets, [tweet[1] for tweet in tweet_samples], test_size=0.2, )"
   ],
   "metadata": {
    "collapsed": false
   },
   "id": "93ab150b68e2f625"
  },
  {
   "cell_type": "code",
   "execution_count": null,
   "outputs": [],
   "source": [
    "# convert our data to a format that the BERT model can understand\n",
    "# convert our text to sequences\n",
    "print('Converting text to sequences...')\n",
    "train_sequences = bert_tokenizer.batch_encode_plus(train_x, max_length=100, truncation=True, padding='max_length', return_tensors='tf')\n",
    "test_sequences = bert_tokenizer.batch_encode_plus(test_x, max_length=100, truncation=True, padding='max_length', return_tensors='tf')\n",
    "\n",
    "# scale our temperatures\n",
    "print('Scaling temperatures...')\n",
    "train_y = temperature_scaler.transform(np.array(train_y).reshape(-1, 1))\n",
    "test_y = temperature_scaler.transform(np.array(test_y).reshape(-1, 1))"
   ],
   "metadata": {
    "collapsed": false
   },
   "id": "da35f4b303db3f4b"
  },
  {
   "cell_type": "code",
   "execution_count": null,
   "outputs": [],
   "source": [
    "# train our model\n",
    "bert_model.fit(\n",
    "    [train_sequences['input_ids'], train_sequences['attention_mask']],\n",
    "    train_y,\n",
    "    epochs=100,\n",
    "    callbacks=callbacks,\n",
    "    batch_size=128,\n",
    "    validation_split=0.2,\n",
    "    verbose=1,\n",
    ")"
   ],
   "metadata": {
    "collapsed": false
   },
   "id": "852b9dba0b15332e"
  },
  {
   "cell_type": "code",
   "execution_count": null,
   "outputs": [],
   "source": [
    "bert_model.evaluate([test_sequences['input_ids'], test_sequences['attention_mask']], test_y, batch_size=64, return_dict=True)"
   ],
   "metadata": {
    "collapsed": false
   },
   "id": "ff974a74541c725d"
  },
  {
   "cell_type": "code",
   "execution_count": null,
   "outputs": [],
   "source": [],
   "metadata": {
    "collapsed": false
   },
   "id": "dd09ae0f578ed9c7"
  },
  {
   "cell_type": "code",
   "execution_count": null,
   "outputs": [],
   "source": [],
   "metadata": {
    "collapsed": false
   },
   "id": "be4b40c385368d6d"
  }
 ],
 "metadata": {
  "kernelspec": {
   "display_name": "Python 3",
   "language": "python",
   "name": "python3"
  },
  "language_info": {
   "codemirror_mode": {
    "name": "ipython",
    "version": 2
   },
   "file_extension": ".py",
   "mimetype": "text/x-python",
   "name": "python",
   "nbconvert_exporter": "python",
   "pygments_lexer": "ipython2",
   "version": "2.7.6"
  }
 },
 "nbformat": 4,
 "nbformat_minor": 5
}
