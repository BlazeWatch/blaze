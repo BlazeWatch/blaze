{
 "cells": [
  {
   "cell_type": "code",
   "execution_count": 1,
   "id": "initial_id",
   "metadata": {
    "ExecuteTime": {
     "end_time": "2023-08-08T01:02:24.969527600Z",
     "start_time": "2023-08-08T01:02:23.420926500Z"
    }
   },
   "outputs": [],
   "source": [
    "from dotenv import load_dotenv\n",
    "import os\n",
    "from sqlalchemy import create_engine, text as sql_text\n",
    "\n",
    "load_dotenv()\n",
    "\n",
    "conn = create_engine(\n",
    "    f\"postgresql://{os.getenv('PG_USER')}:{os.getenv('PG_PASSWORD')}@{os.getenv('PG_HOST')}/{os.getenv('PG_DBNAME')}\"\n",
    ").connect()"
   ]
  },
  {
   "cell_type": "code",
   "execution_count": 2,
   "id": "81b48a6520fbb521",
   "metadata": {
    "ExecuteTime": {
     "end_time": "2023-08-08T01:03:22.103091200Z",
     "start_time": "2023-08-08T01:02:24.951141500Z"
    },
    "collapsed": false,
    "jupyter": {
     "outputs_hidden": false
    }
   },
   "outputs": [],
   "source": [
    "import pandas as pd\n",
    "\n",
    "temp_readings = pd.read_sql_query(sql_text(\"SELECT * FROM public.temp_readings\"), conn)\n",
    "fire_alerts = pd.read_sql_query(sql_text(\"SELECT * FROM public.fire_alerts\"), conn)\n",
    "tweets = pd.read_sql_query(sql_text(\"SELECT * FROM public.tweets\"), conn)"
   ]
  },
  {
   "cell_type": "code",
   "execution_count": 3,
   "id": "c71d6df70b414169",
   "metadata": {
    "ExecuteTime": {
     "end_time": "2023-08-07T21:06:05.108081200Z",
     "start_time": "2023-08-07T21:06:05.098087500Z"
    },
    "collapsed": false,
    "jupyter": {
     "outputs_hidden": false
    }
   },
   "outputs": [
    {
     "data": {
      "text/html": [
       "<div>\n",
       "<style scoped>\n",
       "    .dataframe tbody tr th:only-of-type {\n",
       "        vertical-align: middle;\n",
       "    }\n",
       "\n",
       "    .dataframe tbody tr th {\n",
       "        vertical-align: top;\n",
       "    }\n",
       "\n",
       "    .dataframe thead th {\n",
       "        text-align: right;\n",
       "    }\n",
       "</style>\n",
       "<table border=\"1\" class=\"dataframe\">\n",
       "  <thead>\n",
       "    <tr style=\"text-align: right;\">\n",
       "      <th></th>\n",
       "      <th>day</th>\n",
       "      <th>xy</th>\n",
       "      <th>temperature</th>\n",
       "      <th>id</th>\n",
       "    </tr>\n",
       "  </thead>\n",
       "  <tbody>\n",
       "    <tr>\n",
       "      <th>0</th>\n",
       "      <td>2226</td>\n",
       "      <td>(2,0)</td>\n",
       "      <td>72</td>\n",
       "      <td>2002560</td>\n",
       "    </tr>\n",
       "    <tr>\n",
       "      <th>1</th>\n",
       "      <td>2226</td>\n",
       "      <td>(2,1)</td>\n",
       "      <td>75</td>\n",
       "      <td>2002561</td>\n",
       "    </tr>\n",
       "    <tr>\n",
       "      <th>2</th>\n",
       "      <td>2226</td>\n",
       "      <td>(2,2)</td>\n",
       "      <td>95</td>\n",
       "      <td>2002562</td>\n",
       "    </tr>\n",
       "    <tr>\n",
       "      <th>3</th>\n",
       "      <td>2226</td>\n",
       "      <td>(2,3)</td>\n",
       "      <td>78</td>\n",
       "      <td>2002563</td>\n",
       "    </tr>\n",
       "    <tr>\n",
       "      <th>4</th>\n",
       "      <td>2226</td>\n",
       "      <td>(2,4)</td>\n",
       "      <td>82</td>\n",
       "      <td>2002564</td>\n",
       "    </tr>\n",
       "    <tr>\n",
       "      <th>...</th>\n",
       "      <td>...</td>\n",
       "      <td>...</td>\n",
       "      <td>...</td>\n",
       "      <td>...</td>\n",
       "    </tr>\n",
       "    <tr>\n",
       "      <th>2294094</th>\n",
       "      <td>2226</td>\n",
       "      <td>(1,25)</td>\n",
       "      <td>73</td>\n",
       "      <td>2002555</td>\n",
       "    </tr>\n",
       "    <tr>\n",
       "      <th>2294095</th>\n",
       "      <td>2226</td>\n",
       "      <td>(1,26)</td>\n",
       "      <td>78</td>\n",
       "      <td>2002556</td>\n",
       "    </tr>\n",
       "    <tr>\n",
       "      <th>2294096</th>\n",
       "      <td>2226</td>\n",
       "      <td>(1,27)</td>\n",
       "      <td>84</td>\n",
       "      <td>2002557</td>\n",
       "    </tr>\n",
       "    <tr>\n",
       "      <th>2294097</th>\n",
       "      <td>2226</td>\n",
       "      <td>(1,28)</td>\n",
       "      <td>96</td>\n",
       "      <td>2002558</td>\n",
       "    </tr>\n",
       "    <tr>\n",
       "      <th>2294098</th>\n",
       "      <td>2226</td>\n",
       "      <td>(1,29)</td>\n",
       "      <td>70</td>\n",
       "      <td>2002559</td>\n",
       "    </tr>\n",
       "  </tbody>\n",
       "</table>\n",
       "<p>2294099 rows × 4 columns</p>\n",
       "</div>"
      ],
      "text/plain": [
       "          day      xy  temperature       id\n",
       "0        2226   (2,0)           72  2002560\n",
       "1        2226   (2,1)           75  2002561\n",
       "2        2226   (2,2)           95  2002562\n",
       "3        2226   (2,3)           78  2002563\n",
       "4        2226   (2,4)           82  2002564\n",
       "...       ...     ...          ...      ...\n",
       "2294094  2226  (1,25)           73  2002555\n",
       "2294095  2226  (1,26)           78  2002556\n",
       "2294096  2226  (1,27)           84  2002557\n",
       "2294097  2226  (1,28)           96  2002558\n",
       "2294098  2226  (1,29)           70  2002559\n",
       "\n",
       "[2294099 rows x 4 columns]"
      ]
     },
     "execution_count": 3,
     "metadata": {},
     "output_type": "execute_result"
    }
   ],
   "source": [
    "temp_readings"
   ]
  },
  {
   "cell_type": "code",
   "execution_count": 4,
   "id": "f4ad1228c21136d6",
   "metadata": {
    "ExecuteTime": {
     "end_time": "2023-08-07T21:06:05.125590100Z",
     "start_time": "2023-08-07T21:06:05.114593300Z"
    },
    "collapsed": false,
    "jupyter": {
     "outputs_hidden": false
    }
   },
   "outputs": [
    {
     "data": {
      "text/html": [
       "<div>\n",
       "<style scoped>\n",
       "    .dataframe tbody tr th:only-of-type {\n",
       "        vertical-align: middle;\n",
       "    }\n",
       "\n",
       "    .dataframe tbody tr th {\n",
       "        vertical-align: top;\n",
       "    }\n",
       "\n",
       "    .dataframe thead th {\n",
       "        text-align: right;\n",
       "    }\n",
       "</style>\n",
       "<table border=\"1\" class=\"dataframe\">\n",
       "  <thead>\n",
       "    <tr style=\"text-align: right;\">\n",
       "      <th></th>\n",
       "      <th>day</th>\n",
       "      <th>xy</th>\n",
       "      <th>score</th>\n",
       "      <th>content</th>\n",
       "      <th>id</th>\n",
       "    </tr>\n",
       "  </thead>\n",
       "  <tbody>\n",
       "    <tr>\n",
       "      <th>0</th>\n",
       "      <td>1</td>\n",
       "      <td>(0,5)</td>\n",
       "      <td>None</td>\n",
       "      <td>to his brothers commanded him to remain succee...</td>\n",
       "      <td>0</td>\n",
       "    </tr>\n",
       "    <tr>\n",
       "      <th>1</th>\n",
       "      <td>1</td>\n",
       "      <td>(0,5)</td>\n",
       "      <td>None</td>\n",
       "      <td>country to surat might go from thence to basso...</td>\n",
       "      <td>1</td>\n",
       "    </tr>\n",
       "    <tr>\n",
       "      <th>2</th>\n",
       "      <td>1</td>\n",
       "      <td>(0,5)</td>\n",
       "      <td>None</td>\n",
       "      <td>to it was obliged to let it lie where it was a...</td>\n",
       "      <td>2</td>\n",
       "    </tr>\n",
       "    <tr>\n",
       "      <th>3</th>\n",
       "      <td>1</td>\n",
       "      <td>(0,5)</td>\n",
       "      <td>None</td>\n",
       "      <td>found cure both for soul and body opened the c...</td>\n",
       "      <td>3</td>\n",
       "    </tr>\n",
       "    <tr>\n",
       "      <th>4</th>\n",
       "      <td>1</td>\n",
       "      <td>(0,6)</td>\n",
       "      <td>None</td>\n",
       "      <td>means indeed the russians travel more in winte...</td>\n",
       "      <td>4</td>\n",
       "    </tr>\n",
       "    <tr>\n",
       "      <th>...</th>\n",
       "      <td>...</td>\n",
       "      <td>...</td>\n",
       "      <td>...</td>\n",
       "      <td>...</td>\n",
       "      <td>...</td>\n",
       "    </tr>\n",
       "    <tr>\n",
       "      <th>1711158</th>\n",
       "      <td>2549</td>\n",
       "      <td>(29,27)</td>\n",
       "      <td>None</td>\n",
       "      <td>of her own mamma she was thoughtful for moment...</td>\n",
       "      <td>1711158</td>\n",
       "    </tr>\n",
       "    <tr>\n",
       "      <th>1711159</th>\n",
       "      <td>2549</td>\n",
       "      <td>(29,27)</td>\n",
       "      <td>None</td>\n",
       "      <td>boat with orders to secure her and bring away ...</td>\n",
       "      <td>1711159</td>\n",
       "    </tr>\n",
       "    <tr>\n",
       "      <th>1711160</th>\n",
       "      <td>2549</td>\n",
       "      <td>(29,27)</td>\n",
       "      <td>None</td>\n",
       "      <td>for the expedition ernest begged to be of the ...</td>\n",
       "      <td>1711160</td>\n",
       "    </tr>\n",
       "    <tr>\n",
       "      <th>1711161</th>\n",
       "      <td>2549</td>\n",
       "      <td>(29,27)</td>\n",
       "      <td>None</td>\n",
       "      <td>in order to act the rebel to their authority a...</td>\n",
       "      <td>1711161</td>\n",
       "    </tr>\n",
       "    <tr>\n",
       "      <th>1711162</th>\n",
       "      <td>2549</td>\n",
       "      <td>(29,27)</td>\n",
       "      <td>None</td>\n",
       "      <td>severe travelling without house or tree and we...</td>\n",
       "      <td>1711162</td>\n",
       "    </tr>\n",
       "  </tbody>\n",
       "</table>\n",
       "<p>1711163 rows × 5 columns</p>\n",
       "</div>"
      ],
      "text/plain": [
       "          day       xy score  \\\n",
       "0           1    (0,5)  None   \n",
       "1           1    (0,5)  None   \n",
       "2           1    (0,5)  None   \n",
       "3           1    (0,5)  None   \n",
       "4           1    (0,6)  None   \n",
       "...       ...      ...   ...   \n",
       "1711158  2549  (29,27)  None   \n",
       "1711159  2549  (29,27)  None   \n",
       "1711160  2549  (29,27)  None   \n",
       "1711161  2549  (29,27)  None   \n",
       "1711162  2549  (29,27)  None   \n",
       "\n",
       "                                                   content       id  \n",
       "0        to his brothers commanded him to remain succee...        0  \n",
       "1        country to surat might go from thence to basso...        1  \n",
       "2        to it was obliged to let it lie where it was a...        2  \n",
       "3        found cure both for soul and body opened the c...        3  \n",
       "4        means indeed the russians travel more in winte...        4  \n",
       "...                                                    ...      ...  \n",
       "1711158  of her own mamma she was thoughtful for moment...  1711158  \n",
       "1711159  boat with orders to secure her and bring away ...  1711159  \n",
       "1711160  for the expedition ernest begged to be of the ...  1711160  \n",
       "1711161  in order to act the rebel to their authority a...  1711161  \n",
       "1711162  severe travelling without house or tree and we...  1711162  \n",
       "\n",
       "[1711163 rows x 5 columns]"
      ]
     },
     "execution_count": 4,
     "metadata": {},
     "output_type": "execute_result"
    }
   ],
   "source": [
    "tweets"
   ]
  },
  {
   "cell_type": "code",
   "execution_count": 5,
   "id": "e8fbc3e67193fbf6",
   "metadata": {
    "ExecuteTime": {
     "end_time": "2023-08-07T21:06:05.148432Z",
     "start_time": "2023-08-07T21:06:05.121591200Z"
    },
    "collapsed": false,
    "jupyter": {
     "outputs_hidden": false
    }
   },
   "outputs": [
    {
     "data": {
      "text/html": [
       "<div>\n",
       "<style scoped>\n",
       "    .dataframe tbody tr th:only-of-type {\n",
       "        vertical-align: middle;\n",
       "    }\n",
       "\n",
       "    .dataframe tbody tr th {\n",
       "        vertical-align: top;\n",
       "    }\n",
       "\n",
       "    .dataframe thead th {\n",
       "        text-align: right;\n",
       "    }\n",
       "</style>\n",
       "<table border=\"1\" class=\"dataframe\">\n",
       "  <thead>\n",
       "    <tr style=\"text-align: right;\">\n",
       "      <th></th>\n",
       "      <th>event_day</th>\n",
       "      <th>notification_day</th>\n",
       "      <th>xy</th>\n",
       "      <th>id</th>\n",
       "    </tr>\n",
       "  </thead>\n",
       "  <tbody>\n",
       "    <tr>\n",
       "      <th>0</th>\n",
       "      <td>29</td>\n",
       "      <td>32</td>\n",
       "      <td>(1,25)</td>\n",
       "      <td>0</td>\n",
       "    </tr>\n",
       "    <tr>\n",
       "      <th>1</th>\n",
       "      <td>34</td>\n",
       "      <td>37</td>\n",
       "      <td>(9,24)</td>\n",
       "      <td>1</td>\n",
       "    </tr>\n",
       "    <tr>\n",
       "      <th>2</th>\n",
       "      <td>38</td>\n",
       "      <td>41</td>\n",
       "      <td>(20,24)</td>\n",
       "      <td>2</td>\n",
       "    </tr>\n",
       "    <tr>\n",
       "      <th>3</th>\n",
       "      <td>39</td>\n",
       "      <td>42</td>\n",
       "      <td>(0,23)</td>\n",
       "      <td>3</td>\n",
       "    </tr>\n",
       "    <tr>\n",
       "      <th>4</th>\n",
       "      <td>39</td>\n",
       "      <td>42</td>\n",
       "      <td>(28,7)</td>\n",
       "      <td>4</td>\n",
       "    </tr>\n",
       "    <tr>\n",
       "      <th>...</th>\n",
       "      <td>...</td>\n",
       "      <td>...</td>\n",
       "      <td>...</td>\n",
       "      <td>...</td>\n",
       "    </tr>\n",
       "    <tr>\n",
       "      <th>5600</th>\n",
       "      <td>2332</td>\n",
       "      <td>2335</td>\n",
       "      <td>(27,7)</td>\n",
       "      <td>5600</td>\n",
       "    </tr>\n",
       "    <tr>\n",
       "      <th>5601</th>\n",
       "      <td>2333</td>\n",
       "      <td>2336</td>\n",
       "      <td>(0,2)</td>\n",
       "      <td>5601</td>\n",
       "    </tr>\n",
       "    <tr>\n",
       "      <th>5602</th>\n",
       "      <td>2334</td>\n",
       "      <td>2337</td>\n",
       "      <td>(13,9)</td>\n",
       "      <td>5602</td>\n",
       "    </tr>\n",
       "    <tr>\n",
       "      <th>5603</th>\n",
       "      <td>2340</td>\n",
       "      <td>2343</td>\n",
       "      <td>(2,17)</td>\n",
       "      <td>5603</td>\n",
       "    </tr>\n",
       "    <tr>\n",
       "      <th>5604</th>\n",
       "      <td>2340</td>\n",
       "      <td>2345</td>\n",
       "      <td>(22,22)</td>\n",
       "      <td>5604</td>\n",
       "    </tr>\n",
       "  </tbody>\n",
       "</table>\n",
       "<p>5605 rows × 4 columns</p>\n",
       "</div>"
      ],
      "text/plain": [
       "      event_day  notification_day       xy    id\n",
       "0            29                32   (1,25)     0\n",
       "1            34                37   (9,24)     1\n",
       "2            38                41  (20,24)     2\n",
       "3            39                42   (0,23)     3\n",
       "4            39                42   (28,7)     4\n",
       "...         ...               ...      ...   ...\n",
       "5600       2332              2335   (27,7)  5600\n",
       "5601       2333              2336    (0,2)  5601\n",
       "5602       2334              2337   (13,9)  5602\n",
       "5603       2340              2343   (2,17)  5603\n",
       "5604       2340              2345  (22,22)  5604\n",
       "\n",
       "[5605 rows x 4 columns]"
      ]
     },
     "execution_count": 5,
     "metadata": {},
     "output_type": "execute_result"
    }
   ],
   "source": [
    "fire_alerts"
   ]
  },
  {
   "cell_type": "markdown",
   "id": "1b5c370b670e88b3",
   "metadata": {
    "collapsed": false,
    "jupyter": {
     "outputs_hidden": false
    }
   },
   "source": [
    "# Experiment #1: Predicting fire alerts using temperature readings\n",
    "\n",
    "Every sector at every day has a temperature reading, while only some sectors have messages. To start, we'll try to predict fire alerts on the day of using temperature readings only from the past 7 days.\n"
   ]
  },
  {
   "cell_type": "code",
   "execution_count": 6,
   "id": "f21ac86e9d8cb78d",
   "metadata": {
    "ExecuteTime": {
     "end_time": "2023-08-07T18:45:50.183560100Z",
     "start_time": "2023-08-07T18:44:35.044092900Z"
    },
    "collapsed": false,
    "jupyter": {
     "outputs_hidden": false
    }
   },
   "outputs": [
    {
     "data": {
      "application/vnd.jupyter.widget-view+json": {
       "model_id": "eb908119a9fd45d6824bcda2c1ccc110",
       "version_major": 2,
       "version_minor": 0
      },
      "text/plain": [
       "  0%|          | 0/900 [00:00<?, ?it/s]"
      ]
     },
     "metadata": {},
     "output_type": "display_data"
    }
   ],
   "source": [
    "from tqdm.notebook import tqdm\n",
    "\n",
    "\n",
    "def rolling_samples(series, window=7):\n",
    "    output = []\n",
    "    for i in range(window, len(series)):\n",
    "        sample = series[i - window : i].tolist()\n",
    "        output.append((sample, i))\n",
    "    return output\n",
    "\n",
    "\n",
    "samples = []\n",
    "for name, group in tqdm(temp_readings.groupby(\"xy\")):\n",
    "    group = group.sort_values(\"day\")\n",
    "    events = fire_alerts[fire_alerts[\"xy\"] == name][\"event_day\"].values\n",
    "    temps = rolling_samples(group[\"temperature\"].set_axis(group[\"day\"]))\n",
    "\n",
    "    for temp, i in temps:\n",
    "        samples.append((temp, 1 if i in events else 0))"
   ]
  },
  {
   "cell_type": "code",
   "execution_count": 7,
   "id": "201a2baeb5854335",
   "metadata": {
    "ExecuteTime": {
     "end_time": "2023-08-07T18:45:54.227000300Z",
     "start_time": "2023-08-07T18:45:54.221966900Z"
    },
    "collapsed": false,
    "jupyter": {
     "outputs_hidden": false
    }
   },
   "outputs": [
    {
     "data": {
      "text/plain": [
       "2287799"
      ]
     },
     "execution_count": 7,
     "metadata": {},
     "output_type": "execute_result"
    }
   ],
   "source": [
    "import numpy as np\n",
    "\n",
    "samples_x, samples_y = zip(*samples)\n",
    "samples_x, samples_y = np.array(samples_x), np.array(samples_y)\n",
    "\n",
    "len(samples_x)"
   ]
  },
  {
   "cell_type": "code",
   "execution_count": 8,
   "id": "8ec977a40ab5d01b",
   "metadata": {
    "ExecuteTime": {
     "end_time": "2023-08-07T03:05:26.197107300Z",
     "start_time": "2023-08-07T03:05:26.183111700Z"
    },
    "collapsed": false,
    "jupyter": {
     "outputs_hidden": false
    }
   },
   "outputs": [
    {
     "data": {
      "text/plain": [
       "array([[54, 47, 59, ..., 56, 54, 55],\n",
       "       [47, 59, 61, ..., 54, 55, 48],\n",
       "       [59, 61, 56, ..., 55, 48, 41],\n",
       "       ...,\n",
       "       [35, 20, 42, ..., 40, 47, 43],\n",
       "       [20, 42, 33, ..., 47, 43, 30],\n",
       "       [42, 33, 40, ..., 43, 30, 47]])"
      ]
     },
     "execution_count": 8,
     "metadata": {},
     "output_type": "execute_result"
    }
   ],
   "source": [
    "samples_x"
   ]
  },
  {
   "cell_type": "code",
   "execution_count": 9,
   "id": "cb704cce7821301c",
   "metadata": {
    "ExecuteTime": {
     "end_time": "2023-08-07T03:05:26.204108400Z",
     "start_time": "2023-08-07T03:05:26.192107700Z"
    },
    "collapsed": false,
    "jupyter": {
     "outputs_hidden": false
    }
   },
   "outputs": [
    {
     "data": {
      "text/plain": [
       "array([0, 0, 0, ..., 0, 0, 0])"
      ]
     },
     "execution_count": 9,
     "metadata": {},
     "output_type": "execute_result"
    }
   ],
   "source": [
    "samples_y"
   ]
  },
  {
   "cell_type": "code",
   "execution_count": 10,
   "id": "41c5d1d35e5ab140",
   "metadata": {
    "ExecuteTime": {
     "end_time": "2023-08-07T18:45:55.226496200Z",
     "start_time": "2023-08-07T18:45:54.229009700Z"
    },
    "collapsed": false,
    "jupyter": {
     "outputs_hidden": false
    }
   },
   "outputs": [],
   "source": [
    "from sklearn.model_selection import train_test_split\n",
    "\n",
    "train_x, test_x, train_y, test_y = train_test_split(samples_x, samples_y, test_size=0.2)"
   ]
  },
  {
   "cell_type": "code",
   "execution_count": 11,
   "id": "ba5aa9eac85f40b5",
   "metadata": {
    "ExecuteTime": {
     "end_time": "2023-08-07T18:45:55.906791Z",
     "start_time": "2023-08-07T18:45:55.232501400Z"
    },
    "collapsed": false,
    "jupyter": {
     "outputs_hidden": false
    }
   },
   "outputs": [
    {
     "data": {
      "image/png": "[encoded data removed]",
      "text/plain": [
       "<Figure size 1000x500 with 1 Axes>"
      ]
     },
     "metadata": {},
     "output_type": "display_data"
    }
   ],
   "source": [
    "# plot distribution of samples\n",
    "import matplotlib.pyplot as plt\n",
    "\n",
    "plt.figure(figsize=(10, 5))\n",
    "plt.bar([\"No Fire\", \"Fire\"], [len(train_y[train_y == 0]), len(train_y[train_y == 1])])\n",
    "plt.title(\"Distribution of No Fire vs Fire Samples\")\n",
    "plt.xlabel(\"Sample Type\")\n",
    "plt.ylabel(\"Number of Samples\")\n",
    "plt.yscale(\"log\")\n",
    "plt.show()"
   ]
  },
  {
   "cell_type": "code",
   "execution_count": 12,
   "id": "d0657aa324dca767",
   "metadata": {
    "collapsed": false,
    "jupyter": {
     "outputs_hidden": false
    }
   },
   "outputs": [],
   "source": [
    "from imblearn.combine import SMOTEENN\n",
    "from imblearn.over_sampling import SMOTE\n",
    "from imblearn.under_sampling import RandomUnderSampler\n",
    "\n",
    "# correct any imbalance before training\n",
    "# smoteenn = SMOTEENN()\n",
    "# train_x, train_y = smoteenn.fit_resample(train_x, train_y)\n",
    "\n",
    "smote = SMOTE()\n",
    "train_x, train_y = smote.fit_resample(train_x, train_y)\n",
    "\n",
    "# rus = RandomUnderSampler()\n",
    "# train_x, train_y = rus.fit_resample(train_x, train_y)"
   ]
  },
  {
   "cell_type": "code",
   "execution_count": 13,
   "id": "93a77a3fad37c36c",
   "metadata": {
    "ExecuteTime": {
     "end_time": "2023-08-07T03:05:27.800927400Z",
     "start_time": "2023-08-07T03:05:27.543173900Z"
    },
    "collapsed": false,
    "jupyter": {
     "outputs_hidden": false
    }
   },
   "outputs": [
    {
     "data": {
      "image/png": "[encoded data removed]",
      "text/plain": [
       "<Figure size 1000x500 with 1 Axes>"
      ]
     },
     "metadata": {},
     "output_type": "display_data"
    }
   ],
   "source": [
    "# let's plot after fixing it now\n",
    "plt.figure(figsize=(10, 5))\n",
    "plt.bar([\"No Fire\", \"Fire\"], [len(train_y[train_y == 0]), len(train_y[train_y == 1])])\n",
    "plt.title(\"Distribution of No Fire vs Fire Samples\")\n",
    "plt.xlabel(\"Sample Type\")\n",
    "plt.ylabel(\"Number of Samples\")\n",
    "plt.yscale(\"log\")\n",
    "plt.show()"
   ]
  },
  {
   "cell_type": "code",
   "execution_count": 14,
   "id": "120a7e80fd1fb0a9",
   "metadata": {
    "ExecuteTime": {
     "end_time": "2023-08-07T03:05:27.801928300Z",
     "start_time": "2023-08-07T03:05:27.784932500Z"
    },
    "collapsed": false,
    "jupyter": {
     "outputs_hidden": false
    }
   },
   "outputs": [],
   "source": [
    "from sklearn.preprocessing import StandardScaler\n",
    "\n",
    "\n",
    "# function to preprocess our data\n",
    "def preprocess_train(x_data, y_data):\n",
    "    x_scaler = StandardScaler()\n",
    "    x_data = x_scaler.fit_transform(x_data)\n",
    "    y_data = np.array(pd.get_dummies(y_data))\n",
    "    return x_data, y_data, x_scaler\n",
    "\n",
    "\n",
    "def preprocess_test(x_data, y_data, x_scaler):\n",
    "    x_data = x_scaler.transform(x_data)\n",
    "    y_data = np.array(pd.get_dummies(y_data))\n",
    "    return x_data, y_data"
   ]
  },
  {
   "cell_type": "code",
   "execution_count": 15,
   "id": "fdaff0a9a5b17c16",
   "metadata": {
    "collapsed": false,
    "jupyter": {
     "outputs_hidden": false
    }
   },
   "outputs": [],
   "source": [
    "import pickle\n",
    "\n",
    "train_x, train_y, scaler = preprocess_train(train_x, train_y)\n",
    "test_x, test_y = preprocess_test(test_x, test_y, scaler)\n",
    "\n",
    "# save the scaler for future use\n",
    "with open(\"scaler.pkl\", \"wb\") as f:\n",
    "    pickle.dump(scaler, f)"
   ]
  },
  {
   "cell_type": "code",
   "execution_count": 16,
   "id": "fb4ac1c35973b95e",
   "metadata": {
    "ExecuteTime": {
     "end_time": "2023-08-07T18:45:58.981244600Z",
     "start_time": "2023-08-07T18:45:55.890076600Z"
    },
    "collapsed": false,
    "jupyter": {
     "outputs_hidden": false
    }
   },
   "outputs": [
    {
     "name": "stderr",
     "output_type": "stream",
     "text": [
      "2023-08-08 21:44:22.027116: I tensorflow/core/platform/cpu_feature_guard.cc:194] This TensorFlow binary is optimized with oneAPI Deep Neural Network Library (oneDNN) to use the following CPU instructions in performance-critical operations:  SSE3 SSE4.1 SSE4.2 AVX\n",
      "To enable them in other operations, rebuild TensorFlow with the appropriate compiler flags.\n",
      "2023-08-08 21:44:22.159917: I tensorflow/core/util/util.cc:169] oneDNN custom operations are on. You may see slightly different numerical results due to floating-point round-off errors from different computation orders. To turn them off, set the environment variable `TF_ENABLE_ONEDNN_OPTS=0`.\n"
     ]
    }
   ],
   "source": [
    "from keras import Sequential\n",
    "from keras.layers import Dense\n",
    "\n",
    "\n",
    "# implement a simple neural network\n",
    "def build_model(length_x):\n",
    "    model = Sequential(\n",
    "        [\n",
    "            Dense(512, activation=\"swish\", input_shape=(length_x,)),\n",
    "            Dense(2, activation=\"softmax\"),\n",
    "        ]\n",
    "    )\n",
    "\n",
    "    model.compile(\n",
    "        optimizer=\"Adam\", loss=\"categorical_crossentropy\", metrics=[\"accuracy\"]\n",
    "    )\n",
    "    return model"
   ]
  },
  {
   "cell_type": "code",
   "execution_count": 17,
   "id": "157ea45f87dd5d1e",
   "metadata": {
    "ExecuteTime": {
     "end_time": "2023-08-07T03:05:32.557223500Z",
     "start_time": "2023-08-07T03:05:30.358175700Z"
    },
    "collapsed": false,
    "jupyter": {
     "outputs_hidden": false
    }
   },
   "outputs": [
    {
     "name": "stderr",
     "output_type": "stream",
     "text": [
      "2023-08-08 21:44:23.696202: I tensorflow/core/platform/cpu_feature_guard.cc:194] This TensorFlow binary is optimized with oneAPI Deep Neural Network Library (oneDNN) to use the following CPU instructions in performance-critical operations:  SSE3 SSE4.1 SSE4.2 AVX\n",
      "To enable them in other operations, rebuild TensorFlow with the appropriate compiler flags.\n",
      "2023-08-08 21:44:24.019991: I tensorflow/core/common_runtime/gpu/gpu_device.cc:1637] Created device /job:localhost/replica:0/task:0/device:GPU:0 with 14942 MB memory:  -> device: 0, name: Quadro RTX 5000, pci bus id: 0000:1d:00.0, compute capability: 7.5\n"
     ]
    },
    {
     "name": "stdout",
     "output_type": "stream",
     "text": [
      "Epoch 1/100\n",
      "1427/1427 [==============================] - 8s 5ms/step - loss: 0.0572 - accuracy: 0.9808 - val_loss: 0.0236 - val_accuracy: 0.9935\n",
      "Epoch 2/100\n",
      "1427/1427 [==============================] - 7s 5ms/step - loss: 0.0336 - accuracy: 0.9888 - val_loss: 0.0364 - val_accuracy: 0.9879\n",
      "Epoch 3/100\n",
      "1427/1427 [==============================] - 7s 5ms/step - loss: 0.0325 - accuracy: 0.9892 - val_loss: 0.0280 - val_accuracy: 0.9915\n",
      "Epoch 4/100\n",
      "1427/1427 [==============================] - 7s 5ms/step - loss: 0.0295 - accuracy: 0.9904 - val_loss: 0.0169 - val_accuracy: 0.9967\n",
      "Epoch 5/100\n",
      "1427/1427 [==============================] - 7s 5ms/step - loss: 0.0262 - accuracy: 0.9917 - val_loss: 0.0262 - val_accuracy: 0.9931\n",
      "Epoch 6/100\n",
      "1427/1427 [==============================] - 6s 4ms/step - loss: 0.0243 - accuracy: 0.9924 - val_loss: 0.0165 - val_accuracy: 0.9964\n",
      "Epoch 6: early stopping\n"
     ]
    },
    {
     "data": {
      "text/plain": [
       "<keras.callbacks.History at 0x7f0b1c41a610>"
      ]
     },
     "execution_count": 17,
     "metadata": {},
     "output_type": "execute_result"
    }
   ],
   "source": [
    "from keras.callbacks import EarlyStopping\n",
    "\n",
    "callbacks = [\n",
    "    EarlyStopping(\n",
    "        # Stop training when `val_loss` is no longer improving\n",
    "        monitor=\"val_loss\",\n",
    "        min_delta=1e-2,\n",
    "        patience=5,\n",
    "        verbose=1,\n",
    "    )\n",
    "]\n",
    "\n",
    "dnn_model = build_model(len(samples_x[0]))\n",
    "\n",
    "dnn_model.fit(\n",
    "    train_x,\n",
    "    train_y,\n",
    "    epochs=100,\n",
    "    callbacks=callbacks,\n",
    "    batch_size=2048,\n",
    "    validation_split=0.2,\n",
    "    verbose=1,\n",
    ")"
   ]
  },
  {
   "cell_type": "code",
   "execution_count": 18,
   "id": "645098d71f61386f",
   "metadata": {
    "collapsed": false,
    "jupyter": {
     "outputs_hidden": false
    }
   },
   "outputs": [
    {
     "name": "stdout",
     "output_type": "stream",
     "text": [
      "894/894 [==============================] - 3s 3ms/step - loss: 0.0288 - accuracy: 0.9903\n"
     ]
    },
    {
     "data": {
      "text/plain": [
       "{'loss': 0.028765801340341568, 'accuracy': 0.990300714969635}"
      ]
     },
     "execution_count": 18,
     "metadata": {},
     "output_type": "execute_result"
    }
   ],
   "source": [
    "dnn_model.evaluate(test_x, test_y, batch_size=512, return_dict=True)"
   ]
  },
  {
   "cell_type": "code",
   "execution_count": 19,
   "id": "1687e65110b509e5",
   "metadata": {
    "collapsed": false,
    "jupyter": {
     "outputs_hidden": false
    }
   },
   "outputs": [
    {
     "data": {
      "text/plain": [
       "0.4996678031296442"
      ]
     },
     "execution_count": 19,
     "metadata": {},
     "output_type": "execute_result"
    }
   ],
   "source": [
    "# calculate the accuracy if we always predict [1, 0] to be the output\n",
    "from sklearn.metrics import accuracy_score\n",
    "import random\n",
    "\n",
    "random_predictions = [random.choice([[0, 1], [1, 0]]) for _ in range(len(test_y))]\n",
    "\n",
    "accuracy_score(test_y, np.array(random_predictions))"
   ]
  },
  {
   "cell_type": "code",
   "execution_count": 20,
   "id": "89f6f846c0ca499b",
   "metadata": {
    "collapsed": false,
    "jupyter": {
     "outputs_hidden": false
    }
   },
   "outputs": [
    {
     "name": "stdout",
     "output_type": "stream",
     "text": [
      "1/1 [==============================] - 0s 92ms/step\n"
     ]
    },
    {
     "data": {
      "text/plain": [
       "array([[0.02222086, 0.97777915]], dtype=float32)"
      ]
     },
     "execution_count": 20,
     "metadata": {},
     "output_type": "execute_result"
    }
   ],
   "source": [
    "# find the index of a [0, 1] example in the test y and predict it\n",
    "idx = np.where(test_y == [0, 1])[0][0]\n",
    "dnn_model.predict(test_x[idx : idx + 1])"
   ]
  },
  {
   "cell_type": "markdown",
   "id": "cb538401787f6132",
   "metadata": {
    "collapsed": false,
    "jupyter": {
     "outputs_hidden": false
    }
   },
   "source": [
    "The model is able to be very accurate, but this relies purely on temperature data. Before we move on to NLP and text analysis, let's try implementing an LSTM for this problem\n"
   ]
  },
  {
   "cell_type": "markdown",
   "id": "1bc4b7685ae23a6b",
   "metadata": {
    "collapsed": false,
    "jupyter": {
     "outputs_hidden": false
    }
   },
   "source": [
    "# Experiment #2: Predicting fire alerts using temperature readings with an LSTM\n",
    "\n",
    "The LSTM will take in the temperature readings from the past 7 days and output a prediction for the 7th day.\n"
   ]
  },
  {
   "cell_type": "code",
   "execution_count": 21,
   "id": "40fef364e9a5405c",
   "metadata": {
    "collapsed": false,
    "jupyter": {
     "outputs_hidden": false
    }
   },
   "outputs": [],
   "source": [
    "lstm_train_x = train_x.reshape((train_x.shape[0], train_x.shape[1], 1))\n",
    "lstm_test_x = test_x.reshape((test_x.shape[0], test_x.shape[1], 1))"
   ]
  },
  {
   "cell_type": "code",
   "execution_count": 22,
   "id": "46c71b6da8ce5f27",
   "metadata": {
    "collapsed": false,
    "jupyter": {
     "outputs_hidden": false
    }
   },
   "outputs": [],
   "source": [
    "from keras.layers import LSTM\n",
    "\n",
    "\n",
    "def build_lstm_model(length_x):\n",
    "    model = Sequential(\n",
    "        [\n",
    "            LSTM(50, activation=\"swish\", input_shape=(length_x, 1)),\n",
    "            Dense(2, activation=\"softmax\"),\n",
    "        ]\n",
    "    )\n",
    "\n",
    "    model.compile(\n",
    "        optimizer=\"adam\", loss=\"categorical_crossentropy\", metrics=[\"accuracy\"]\n",
    "    )\n",
    "    return model"
   ]
  },
  {
   "cell_type": "code",
   "execution_count": 23,
   "id": "dde551093bbf40be",
   "metadata": {
    "collapsed": false,
    "jupyter": {
     "outputs_hidden": false
    }
   },
   "outputs": [
    {
     "name": "stdout",
     "output_type": "stream",
     "text": [
      "WARNING:tensorflow:Layer lstm will not use cuDNN kernels since it doesn't meet the criteria. It will use a generic GPU kernel as fallback when running on GPU.\n",
      "Epoch 1/100\n",
      "714/714 [==============================] - 16s 20ms/step - loss: 0.1994 - accuracy: 0.9187 - val_loss: 0.0408 - val_accuracy: 0.9919\n",
      "Epoch 2/100\n",
      "714/714 [==============================] - 15s 21ms/step - loss: 0.0331 - accuracy: 0.9897 - val_loss: 0.0371 - val_accuracy: 0.9901\n",
      "Epoch 3/100\n",
      "714/714 [==============================] - 14s 20ms/step - loss: 0.0284 - accuracy: 0.9912 - val_loss: 0.0107 - val_accuracy: 0.9983\n",
      "Epoch 4/100\n",
      "714/714 [==============================] - 14s 20ms/step - loss: 0.0247 - accuracy: 0.9924 - val_loss: 0.0090 - val_accuracy: 0.9986\n",
      "Epoch 5/100\n",
      "714/714 [==============================] - 15s 21ms/step - loss: 0.0235 - accuracy: 0.9929 - val_loss: 0.0581 - val_accuracy: 0.9808\n",
      "Epoch 6/100\n",
      "714/714 [==============================] - 15s 21ms/step - loss: 0.0229 - accuracy: 0.9931 - val_loss: 0.0155 - val_accuracy: 0.9971\n",
      "Epoch 7/100\n",
      "714/714 [==============================] - 15s 21ms/step - loss: 0.0222 - accuracy: 0.9934 - val_loss: 0.0266 - val_accuracy: 0.9934\n",
      "Epoch 8/100\n",
      "714/714 [==============================] - 14s 20ms/step - loss: 0.0285 - accuracy: 0.9912 - val_loss: 0.0115 - val_accuracy: 0.9983\n",
      "Epoch 8: early stopping\n"
     ]
    },
    {
     "data": {
      "text/plain": [
       "<keras.callbacks.History at 0x7f0afbcf8610>"
      ]
     },
     "execution_count": 23,
     "metadata": {},
     "output_type": "execute_result"
    }
   ],
   "source": [
    "lstm_model = build_lstm_model(len(samples_x[0]))\n",
    "\n",
    "lstm_model.fit(\n",
    "    lstm_train_x,\n",
    "    train_y,\n",
    "    epochs=100,\n",
    "    callbacks=callbacks,\n",
    "    batch_size=4096,\n",
    "    validation_split=0.2,\n",
    "    verbose=1,\n",
    ")"
   ]
  },
  {
   "cell_type": "code",
   "execution_count": 24,
   "id": "48f958787466a4e1",
   "metadata": {
    "collapsed": false,
    "jupyter": {
     "outputs_hidden": false
    }
   },
   "outputs": [
    {
     "name": "stdout",
     "output_type": "stream",
     "text": [
      "112/112 [==============================] - 1s 7ms/step - loss: 0.0323 - accuracy: 0.9890\n"
     ]
    },
    {
     "data": {
      "text/plain": [
       "{'loss': 0.03229280933737755, 'accuracy': 0.9889588356018066}"
      ]
     },
     "execution_count": 24,
     "metadata": {},
     "output_type": "execute_result"
    }
   ],
   "source": [
    "lstm_model.evaluate(lstm_test_x, test_y, batch_size=4096, return_dict=True)"
   ]
  },
  {
   "cell_type": "code",
   "execution_count": 25,
   "id": "af61b43e9131c5d9",
   "metadata": {
    "collapsed": false,
    "jupyter": {
     "outputs_hidden": false
    }
   },
   "outputs": [
    {
     "name": "stdout",
     "output_type": "stream",
     "text": [
      "1/1 [==============================] - 0s 253ms/step\n"
     ]
    },
    {
     "data": {
      "text/plain": [
       "array([[0.01444654, 0.98555344]], dtype=float32)"
      ]
     },
     "execution_count": 25,
     "metadata": {},
     "output_type": "execute_result"
    }
   ],
   "source": [
    "idx = np.where(test_y == [0, 1])[0][0]\n",
    "lstm_model.predict(test_x[idx : idx + 1])"
   ]
  },
  {
   "cell_type": "code",
   "execution_count": 26,
   "id": "818c566b16794eb2",
   "metadata": {
    "collapsed": false,
    "jupyter": {
     "outputs_hidden": false
    }
   },
   "outputs": [],
   "source": [
    "# save our two temperature models\n",
    "dnn_model.save(\"dnn_model.h5\")\n",
    "lstm_model.save(\"lstm_model.h5\")"
   ]
  },
  {
   "cell_type": "markdown",
   "id": "bfb676613f97ffb1",
   "metadata": {
    "collapsed": false,
    "jupyter": {
     "outputs_hidden": false
    }
   },
   "source": [
    "# Experiment #3: Using a pretrained sentiment analysis model\n",
    "\n",
    "We will try to use a pretrained sentiment analysis model, BERT, to predict if a tweet relates to a fire or not.\n"
   ]
  },
  {
   "cell_type": "code",
   "execution_count": 3,
   "id": "1e33ceea0a0c7392",
   "metadata": {
    "ExecuteTime": {
     "end_time": "2023-08-08T01:03:22.340504100Z",
     "start_time": "2023-08-08T01:03:22.117426300Z"
    },
    "collapsed": false,
    "jupyter": {
     "outputs_hidden": false
    }
   },
   "outputs": [],
   "source": [
    "# output all tweets that occur at the date and location of a fire event\n",
    "# first, get all the dates and locations of fire events\n",
    "fires = []\n",
    "\n",
    "for i, row in fire_alerts.iterrows():\n",
    "    fires.append((row[\"event_day\"], row[\"xy\"]))"
   ]
  },
  {
   "cell_type": "code",
   "execution_count": 5,
   "id": "25036302dfe74b7a",
   "metadata": {
    "ExecuteTime": {
     "end_time": "2023-08-08T01:05:11.261559Z",
     "start_time": "2023-08-08T01:03:22.343506Z"
    },
    "collapsed": false,
    "jupyter": {
     "outputs_hidden": false
    }
   },
   "outputs": [
    {
     "data": {
      "application/vnd.jupyter.widget-view+json": {
       "model_id": "52083f4aa7604721a3c4b0dc76e12522",
       "version_major": 2,
       "version_minor": 0
      },
      "text/plain": [
       "  0%|          | 0/1711163 [00:00<?, ?it/s]"
      ]
     },
     "metadata": {},
     "output_type": "display_data"
    }
   ],
   "source": [
    "from tqdm.notebook import tqdm\n",
    "\n",
    "# then, get all the tweets that occur at the date and location of a fire event\n",
    "tqdm.pandas()\n",
    "\n",
    "fire_tweets = tweets.progress_apply(\n",
    "    lambda row: (row[\"day\"], row[\"xy\"]) in fires, axis=1\n",
    ")"
   ]
  },
  {
   "cell_type": "code",
   "execution_count": 6,
   "id": "367413bc317716bb",
   "metadata": {
    "ExecuteTime": {
     "end_time": "2023-08-08T01:05:11.349171500Z",
     "start_time": "2023-08-08T01:05:11.299311500Z"
    },
    "collapsed": false,
    "jupyter": {
     "outputs_hidden": false
    }
   },
   "outputs": [],
   "source": [
    "fire_samples = tweets.loc[fire_tweets]\n",
    "not_fire_samples = tweets.loc[~fire_tweets]"
   ]
  },
  {
   "cell_type": "code",
   "execution_count": 7,
   "id": "1b762df1630d3b36",
   "metadata": {
    "ExecuteTime": {
     "end_time": "2023-08-08T01:05:11.436275Z",
     "start_time": "2023-08-08T01:05:11.392689500Z"
    },
    "collapsed": false,
    "jupyter": {
     "outputs_hidden": false
    }
   },
   "outputs": [],
   "source": [
    "tweet_samples_x = (\n",
    "    fire_samples[\"content\"].values.tolist()\n",
    "    + not_fire_samples[\"content\"].values.tolist()\n",
    ")\n",
    "tweet_samples_y = [1] * len(fire_samples) + [0] * len(not_fire_samples)"
   ]
  },
  {
   "cell_type": "code",
   "execution_count": 8,
   "id": "8b97f1694b8e406f",
   "metadata": {
    "ExecuteTime": {
     "end_time": "2023-08-08T01:17:23.837007700Z",
     "start_time": "2023-08-08T01:17:21.951500300Z"
    },
    "collapsed": false,
    "jupyter": {
     "outputs_hidden": false
    }
   },
   "outputs": [],
   "source": [
    "# preprocess our data\n",
    "# we need to split our data into train and test sets first\n",
    "# then we need to correct any class imbalance\n",
    "from sklearn.model_selection import train_test_split\n",
    "\n",
    "train_x, test_x, train_y, test_y = train_test_split(\n",
    "    tweet_samples_x, tweet_samples_y, test_size=0.2, stratify=tweet_samples_y\n",
    ")\n",
    "train_x, val_x, train_y, val_y = train_test_split(\n",
    "    train_x, train_y, test_size=0.2, stratify=train_y\n",
    ")"
   ]
  },
  {
   "cell_type": "code",
   "execution_count": 9,
   "id": "54ff3fdb7927666a",
   "metadata": {
    "ExecuteTime": {
     "end_time": "2023-08-08T01:17:28.045691300Z",
     "start_time": "2023-08-08T01:17:28.032123300Z"
    },
    "collapsed": false,
    "jupyter": {
     "outputs_hidden": false
    }
   },
   "outputs": [],
   "source": [
    "from datasets import Dataset, Features, Value, ClassLabel, DatasetDict\n",
    "\n",
    "features = Features(\n",
    "    {\n",
    "        \"text\": Value(\"string\"),\n",
    "        \"label\": ClassLabel(num_classes=2, names=[\"no_fire\", \"yes_fire\"]),\n",
    "    }\n",
    ")\n",
    "\n",
    "dataset = DatasetDict(\n",
    "    {\n",
    "        \"train\": Dataset.from_dict(\n",
    "            {\"text\": train_x, \"label\": train_y}, features=features\n",
    "        ),\n",
    "        \"test\": Dataset.from_dict({\"text\": test_x, \"label\": test_y}, features=features),\n",
    "        \"validation\": Dataset.from_dict(\n",
    "            {\"text\": val_x, \"label\": val_y}, features=features\n",
    "        ),\n",
    "    }\n",
    ")"
   ]
  },
  {
   "cell_type": "code",
   "execution_count": 10,
   "id": "880b42da94cbac25",
   "metadata": {
    "ExecuteTime": {
     "end_time": "2023-08-08T02:00:11.562973900Z",
     "start_time": "2023-08-08T02:00:11.031148700Z"
    },
    "collapsed": false,
    "jupyter": {
     "outputs_hidden": false
    }
   },
   "outputs": [
    {
     "data": {
      "application/vnd.jupyter.widget-view+json": {
       "model_id": "98a6fb7a8b2e476787051ff7391d7f92",
       "version_major": 2,
       "version_minor": 0
      },
      "text/plain": [
       "Map:   0%|          | 0/1095144 [00:00<?, ? examples/s]"
      ]
     },
     "metadata": {},
     "output_type": "display_data"
    },
    {
     "data": {
      "application/vnd.jupyter.widget-view+json": {
       "model_id": "a26dc9800d1f4e54a3be10dd0ca10c89",
       "version_major": 2,
       "version_minor": 0
      },
      "text/plain": [
       "Map:   0%|          | 0/342233 [00:00<?, ? examples/s]"
      ]
     },
     "metadata": {},
     "output_type": "display_data"
    },
    {
     "data": {
      "application/vnd.jupyter.widget-view+json": {
       "model_id": "032702ad753d4f659a4080022c784294",
       "version_major": 2,
       "version_minor": 0
      },
      "text/plain": [
       "Map:   0%|          | 0/273786 [00:00<?, ? examples/s]"
      ]
     },
     "metadata": {},
     "output_type": "display_data"
    }
   ],
   "source": [
    "from transformers import AutoTokenizer\n",
    "\n",
    "tokenizer = AutoTokenizer.from_pretrained(\"bert-base-uncased\")\n",
    "\n",
    "\n",
    "def tokenize_function(examples):\n",
    "    return tokenizer(\n",
    "        examples[\"text\"], padding=\"max_length\", truncation=True, max_length=300\n",
    "    )\n",
    "\n",
    "\n",
    "tokenized_datasets = dataset.map(tokenize_function, batched=True).remove_columns(\"text\")"
   ]
  },
  {
   "cell_type": "code",
   "execution_count": 11,
   "id": "6b4afe24abc5e155",
   "metadata": {
    "ExecuteTime": {
     "end_time": "2023-08-08T02:00:21.451089800Z",
     "start_time": "2023-08-08T02:00:21.387768100Z"
    },
    "collapsed": false,
    "jupyter": {
     "outputs_hidden": false
    }
   },
   "outputs": [
    {
     "data": {
      "text/plain": [
       "DatasetDict({\n",
       "    train: Dataset({\n",
       "        features: ['label', 'input_ids', 'token_type_ids', 'attention_mask'],\n",
       "        num_rows: 1095144\n",
       "    })\n",
       "    test: Dataset({\n",
       "        features: ['label', 'input_ids', 'token_type_ids', 'attention_mask'],\n",
       "        num_rows: 342233\n",
       "    })\n",
       "    validation: Dataset({\n",
       "        features: ['label', 'input_ids', 'token_type_ids', 'attention_mask'],\n",
       "        num_rows: 273786\n",
       "    })\n",
       "})"
      ]
     },
     "execution_count": 11,
     "metadata": {},
     "output_type": "execute_result"
    }
   ],
   "source": [
    "tokenized_datasets"
   ]
  },
  {
   "cell_type": "code",
   "execution_count": 12,
   "id": "b2749eb448bbf5f7",
   "metadata": {
    "ExecuteTime": {
     "end_time": "2023-08-08T01:17:37.921355Z",
     "start_time": "2023-08-08T01:17:36.804160100Z"
    },
    "collapsed": false,
    "jupyter": {
     "outputs_hidden": false
    }
   },
   "outputs": [
    {
     "name": "stderr",
     "output_type": "stream",
     "text": [
      "2023-08-08 23:34:08.084330: I tensorflow/core/platform/cpu_feature_guard.cc:194] This TensorFlow binary is optimized with oneAPI Deep Neural Network Library (oneDNN) to use the following CPU instructions in performance-critical operations:  SSE3 SSE4.1 SSE4.2 AVX\n",
      "To enable them in other operations, rebuild TensorFlow with the appropriate compiler flags.\n",
      "2023-08-08 23:34:08.237574: I tensorflow/core/util/util.cc:169] oneDNN custom operations are on. You may see slightly different numerical results due to floating-point round-off errors from different computation orders. To turn them off, set the environment variable `TF_ENABLE_ONEDNN_OPTS=0`.\n"
     ]
    }
   ],
   "source": [
    "from transformers import AutoModelForSequenceClassification\n",
    "\n",
    "id2label = {0: \"no_fire\", 1: \"yes_fire\"}\n",
    "label2id = {\"no_fire\": 0, \"yes_fire\": 1}\n",
    "\n",
    "# model should be trained by now, see train-bert.py for details\n",
    "model = AutoModelForSequenceClassification.from_pretrained(\n",
    "    \"./blaze_nlp\", num_labels=2, id2label=id2label, label2id=label2id\n",
    ")"
   ]
  },
  {
   "cell_type": "code",
   "execution_count": 13,
   "id": "2fdb3dbaca39ddb0",
   "metadata": {
    "ExecuteTime": {
     "end_time": "2023-08-08T02:00:25.352474Z",
     "start_time": "2023-08-08T02:00:24.791361200Z"
    },
    "collapsed": false,
    "jupyter": {
     "outputs_hidden": false
    }
   },
   "outputs": [
    {
     "name": "stderr",
     "output_type": "stream",
     "text": [
      "using `logging_steps` to initialize `eval_steps` to 500\n",
      "Found safetensors installation, but --save_safetensors=False. Safetensors should be a preferred weights saving format due to security and performance reasons. If your model cannot be saved by safetensors please feel free to open an issue at https://github.com/huggingface/safetensors!\n"
     ]
    },
    {
     "name": "stderr",
     "output_type": "stream",
     "text": [
      "PyTorch: setting up devices\n"
     ]
    }
   ],
   "source": [
    "from transformers import TrainingArguments, Trainer, EarlyStoppingCallback\n",
    "import transformers as tfm\n",
    "import numpy as np\n",
    "import evaluate\n",
    "import logging\n",
    "import sys\n",
    "\n",
    "\n",
    "def compute_metrics(eval_pred):\n",
    "    logits, labels = eval_pred\n",
    "    predictions = np.argmax(logits, axis=-1)\n",
    "    return metric.compute(predictions=predictions, references=labels)\n",
    "\n",
    "\n",
    "logging.basicConfig(\n",
    "    format=\"%(asctime)s - %(levelname)s - %(name)s - %(message)s\",\n",
    "    datefmt=\"%m/%d/%Y %H:%M:%S\",\n",
    "    handlers=[logging.StreamHandler(sys.stdout)],\n",
    ")\n",
    "tfm.logging.set_verbosity_info()\n",
    "\n",
    "training_args = TrainingArguments(\n",
    "    output_dir=\"test_trainer\",\n",
    "    evaluation_strategy=\"steps\",\n",
    "    save_strategy=\"steps\",\n",
    "    load_best_model_at_end=True,\n",
    "    auto_find_batch_size=True,\n",
    "    report_to=\"none\",\n",
    "    # save_safetensors=True,\n",
    "    per_device_eval_batch_size=512,\n",
    ")\n",
    "metric = evaluate.load(\"accuracy\")\n",
    "\n",
    "trainer = Trainer(\n",
    "    model=model,\n",
    "    args=training_args,\n",
    "    train_dataset=tokenized_datasets[\"train\"].shuffle(seed=42),\n",
    "    eval_dataset=tokenized_datasets[\"validation\"].shuffle(seed=42),\n",
    "    compute_metrics=compute_metrics,\n",
    "    callbacks=[EarlyStoppingCallback(early_stopping_patience=3)],\n",
    ")"
   ]
  },
  {
   "cell_type": "code",
   "execution_count": 14,
   "id": "91e8820bdb66030b",
   "metadata": {
    "ExecuteTime": {
     "end_time": "2023-08-08T01:20:46.038709Z",
     "start_time": "2023-08-08T01:20:39.152963100Z"
    },
    "collapsed": false,
    "jupyter": {
     "outputs_hidden": false
    }
   },
   "outputs": [
    {
     "name": "stderr",
     "output_type": "stream",
     "text": [
      "***** Running Evaluation *****\n",
      "  Num examples = 342233\n",
      "  Batch size = 512\n"
     ]
    },
    {
     "data": {
      "text/html": [
       "\n",
       "    <div>\n",
       "      \n",
       "      <progress value='669' max='669' style='width:300px; height:20px; vertical-align: middle;'></progress>\n",
       "      [669/669 46:52]\n",
       "    </div>\n",
       "    "
      ],
      "text/plain": [
       "<IPython.core.display.HTML object>"
      ]
     },
     "metadata": {},
     "output_type": "display_data"
    },
    {
     "name": "stdout",
     "output_type": "stream",
     "text": [
      "{'eval_loss': 0.016885794699192047, 'eval_accuracy': 0.9976653332671016, 'eval_runtime': 2818.9202, 'eval_samples_per_second': 121.406, 'eval_steps_per_second': 0.237}\n"
     ]
    }
   ],
   "source": [
    "import torch\n",
    "\n",
    "torch.cuda.empty_cache()\n",
    "\n",
    "# evaluate the model\n",
    "evaluation = trainer.evaluate(tokenized_datasets[\"test\"])\n",
    "\n",
    "print(evaluation)"
   ]
  },
  {
   "cell_type": "code",
   "execution_count": 15,
   "id": "96aa0ec29b336365",
   "metadata": {
    "ExecuteTime": {
     "end_time": "2023-08-08T01:29:28.958911900Z",
     "start_time": "2023-08-08T01:29:28.898038900Z"
    },
    "collapsed": false,
    "jupyter": {
     "outputs_hidden": false
    }
   },
   "outputs": [
    {
     "name": "stdout",
     "output_type": "stream",
     "text": [
      "undertaken it but convinced him first that his undertaking was impracticable in itself and secondly that perhaps would put it into way of being done in his absence to his satisfaction having thus brought the affairs of the\n"
     ]
    }
   ],
   "source": [
    "# grab two ranom examples, one with yes and one with no\n",
    "# grab two random examples, one with yes and one with no\n",
    "yes_idxs = np.where(np.array(test_y) == 1)[0]\n",
    "no_idxs = np.where(np.array(test_y) == 0)[0]\n",
    "\n",
    "yes_idx = yes_idxs[np.random.randint(len(yes_idxs))]\n",
    "no_idx = no_idxs[np.random.randint(len(no_idxs))]\n",
    "\n",
    "print(test_x[yes_idx])"
   ]
  },
  {
   "cell_type": "code",
   "execution_count": 16,
   "id": "3d95701fc448658c",
   "metadata": {
    "ExecuteTime": {
     "end_time": "2023-08-08T01:38:46.315048700Z",
     "start_time": "2023-08-08T01:38:46.287544600Z"
    },
    "collapsed": false,
    "jupyter": {
     "outputs_hidden": false
    }
   },
   "outputs": [
    {
     "name": "stderr",
     "output_type": "stream",
     "text": [
      "loading configuration file ./blaze_nlp/config.json\n",
      "Model config BertConfig {\n",
      "  \"_name_or_path\": \"./blaze_nlp\",\n",
      "  \"architectures\": [\n",
      "    \"BertForSequenceClassification\"\n",
      "  ],\n",
      "  \"attention_probs_dropout_prob\": 0.1,\n",
      "  \"classifier_dropout\": null,\n",
      "  \"gradient_checkpointing\": false,\n",
      "  \"hidden_act\": \"gelu\",\n",
      "  \"hidden_dropout_prob\": 0.1,\n",
      "  \"hidden_size\": 768,\n",
      "  \"id2label\": {\n",
      "    \"0\": \"no_fire\",\n",
      "    \"1\": \"yes_fire\"\n",
      "  },\n",
      "  \"initializer_range\": 0.02,\n",
      "  \"intermediate_size\": 3072,\n",
      "  \"label2id\": {\n",
      "    \"no_fire\": 0,\n",
      "    \"yes_fire\": 1\n",
      "  },\n",
      "  \"layer_norm_eps\": 1e-12,\n",
      "  \"max_position_embeddings\": 512,\n",
      "  \"model_type\": \"bert\",\n",
      "  \"num_attention_heads\": 12,\n",
      "  \"num_hidden_layers\": 12,\n",
      "  \"pad_token_id\": 0,\n",
      "  \"position_embedding_type\": \"absolute\",\n",
      "  \"problem_type\": \"single_label_classification\",\n",
      "  \"torch_dtype\": \"float32\",\n",
      "  \"transformers_version\": \"4.31.0\",\n",
      "  \"type_vocab_size\": 2,\n",
      "  \"use_cache\": true,\n",
      "  \"vocab_size\": 30522\n",
      "}\n",
      "\n",
      "loading configuration file ./blaze_nlp/config.json\n",
      "Model config BertConfig {\n",
      "  \"_name_or_path\": \"./blaze_nlp\",\n",
      "  \"architectures\": [\n",
      "    \"BertForSequenceClassification\"\n",
      "  ],\n",
      "  \"attention_probs_dropout_prob\": 0.1,\n",
      "  \"classifier_dropout\": null,\n",
      "  \"gradient_checkpointing\": false,\n",
      "  \"hidden_act\": \"gelu\",\n",
      "  \"hidden_dropout_prob\": 0.1,\n",
      "  \"hidden_size\": 768,\n",
      "  \"id2label\": {\n",
      "    \"0\": \"no_fire\",\n",
      "    \"1\": \"yes_fire\"\n",
      "  },\n",
      "  \"initializer_range\": 0.02,\n",
      "  \"intermediate_size\": 3072,\n",
      "  \"label2id\": {\n",
      "    \"no_fire\": 0,\n",
      "    \"yes_fire\": 1\n",
      "  },\n",
      "  \"layer_norm_eps\": 1e-12,\n",
      "  \"max_position_embeddings\": 512,\n",
      "  \"model_type\": \"bert\",\n",
      "  \"num_attention_heads\": 12,\n",
      "  \"num_hidden_layers\": 12,\n",
      "  \"pad_token_id\": 0,\n",
      "  \"position_embedding_type\": \"absolute\",\n",
      "  \"problem_type\": \"single_label_classification\",\n",
      "  \"torch_dtype\": \"float32\",\n",
      "  \"transformers_version\": \"4.31.0\",\n",
      "  \"type_vocab_size\": 2,\n",
      "  \"use_cache\": true,\n",
      "  \"vocab_size\": 30522\n",
      "}\n",
      "\n",
      "loading weights file ./blaze_nlp/pytorch_model.bin\n",
      "All model checkpoint weights were used when initializing BertForSequenceClassification.\n",
      "\n",
      "All the weights of BertForSequenceClassification were initialized from the model checkpoint at ./blaze_nlp.\n",
      "If your task is similar to the task the model of the checkpoint was trained on, you can already use BertForSequenceClassification for predictions without further training.\n",
      "loading file vocab.txt\n",
      "loading file tokenizer.json\n",
      "loading file added_tokens.json\n",
      "loading file special_tokens_map.json\n",
      "loading file tokenizer_config.json\n"
     ]
    },
    {
     "name": "stdout",
     "output_type": "stream",
     "text": [
      "huggingface/tokenizers: The current process just got forked, after parallelism has already been used. Disabling parallelism to avoid deadlocks...\n",
      "To disable this warning, you can either:\n",
      "\t- Avoid using `tokenizers` before the fork if possible\n",
      "\t- Explicitly set the environment variable TOKENIZERS_PARALLELISM=(true | false)\n",
      "huggingface/tokenizers: The current process just got forked, after parallelism has already been used. Disabling parallelism to avoid deadlocks...\n",
      "To disable this warning, you can either:\n",
      "\t- Avoid using `tokenizers` before the fork if possible\n",
      "\t- Explicitly set the environment variable TOKENIZERS_PARALLELISM=(true | false)\n",
      "huggingface/tokenizers: The current process just got forked, after parallelism has already been used. Disabling parallelism to avoid deadlocks...\n",
      "To disable this warning, you can either:\n",
      "\t- Avoid using `tokenizers` before the fork if possible\n",
      "\t- Explicitly set the environment variable TOKENIZERS_PARALLELISM=(true | false)\n"
     ]
    },
    {
     "name": "stderr",
     "output_type": "stream",
     "text": [
      "Xformers is not installed correctly. If you want to use memory_efficient_attention to accelerate training use the following command to install Xformers\n",
      "pip install xformers.\n"
     ]
    },
    {
     "name": "stdout",
     "output_type": "stream",
     "text": [
      "huggingface/tokenizers: The current process just got forked, after parallelism has already been used. Disabling parallelism to avoid deadlocks...\n",
      "To disable this warning, you can either:\n",
      "\t- Avoid using `tokenizers` before the fork if possible\n",
      "\t- Explicitly set the environment variable TOKENIZERS_PARALLELISM=(true | false)\n"
     ]
    }
   ],
   "source": [
    "from transformers import pipeline\n",
    "\n",
    "classifier = pipeline(\"sentiment-analysis\", model=\"./blaze_nlp\")"
   ]
  },
  {
   "cell_type": "code",
   "execution_count": 17,
   "id": "109e07221325289e",
   "metadata": {
    "ExecuteTime": {
     "end_time": "2023-08-08T01:38:46.741370900Z",
     "start_time": "2023-08-08T01:38:46.703765900Z"
    },
    "collapsed": false,
    "jupyter": {
     "outputs_hidden": false
    }
   },
   "outputs": [
    {
     "name": "stdout",
     "output_type": "stream",
     "text": [
      "had caught branch and swung myself out and plunged into the nearest thicket while silver and the rest were still hundred yards behind jim jim heard him shouting but you\n"
     ]
    },
    {
     "data": {
      "text/plain": [
       "[{'label': 'no_fire', 'score': 0.9987927675247192}]"
      ]
     },
     "execution_count": 17,
     "metadata": {},
     "output_type": "execute_result"
    }
   ],
   "source": [
    "print(test_x[no_idx])\n",
    "classifier(test_x[no_idx])"
   ]
  },
  {
   "cell_type": "code",
   "execution_count": 18,
   "id": "6979a7a81c2c9342",
   "metadata": {
    "ExecuteTime": {
     "end_time": "2023-08-08T01:38:00.385775600Z",
     "start_time": "2023-08-08T01:38:00.356032400Z"
    },
    "collapsed": false,
    "jupyter": {
     "outputs_hidden": false
    }
   },
   "outputs": [
    {
     "name": "stdout",
     "output_type": "stream",
     "text": [
      "undertaken it but convinced him first that his undertaking was impracticable in itself and secondly that perhaps would put it into way of being done in his absence to his satisfaction having thus brought the affairs of the\n"
     ]
    },
    {
     "data": {
      "text/plain": [
       "[{'label': 'no_fire', 'score': 0.9987924098968506}]"
      ]
     },
     "execution_count": 18,
     "metadata": {},
     "output_type": "execute_result"
    }
   ],
   "source": [
    "print(test_x[yes_idx])\n",
    "classifier(test_x[yes_idx])"
   ]
  },
  {
   "cell_type": "code",
   "execution_count": null,
   "id": "19d45d38",
   "metadata": {},
   "outputs": [],
   "source": []
  }
 ],
 "metadata": {
  "kernelspec": {
   "display_name": "Python 3 (ipykernel)",
   "language": "python",
   "name": "python3"
  },
  "language_info": {
   "codemirror_mode": {
    "name": "ipython",
    "version": 3
   },
   "file_extension": ".py",
   "mimetype": "text/x-python",
   "name": "python",
   "nbconvert_exporter": "python",
   "pygments_lexer": "ipython3",
   "version": "3.8.10"
  }
 },
 "nbformat": 4,
 "nbformat_minor": 5
}
