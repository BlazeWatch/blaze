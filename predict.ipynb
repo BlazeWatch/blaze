{
 "cells": [
  {
   "cell_type": "code",
   "execution_count": 1,
   "metadata": {
    "ExecuteTime": {
     "end_time": "2023-08-09T16:35:05.572757600Z",
     "start_time": "2023-08-09T16:34:53.365477400Z"
    }
   },
   "outputs": [
    {
     "name": "stderr",
     "output_type": "stream",
     "text": [
      "2023-08-09 12:34:57.049412: I tensorflow/core/platform/cpu_feature_guard.cc:182] This TensorFlow binary is optimized to use available CPU instructions in performance-critical operations.\n",
      "To enable the following instructions: AVX2 FMA, in other operations, rebuild TensorFlow with the appropriate compiler flags.\n"
     ]
    }
   ],
   "source": [
    "from transformers import pipeline\n",
    "import keras\n",
    "import numpy as np\n",
    "import pickle\n",
    "\n",
    "classifier = pipeline(\"sentiment-analysis\", model=\"./blaze_nlp\")\n",
    "lstm_model = keras.models.load_model(\"lstm_model.h5\")\n",
    "scaler = pickle.load(open(\"scaler.pkl\", \"rb\"))"
   ]
  },
  {
   "cell_type": "code",
   "execution_count": 2,
   "metadata": {
    "ExecuteTime": {
     "end_time": "2023-08-09T16:35:05.585768200Z",
     "start_time": "2023-08-09T16:35:05.582769400Z"
    }
   },
   "outputs": [],
   "source": [
    "from typing import Union\n",
    "import numpy as np\n",
    "\n",
    "\n",
    "def derive_sentiment(model_output: {\"label\": str, \"score\": float}) -> float:\n",
    "    \"\"\"\n",
    "    Derives the sentiment score from the model's output.\n",
    "\n",
    "    :param model_output: A dictionary containing the model's classification label and score.\n",
    "    :return: A sentiment score based on the model's output. Positive for 'yes_fire', negative for 'no_fire'.\n",
    "    \"\"\"\n",
    "\n",
    "    return model_output[\"score\"] * (1 if model_output[\"label\"] == \"yes_fire\" else -1)\n",
    "\n",
    "\n",
    "def predict_fire_from_temp(temperatures: Union[list[int], list[list[int]]]) -> list[dict]:\n",
    "    \"\"\"\n",
    "    Predicts fire based on the given temperatures.\n",
    "\n",
    "    :param temperatures: A list or list of lists containing temperature values.\n",
    "    :return: A list of dictionaries containing the prediction labels ('no_fire' or 'yes_fire') and scores.\n",
    "    \"\"\"\n",
    "\n",
    "    temperatures = np.array([temperatures]).reshape((-1, 7))\n",
    "    temperatures = scaler.transform(temperatures)\n",
    "    temperatures = temperatures.reshape(\n",
    "        (temperatures.shape[0], temperatures.shape[1], 1)\n",
    "    )\n",
    "\n",
    "    # predict the fire\n",
    "    predictions = lstm_model.predict(temperatures, verbose=0)\n",
    "    output = []\n",
    "    for prediction in list(predictions):\n",
    "        prediction_result = np.argmax(prediction)\n",
    "        label = [\"no_fire\", \"yes_fire\"][prediction_result]\n",
    "        score = prediction[prediction_result]\n",
    "\n",
    "        output.append({\"label\": label, \"score\": score})\n",
    "\n",
    "    return output\n",
    "\n",
    "\n",
    "def predict_fire(\n",
    "    tweets: Union[list[str], list[list[str]]],\n",
    "    temperatures: Union[list[int], list[list[int]]],\n",
    ") -> list[float]:\n",
    "    \"\"\"\n",
    "    Predicts fire based on the given tweets and temperatures.\n",
    "\n",
    "    :param tweets: A list or list of lists containing tweets. Can be an empty list.\n",
    "    :param temperatures: A list or list of lists containing temperature values.\n",
    "    :return: A list of sentiment scores combining the information from tweets and temperatures.\n",
    "             If tweets is an empty list, the function will return predictions based solely on temperatures.\n",
    "    \"\"\"\n",
    "\n",
    "    if not isinstance(temperatures[0], list):\n",
    "        temperatures = [temperatures]\n",
    "\n",
    "    if not tweets:\n",
    "        # Handle case when tweets is an empty list\n",
    "        flat_temperatures = [temp for temp_batch in temperatures for temp in temp_batch]\n",
    "        temperature_fire = predict_fire_from_temp(flat_temperatures)\n",
    "        return [derive_sentiment(temp) for temp in temperature_fire]\n",
    "\n",
    "    if len(tweets) and not isinstance(tweets[0], list):\n",
    "        tweets = [tweets]\n",
    "\n",
    "    # Flattening tweets and storing their batch indices\n",
    "    flat_tweets = []\n",
    "    tweet_batch_indices = [0]\n",
    "    for tweet_batch in tweets:\n",
    "        flat_tweets.extend(tweet_batch)\n",
    "        tweet_batch_indices.append(len(flat_tweets))\n",
    "\n",
    "    # Flattening temperatures and storing their batch indices\n",
    "    flat_temperatures = [temp for temp_batch in temperatures for temp in temp_batch]\n",
    "    temperature_batch_indices = [0]\n",
    "    for i in range(len(temperatures)):\n",
    "        temperature_batch_indices.append(\n",
    "            temperature_batch_indices[-1] + len(temperatures[i])\n",
    "        )\n",
    "\n",
    "    # Get predictions for the flattened tweets and temperatures\n",
    "    tweet_fire = classifier(flat_tweets)\n",
    "    temperature_fire = predict_fire_from_temp(flat_temperatures)\n",
    "\n",
    "    output = []\n",
    "\n",
    "    # Process predictions based on indices\n",
    "    for i in range(len(temperatures)):\n",
    "        tweet_batch_start, tweet_batch_end = (\n",
    "            tweet_batch_indices[i],\n",
    "            tweet_batch_indices[i + 1],\n",
    "        )\n",
    "        tweet_batch_result = tweet_fire[tweet_batch_start:tweet_batch_end]\n",
    "        temperature_batch_result = temperature_fire[i]\n",
    "\n",
    "        average_tweet_sentiment = 0\n",
    "        for tweet in tweet_batch_result:\n",
    "            sentiment = derive_sentiment(tweet)\n",
    "            average_tweet_sentiment += sentiment * (0.2 if sentiment < 0 else 1)\n",
    "        average_tweet_sentiment = average_tweet_sentiment / len(tweet_batch_result)\n",
    "        average_tweet_sentiment = round(average_tweet_sentiment)\n",
    "\n",
    "        temperature_sentiment = derive_sentiment(temperature_batch_result)\n",
    "\n",
    "        if not average_tweet_sentiment:\n",
    "            output.append(temperature_sentiment)\n",
    "        else:\n",
    "            output.append(average_tweet_sentiment * 0.4 + temperature_sentiment * 0.6)\n",
    "\n",
    "    return output"
   ]
  },
  {
   "cell_type": "code",
   "execution_count": 3,
   "metadata": {
    "ExecuteTime": {
     "end_time": "2023-08-09T16:35:06.680562400Z",
     "start_time": "2023-08-09T16:35:05.587769900Z"
    }
   },
   "outputs": [
    {
     "data": {
      "text/plain": "[0.9999906301498414, -1.0]"
     },
     "execution_count": 3,
     "metadata": {},
     "output_type": "execute_result"
    }
   ],
   "source": [
    "predict_fire(\n",
    "    [\n",
    "        [\"i hate this town\", \"look at that forest fire go!\", \"wow that's crazy\"],\n",
    "        [\"asdfsad\", \"asfdasdf\"]\n",
    "    ],\n",
    "    [\n",
    "        [155, 155, 155, 155, 155, 155, 155],\n",
    "        [1, 2, 3, 4, 5, 6, 7]\n",
    "    ],\n",
    ")"
   ]
  },
  {
   "cell_type": "code",
   "execution_count": 4,
   "metadata": {
    "ExecuteTime": {
     "end_time": "2023-08-09T16:36:32.785456100Z",
     "start_time": "2023-08-09T16:36:32.314891700Z"
    }
   },
   "outputs": [
    {
     "data": {
      "text/plain": "[-0.19999999999999996]"
     },
     "execution_count": 4,
     "metadata": {},
     "output_type": "execute_result"
    }
   ],
   "source": [
    "# impossible case in real life, low temperature but tweets suggesting fire\n",
    "predict_fire(\n",
    "    [\"i hate my life\", \"look at that forest fire go!\", \"wow that's crazy\"],    \n",
    "    [\n",
    "        [1, 2, 3, 4, 5, 6, 7]\n",
    "    ],\n",
    ")"
   ]
  },
  {
   "cell_type": "code",
   "execution_count": 5,
   "metadata": {
    "ExecuteTime": {
     "end_time": "2023-08-09T16:36:36.974185600Z",
     "start_time": "2023-08-09T16:36:36.674282700Z"
    }
   },
   "outputs": [
    {
     "data": {
      "text/plain": "[0.9999843835830688]"
     },
     "execution_count": 5,
     "metadata": {},
     "output_type": "execute_result"
    }
   ],
   "source": [
    "# sometimes tweets are unrelated to the fire, so the algorithm favors temperature data\n",
    "predict_fire(\n",
    "    [\"asdfsad\", \"asfdasdf\"],\n",
    "    [\n",
    "        [155, 155, 155, 155, 155, 155, 155]\n",
    "    ],\n",
    ")"
   ]
  },
  {
   "cell_type": "code",
   "execution_count": 6,
   "metadata": {
    "ExecuteTime": {
     "end_time": "2023-08-09T16:36:37.492038900Z",
     "start_time": "2023-08-09T16:36:37.433949800Z"
    }
   },
   "outputs": [
    {
     "data": {
      "text/plain": "[0.9999843835830688]"
     },
     "execution_count": 6,
     "metadata": {},
     "output_type": "execute_result"
    }
   ],
   "source": [
    "# Works even if there are no tweets that day\n",
    "predict_fire(\n",
    "    [],\n",
    "    [\n",
    "        [155, 155, 155, 155, 155, 155, 155]\n",
    "    ],\n",
    ")"
   ]
  },
  {
   "cell_type": "code",
   "execution_count": null,
   "metadata": {},
   "outputs": [],
   "source": []
  }
 ],
 "metadata": {
  "kernelspec": {
   "display_name": "torch",
   "language": "python",
   "name": "python3"
  },
  "language_info": {
   "codemirror_mode": {
    "name": "ipython",
    "version": 3
   },
   "file_extension": ".py",
   "mimetype": "text/x-python",
   "name": "python",
   "nbconvert_exporter": "python",
   "pygments_lexer": "ipython3",
   "version": "3.9.17"
  },
  "orig_nbformat": 4
 },
 "nbformat": 4,
 "nbformat_minor": 2
}
